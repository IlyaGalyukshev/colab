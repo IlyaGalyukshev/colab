{
  "nbformat": 4,
  "nbformat_minor": 0,
  "metadata": {
    "colab": {
      "provenance": [],
      "authorship_tag": "ABX9TyPRQVRhSii3X3rwahmL6Csw",
      "include_colab_link": true
    },
    "kernelspec": {
      "name": "python3",
      "display_name": "Python 3"
    },
    "language_info": {
      "name": "python"
    }
  },
  "cells": [
    {
      "cell_type": "markdown",
      "metadata": {
        "id": "view-in-github",
        "colab_type": "text"
      },
      "source": [
        "<a href=\"https://colab.research.google.com/github/IlyaGalyukshev/simple_python/blob/main/Python_Data_Science_Handbook.ipynb\" target=\"_parent\"><img src=\"https://colab.research.google.com/assets/colab-badge.svg\" alt=\"Open In Colab\"/></a>"
      ]
    },
    {
      "cell_type": "code",
      "source": [
        "import array\n",
        "import numpy as np"
      ],
      "metadata": {
        "id": "yGRFzz3usoxS"
      },
      "execution_count": 1,
      "outputs": []
    },
    {
      "cell_type": "code",
      "source": [
        "a = list(range(10))\n",
        "array.array(\"i\", a)"
      ],
      "metadata": {
        "colab": {
          "base_uri": "https://localhost:8080/"
        },
        "id": "4dQ3slFdqSQc",
        "outputId": "6e31e831-5921-4bf2-b67f-b833cd5e6a71"
      },
      "execution_count": null,
      "outputs": [
        {
          "output_type": "execute_result",
          "data": {
            "text/plain": [
              "array('i', [0, 1, 2, 3, 4, 5, 6, 7, 8, 9])"
            ]
          },
          "metadata": {},
          "execution_count": 14
        }
      ]
    },
    {
      "cell_type": "code",
      "source": [
        "np.array(a, dtype=float)"
      ],
      "metadata": {
        "colab": {
          "base_uri": "https://localhost:8080/"
        },
        "id": "K0Y24yIxsyuV",
        "outputId": "d5a229d9-0208-4599-95a5-f2f6e767cf41"
      },
      "execution_count": null,
      "outputs": [
        {
          "output_type": "execute_result",
          "data": {
            "text/plain": [
              "array([0., 1., 2., 3., 4., 5., 6., 7., 8., 9.])"
            ]
          },
          "metadata": {},
          "execution_count": 26
        }
      ]
    },
    {
      "cell_type": "code",
      "source": [
        "np.array([range(i, i + 3) for i in [1, 2, 3]])"
      ],
      "metadata": {
        "colab": {
          "base_uri": "https://localhost:8080/"
        },
        "id": "W6V2p0eqtTCX",
        "outputId": "2f898b0d-7a9b-4c6d-f40b-51910da20345"
      },
      "execution_count": null,
      "outputs": [
        {
          "output_type": "execute_result",
          "data": {
            "text/plain": [
              "array([[1, 2, 3],\n",
              "       [2, 3, 4],\n",
              "       [3, 4, 5]])"
            ]
          },
          "metadata": {},
          "execution_count": 17
        }
      ]
    },
    {
      "cell_type": "code",
      "source": [
        "np.zeros((5, 4))"
      ],
      "metadata": {
        "colab": {
          "base_uri": "https://localhost:8080/"
        },
        "id": "AAzS3zartmmc",
        "outputId": "fafde307-2f97-462b-eea0-b749f206fb74"
      },
      "execution_count": null,
      "outputs": [
        {
          "output_type": "execute_result",
          "data": {
            "text/plain": [
              "array([[0., 0., 0., 0.],\n",
              "       [0., 0., 0., 0.],\n",
              "       [0., 0., 0., 0.],\n",
              "       [0., 0., 0., 0.],\n",
              "       [0., 0., 0., 0.]])"
            ]
          },
          "metadata": {},
          "execution_count": 22
        }
      ]
    },
    {
      "cell_type": "code",
      "source": [
        "np.ones((3, 5, 4))"
      ],
      "metadata": {
        "colab": {
          "base_uri": "https://localhost:8080/"
        },
        "id": "_JadN2ketpFs",
        "outputId": "c18635e7-1efe-4fdc-c91b-a069ec9342a4"
      },
      "execution_count": null,
      "outputs": [
        {
          "output_type": "execute_result",
          "data": {
            "text/plain": [
              "array([[[1., 1., 1., 1.],\n",
              "        [1., 1., 1., 1.],\n",
              "        [1., 1., 1., 1.],\n",
              "        [1., 1., 1., 1.],\n",
              "        [1., 1., 1., 1.]],\n",
              "\n",
              "       [[1., 1., 1., 1.],\n",
              "        [1., 1., 1., 1.],\n",
              "        [1., 1., 1., 1.],\n",
              "        [1., 1., 1., 1.],\n",
              "        [1., 1., 1., 1.]],\n",
              "\n",
              "       [[1., 1., 1., 1.],\n",
              "        [1., 1., 1., 1.],\n",
              "        [1., 1., 1., 1.],\n",
              "        [1., 1., 1., 1.],\n",
              "        [1., 1., 1., 1.]]])"
            ]
          },
          "metadata": {},
          "execution_count": 23
        }
      ]
    },
    {
      "cell_type": "code",
      "source": [
        "np.ones(10, dtype=int)"
      ],
      "metadata": {
        "colab": {
          "base_uri": "https://localhost:8080/"
        },
        "id": "8-grMxjxt2Us",
        "outputId": "5e9b15e2-2690-4157-c098-05c3ab44ce14"
      },
      "execution_count": null,
      "outputs": [
        {
          "output_type": "execute_result",
          "data": {
            "text/plain": [
              "array([1, 1, 1, 1, 1, 1, 1, 1, 1, 1])"
            ]
          },
          "metadata": {},
          "execution_count": 25
        }
      ]
    },
    {
      "cell_type": "code",
      "source": [
        "np.full((3, 5), 4.3)"
      ],
      "metadata": {
        "colab": {
          "base_uri": "https://localhost:8080/"
        },
        "id": "lCy-BlztuBNL",
        "outputId": "ae3716b3-c8e8-4826-9994-994ef8844c23"
      },
      "execution_count": null,
      "outputs": [
        {
          "output_type": "execute_result",
          "data": {
            "text/plain": [
              "array([[4.3, 4.3, 4.3, 4.3, 4.3],\n",
              "       [4.3, 4.3, 4.3, 4.3, 4.3],\n",
              "       [4.3, 4.3, 4.3, 4.3, 4.3]])"
            ]
          },
          "metadata": {},
          "execution_count": 27
        }
      ]
    },
    {
      "cell_type": "code",
      "source": [
        "np.arange(0, 20, 2)"
      ],
      "metadata": {
        "colab": {
          "base_uri": "https://localhost:8080/"
        },
        "id": "82D-5anruIR_",
        "outputId": "1bd8db77-7213-4fa9-cbc1-5f465cb6618e"
      },
      "execution_count": null,
      "outputs": [
        {
          "output_type": "execute_result",
          "data": {
            "text/plain": [
              "array([ 0,  2,  4,  6,  8, 10, 12, 14, 16, 18])"
            ]
          },
          "metadata": {},
          "execution_count": 28
        }
      ]
    },
    {
      "cell_type": "code",
      "source": [
        "np.linspace(0, 1, 5)"
      ],
      "metadata": {
        "colab": {
          "base_uri": "https://localhost:8080/"
        },
        "id": "QO622ZdhuTHr",
        "outputId": "ae4e546b-617b-4d47-a3be-7fc03642bee4"
      },
      "execution_count": null,
      "outputs": [
        {
          "output_type": "execute_result",
          "data": {
            "text/plain": [
              "array([0.  , 0.25, 0.5 , 0.75, 1.  ])"
            ]
          },
          "metadata": {},
          "execution_count": 29
        }
      ]
    },
    {
      "cell_type": "code",
      "source": [
        "np.random.random((3, 3))"
      ],
      "metadata": {
        "colab": {
          "base_uri": "https://localhost:8080/"
        },
        "id": "MqceQ8E3ubGc",
        "outputId": "85f77ae3-864b-4993-d266-cf4bb8357609"
      },
      "execution_count": null,
      "outputs": [
        {
          "output_type": "execute_result",
          "data": {
            "text/plain": [
              "array([[0.25458693, 0.15993336, 0.87932174],\n",
              "       [0.78043588, 0.56971136, 0.43384736],\n",
              "       [0.21967726, 0.14933904, 0.41050563]])"
            ]
          },
          "metadata": {},
          "execution_count": 30
        }
      ]
    },
    {
      "cell_type": "code",
      "source": [
        "np.random.normal(0, 1, (3, 3))"
      ],
      "metadata": {
        "colab": {
          "base_uri": "https://localhost:8080/"
        },
        "id": "zrkhHvpHujC8",
        "outputId": "8f898fe3-ee97-4343-a2da-4882f21e0634"
      },
      "execution_count": null,
      "outputs": [
        {
          "output_type": "execute_result",
          "data": {
            "text/plain": [
              "array([[ 0.16743632,  0.60171242, -1.21033267],\n",
              "       [-0.69924556, -0.40669076,  0.25489859],\n",
              "       [-1.09882904,  0.57345338,  1.34588519]])"
            ]
          },
          "metadata": {},
          "execution_count": 31
        }
      ]
    },
    {
      "cell_type": "code",
      "source": [
        "np.random.randint(0, 10, (2, 3))"
      ],
      "metadata": {
        "colab": {
          "base_uri": "https://localhost:8080/"
        },
        "id": "rG-6pO_huwza",
        "outputId": "dbceb376-5a43-4ef2-fd8f-5070bd810d94"
      },
      "execution_count": null,
      "outputs": [
        {
          "output_type": "execute_result",
          "data": {
            "text/plain": [
              "array([[0, 2, 3],\n",
              "       [9, 8, 6]])"
            ]
          },
          "metadata": {},
          "execution_count": 32
        }
      ]
    },
    {
      "cell_type": "code",
      "source": [
        "np.eye(4)"
      ],
      "metadata": {
        "colab": {
          "base_uri": "https://localhost:8080/"
        },
        "id": "o_3_EKQRu2eM",
        "outputId": "8db3f6ca-e1cf-4778-9a5c-47ccd5cde03d"
      },
      "execution_count": null,
      "outputs": [
        {
          "output_type": "execute_result",
          "data": {
            "text/plain": [
              "array([[1., 0., 0., 0.],\n",
              "       [0., 1., 0., 0.],\n",
              "       [0., 0., 1., 0.],\n",
              "       [0., 0., 0., 1.]])"
            ]
          },
          "metadata": {},
          "execution_count": 40
        }
      ]
    },
    {
      "cell_type": "code",
      "source": [
        "np.empty((4, 6))"
      ],
      "metadata": {
        "colab": {
          "base_uri": "https://localhost:8080/"
        },
        "id": "zvzrhoi-u55F",
        "outputId": "f9f28fe3-6a3a-4471-ce04-8b617007f46f"
      },
      "execution_count": null,
      "outputs": [
        {
          "output_type": "execute_result",
          "data": {
            "text/plain": [
              "array([[-0.25, -0.5 ,  0.  , -0.25,  0.25, -0.5 ],\n",
              "       [ 0.5 , -0.25,  0.25,  0.  ,  0.5 ,  0.25],\n",
              "       [ 0.25,  0.5 ,  0.  ,  0.25, -0.25,  0.5 ],\n",
              "       [-0.5 ,  0.25, -0.25,  0.  , -0.5 , -0.25]])"
            ]
          },
          "metadata": {},
          "execution_count": 36
        }
      ]
    },
    {
      "cell_type": "code",
      "source": [
        "x = np.random.randint(1, 10, (3, 3, 3))\n",
        "print(x.ndim)\n",
        "print(x.shape)\n",
        "print(x.size)\n",
        "print(x.dtype)\n",
        "print(x.itemsize, \"bytes\")\n",
        "print(x.nbytes, f\"= {x.size * x.itemsize}\")"
      ],
      "metadata": {
        "colab": {
          "base_uri": "https://localhost:8080/"
        },
        "id": "d30QL_vpvVAc",
        "outputId": "c62b15e0-655c-4406-b6c6-3657c52e758d"
      },
      "execution_count": null,
      "outputs": [
        {
          "output_type": "stream",
          "name": "stdout",
          "text": [
            "3\n",
            "(3, 3, 3)\n",
            "27\n",
            "int64\n",
            "8 bytes\n",
            "216 = 216\n"
          ]
        }
      ]
    },
    {
      "cell_type": "code",
      "source": [
        "x[0, 0, -1] = 4.22\n",
        "x[0, 0, -1]"
      ],
      "metadata": {
        "colab": {
          "base_uri": "https://localhost:8080/"
        },
        "id": "KGnZPr8nyk5N",
        "outputId": "19631325-bee9-430a-edb2-e3d5537bbb98"
      },
      "execution_count": null,
      "outputs": [
        {
          "output_type": "execute_result",
          "data": {
            "text/plain": [
              "4"
            ]
          },
          "metadata": {},
          "execution_count": 52
        }
      ]
    },
    {
      "cell_type": "code",
      "source": [
        "a = np.arange(10)\n",
        "a[::2]"
      ],
      "metadata": {
        "colab": {
          "base_uri": "https://localhost:8080/"
        },
        "id": "XJA8ILUV0cmc",
        "outputId": "86346b85-1161-4527-bdf0-c35fc35bd22d"
      },
      "execution_count": null,
      "outputs": [
        {
          "output_type": "execute_result",
          "data": {
            "text/plain": [
              "array([0, 2, 4, 6, 8])"
            ]
          },
          "metadata": {},
          "execution_count": 57
        }
      ]
    },
    {
      "cell_type": "code",
      "source": [
        "print(x[2:,:2,::2])\n",
        "print(x[2:,:2,::2].shape)"
      ],
      "metadata": {
        "colab": {
          "base_uri": "https://localhost:8080/"
        },
        "id": "ameAMM7O01Lp",
        "outputId": "5698fe34-f44f-4acd-82dd-f9b14f96c157"
      },
      "execution_count": null,
      "outputs": [
        {
          "output_type": "stream",
          "name": "stdout",
          "text": [
            "[[[3 7]\n",
            "  [2 2]]]\n",
            "(1, 2, 2)\n"
          ]
        }
      ]
    },
    {
      "cell_type": "markdown",
      "source": [
        "срезы в numpy передаются по ссылке, в отличие от list, срезы которых передаются по значению. чтобы редактирование не изменяло исходный массив, можно использовать copy()"
      ],
      "metadata": {
        "id": "DV3cInjT2HMS"
      }
    },
    {
      "cell_type": "code",
      "source": [
        "x_sub = x[2:, :2, ::2].copy()\n",
        "print(x_sub)\n",
        "print(x)"
      ],
      "metadata": {
        "colab": {
          "base_uri": "https://localhost:8080/"
        },
        "id": "hzsPLYWL2Fzs",
        "outputId": "ab68801c-b8d3-434d-a9d2-2a57fda723ed"
      },
      "execution_count": null,
      "outputs": [
        {
          "output_type": "stream",
          "name": "stdout",
          "text": [
            "[[[3 7]\n",
            "  [2 2]]]\n",
            "[[[8 7 4]\n",
            "  [4 7 7]\n",
            "  [6 7 7]]\n",
            "\n",
            " [[2 8 4]\n",
            "  [7 6 8]\n",
            "  [5 5 6]]\n",
            "\n",
            " [[3 8 7]\n",
            "  [2 5 2]\n",
            "  [5 6 1]]]\n"
          ]
        }
      ]
    },
    {
      "cell_type": "code",
      "source": [
        "np.arange(9).reshape((3, 3))"
      ],
      "metadata": {
        "colab": {
          "base_uri": "https://localhost:8080/"
        },
        "id": "yDYhASWD3kM1",
        "outputId": "2cdcc99e-2702-4614-a188-9b560f127ba3"
      },
      "execution_count": null,
      "outputs": [
        {
          "output_type": "execute_result",
          "data": {
            "text/plain": [
              "array([[0, 1, 2],\n",
              "       [3, 4, 5],\n",
              "       [6, 7, 8]])"
            ]
          },
          "metadata": {},
          "execution_count": 72
        }
      ]
    },
    {
      "cell_type": "code",
      "source": [
        "x1 = np.arange(5)\n",
        "print(x1)\n",
        "\n",
        "print(x1.reshape((1, 5)))\n",
        "print(x1[np.newaxis, :])\n",
        "\n",
        "print(x1.reshape((5, 1)))\n",
        "print(x1[:, np.newaxis])"
      ],
      "metadata": {
        "colab": {
          "base_uri": "https://localhost:8080/"
        },
        "id": "LTS5Ska33_Qd",
        "outputId": "c9ffa5c5-d011-4d55-9d03-fae3b4c682b9"
      },
      "execution_count": null,
      "outputs": [
        {
          "output_type": "stream",
          "name": "stdout",
          "text": [
            "[0 1 2 3 4]\n",
            "[[0 1 2 3 4]]\n",
            "[[0 1 2 3 4]]\n",
            "[[0]\n",
            " [1]\n",
            " [2]\n",
            " [3]\n",
            " [4]]\n",
            "[[0]\n",
            " [1]\n",
            " [2]\n",
            " [3]\n",
            " [4]]\n"
          ]
        }
      ]
    },
    {
      "cell_type": "code",
      "source": [
        "p = np.arange(3)\n",
        "q = np.arange(3)[::-1]\n",
        "np.concatenate((p, q, np.arange(1, 4)))"
      ],
      "metadata": {
        "colab": {
          "base_uri": "https://localhost:8080/"
        },
        "id": "ZwjaXG2S4itk",
        "outputId": "34166304-84f2-45aa-e486-12dd53022903"
      },
      "execution_count": null,
      "outputs": [
        {
          "output_type": "execute_result",
          "data": {
            "text/plain": [
              "array([0, 1, 2, 2, 1, 0, 1, 2, 3])"
            ]
          },
          "metadata": {},
          "execution_count": 82
        }
      ]
    },
    {
      "cell_type": "code",
      "source": [
        "grid = np.random.randint(1, 10, (3, 3))\n",
        "grid1 = np.random.randint(1, 10, (3, 3))\n",
        "print(grid)\n",
        "print(grid1)\n",
        "np.concatenate((grid, grid1), axis=1)"
      ],
      "metadata": {
        "colab": {
          "base_uri": "https://localhost:8080/"
        },
        "id": "vgMNye1WwquN",
        "outputId": "0eb4fe1b-03c7-4d23-d12f-a4184d9f3684"
      },
      "execution_count": 10,
      "outputs": [
        {
          "output_type": "stream",
          "name": "stdout",
          "text": [
            "[[9 1 4]\n",
            " [9 6 5]\n",
            " [4 8 3]]\n",
            "[[8 9 7]\n",
            " [8 6 1]\n",
            " [8 2 4]]\n"
          ]
        },
        {
          "output_type": "execute_result",
          "data": {
            "text/plain": [
              "array([[9, 1, 4, 8, 9, 7],\n",
              "       [9, 6, 5, 8, 6, 1],\n",
              "       [4, 8, 3, 8, 2, 4]])"
            ]
          },
          "metadata": {},
          "execution_count": 10
        }
      ]
    },
    {
      "cell_type": "code",
      "source": [
        "print(np.vstack((grid, grid1)))\n",
        "print()\n",
        "print(np.hstack((grid, grid1)))\n",
        "print()\n",
        "print(np.dstack((grid, grid1)))"
      ],
      "metadata": {
        "colab": {
          "base_uri": "https://localhost:8080/"
        },
        "id": "u3YIqV0XxuOQ",
        "outputId": "ffc04963-e893-414e-af87-78dfa2eab6ea"
      },
      "execution_count": 14,
      "outputs": [
        {
          "output_type": "stream",
          "name": "stdout",
          "text": [
            "[[9 1 4]\n",
            " [9 6 5]\n",
            " [4 8 3]\n",
            " [8 9 7]\n",
            " [8 6 1]\n",
            " [8 2 4]]\n",
            "\n",
            "[[9 1 4 8 9 7]\n",
            " [9 6 5 8 6 1]\n",
            " [4 8 3 8 2 4]]\n",
            "\n",
            "[[[9 8]\n",
            "  [1 9]\n",
            "  [4 7]]\n",
            "\n",
            " [[9 8]\n",
            "  [6 6]\n",
            "  [5 1]]\n",
            "\n",
            " [[4 8]\n",
            "  [8 2]\n",
            "  [3 4]]]\n"
          ]
        }
      ]
    },
    {
      "cell_type": "code",
      "source": [
        "np.split(np.arange(10), (3, 5))"
      ],
      "metadata": {
        "colab": {
          "base_uri": "https://localhost:8080/"
        },
        "id": "sFNgLY04yXms",
        "outputId": "6f85d04f-b600-4b65-b091-d7ad496e0e02"
      },
      "execution_count": 15,
      "outputs": [
        {
          "output_type": "execute_result",
          "data": {
            "text/plain": [
              "[array([0, 1, 2]), array([3, 4]), array([5, 6, 7, 8, 9])]"
            ]
          },
          "metadata": {},
          "execution_count": 15
        }
      ]
    },
    {
      "cell_type": "code",
      "source": [
        "x = np.arange(16).reshape((4, 4))\n",
        "print(x)\n",
        "print(np.vsplit(x, (1, 2)))\n",
        "print(np.hsplit(x, (1, 2)))"
      ],
      "metadata": {
        "colab": {
          "base_uri": "https://localhost:8080/"
        },
        "id": "MHFFaa14zkfv",
        "outputId": "dd7dd258-b103-494f-9488-46b44dab694d"
      },
      "execution_count": 18,
      "outputs": [
        {
          "output_type": "stream",
          "name": "stdout",
          "text": [
            "[[ 0  1  2  3]\n",
            " [ 4  5  6  7]\n",
            " [ 8  9 10 11]\n",
            " [12 13 14 15]]\n",
            "[array([[0, 1, 2, 3]]), array([[4, 5, 6, 7]]), array([[ 8,  9, 10, 11],\n",
            "       [12, 13, 14, 15]])]\n",
            "[array([[ 0],\n",
            "       [ 4],\n",
            "       [ 8],\n",
            "       [12]]), array([[ 1],\n",
            "       [ 5],\n",
            "       [ 9],\n",
            "       [13]]), array([[ 2,  3],\n",
            "       [ 6,  7],\n",
            "       [10, 11],\n",
            "       [14, 15]])]\n"
          ]
        }
      ]
    },
    {
      "cell_type": "code",
      "source": [
        "a, b = np.vsplit(x, (2))\n",
        "a"
      ],
      "metadata": {
        "colab": {
          "base_uri": "https://localhost:8080/"
        },
        "id": "Ux1xc0vb0F2O",
        "outputId": "c67a18db-5d52-4115-fb48-b6f21fb85d2f"
      },
      "execution_count": 20,
      "outputs": [
        {
          "output_type": "execute_result",
          "data": {
            "text/plain": [
              "array([[0, 1, 2, 3],\n",
              "       [4, 5, 6, 7]])"
            ]
          },
          "metadata": {},
          "execution_count": 20
        }
      ]
    },
    {
      "cell_type": "markdown",
      "source": [
        "универсальные функции numpy на несколько порядков ускоряют вычисления за счет векторизации"
      ],
      "metadata": {
        "id": "1k6un0gR2N5b"
      }
    },
    {
      "cell_type": "code",
      "source": [
        "x = np.arange(4)\n",
        "np.exp2(np.absolute(((-x // 3 + 1) - 3) * 5))"
      ],
      "metadata": {
        "colab": {
          "base_uri": "https://localhost:8080/"
        },
        "id": "E7vwNlmg0oHI",
        "outputId": "4cf66ce5-8273-4583-db74-7d0f77018f52"
      },
      "execution_count": 28,
      "outputs": [
        {
          "output_type": "execute_result",
          "data": {
            "text/plain": [
              "array([ 1024., 32768., 32768., 32768.])"
            ]
          },
          "metadata": {},
          "execution_count": 28
        }
      ]
    },
    {
      "cell_type": "code",
      "source": [
        "x = np.random.random((3)) / 100000\n",
        "print(np.expm1(x))\n",
        "print(np.exp(x) - 1)"
      ],
      "metadata": {
        "colab": {
          "base_uri": "https://localhost:8080/"
        },
        "id": "42L6V_s935mL",
        "outputId": "d63c2b79-27de-4b48-c5b7-7d86618a3bad"
      },
      "execution_count": 35,
      "outputs": [
        {
          "output_type": "stream",
          "name": "stdout",
          "text": [
            "[2.96445137e-06 1.81100320e-06 9.80285506e-06]\n",
            "[2.96445137e-06 1.81100320e-06 9.80285506e-06]\n"
          ]
        }
      ]
    },
    {
      "cell_type": "code",
      "source": [
        "from scipy import special\n",
        "special.gamma(x)"
      ],
      "metadata": {
        "colab": {
          "base_uri": "https://localhost:8080/"
        },
        "id": "zX0aoOFo4plD",
        "outputId": "2521ff55-17f5-4a25-90ea-835d873b9034"
      },
      "execution_count": 36,
      "outputs": [
        {
          "output_type": "execute_result",
          "data": {
            "text/plain": [
              "array([337330.4688667 , 552180.06237099, 102011.01991753])"
            ]
          },
          "metadata": {},
          "execution_count": 36
        }
      ]
    },
    {
      "cell_type": "markdown",
      "source": [
        "при большом количестве элементов out помогает сэкономить много памяти"
      ],
      "metadata": {
        "id": "Isp1RreP52lm"
      }
    },
    {
      "cell_type": "code",
      "source": [
        "x = np.arange(5)\n",
        "y = np.arange(10)\n",
        "print(y)\n",
        "np.multiply(x, 10, out=y[::2])\n",
        "print(y)"
      ],
      "metadata": {
        "colab": {
          "base_uri": "https://localhost:8080/"
        },
        "id": "9O7EkQPx4_qR",
        "outputId": "16944fe5-6974-4f81-e075-85aa6c847550"
      },
      "execution_count": 40,
      "outputs": [
        {
          "output_type": "stream",
          "name": "stdout",
          "text": [
            "[0 1 2 3 4 5 6 7 8 9]\n",
            "[ 0  1 10  3 20  5 30  7 40  9]\n"
          ]
        }
      ]
    },
    {
      "cell_type": "markdown",
      "source": [
        "метод reduce применяется многократно, пока не останется только один результат. например, суммирует или перемножает все элементы массива."
      ],
      "metadata": {
        "id": "ts3cup796fz-"
      }
    },
    {
      "cell_type": "code",
      "source": [
        "x = np.arange(10)\n",
        "np.add.reduce(x)"
      ],
      "metadata": {
        "colab": {
          "base_uri": "https://localhost:8080/"
        },
        "id": "1_7kFIUa6H1z",
        "outputId": "c3e78e6d-a4b2-4982-a304-074ab35c99ef"
      },
      "execution_count": 41,
      "outputs": [
        {
          "output_type": "execute_result",
          "data": {
            "text/plain": [
              "45"
            ]
          },
          "metadata": {},
          "execution_count": 41
        }
      ]
    },
    {
      "cell_type": "markdown",
      "source": [
        "метод accumulate сохраняет все промежуточные шаги в массиве"
      ],
      "metadata": {
        "id": "Ktn7Fort6w_E"
      }
    },
    {
      "cell_type": "code",
      "source": [
        "np.add.accumulate(x)"
      ],
      "metadata": {
        "colab": {
          "base_uri": "https://localhost:8080/"
        },
        "id": "mu2eVebQ6pDE",
        "outputId": "c3751ba7-48fb-40ba-cd08-7d84668dbe83"
      },
      "execution_count": 42,
      "outputs": [
        {
          "output_type": "execute_result",
          "data": {
            "text/plain": [
              "array([ 0,  1,  3,  6, 10, 15, 21, 28, 36, 45])"
            ]
          },
          "metadata": {},
          "execution_count": 42
        }
      ]
    },
    {
      "cell_type": "markdown",
      "source": [
        "outer выводит результат применения операции ко всем парам элементов двух массивов"
      ],
      "metadata": {
        "id": "A6p0X1TF7b5R"
      }
    },
    {
      "cell_type": "code",
      "source": [
        "np.multiply.outer(x, x)"
      ],
      "metadata": {
        "colab": {
          "base_uri": "https://localhost:8080/"
        },
        "id": "z7tPr74260v9",
        "outputId": "f1dfb7c3-712c-4591-d5b5-0b3b97537ab1"
      },
      "execution_count": 45,
      "outputs": [
        {
          "output_type": "execute_result",
          "data": {
            "text/plain": [
              "array([[ 0,  0,  0,  0,  0,  0,  0,  0,  0,  0],\n",
              "       [ 0,  1,  2,  3,  4,  5,  6,  7,  8,  9],\n",
              "       [ 0,  2,  4,  6,  8, 10, 12, 14, 16, 18],\n",
              "       [ 0,  3,  6,  9, 12, 15, 18, 21, 24, 27],\n",
              "       [ 0,  4,  8, 12, 16, 20, 24, 28, 32, 36],\n",
              "       [ 0,  5, 10, 15, 20, 25, 30, 35, 40, 45],\n",
              "       [ 0,  6, 12, 18, 24, 30, 36, 42, 48, 54],\n",
              "       [ 0,  7, 14, 21, 28, 35, 42, 49, 56, 63],\n",
              "       [ 0,  8, 16, 24, 32, 40, 48, 56, 64, 72],\n",
              "       [ 0,  9, 18, 27, 36, 45, 54, 63, 72, 81]])"
            ]
          },
          "metadata": {},
          "execution_count": 45
        }
      ]
    },
    {
      "cell_type": "code",
      "source": [
        "x = np.random.randint(1, 16, (4, 4))\n",
        "print(x)\n",
        "np.max(x, axis=0)"
      ],
      "metadata": {
        "colab": {
          "base_uri": "https://localhost:8080/"
        },
        "id": "3cYRJpMM7jVY",
        "outputId": "6780c783-38ea-43a1-ba0d-773d42f24aa1"
      },
      "execution_count": 52,
      "outputs": [
        {
          "output_type": "stream",
          "name": "stdout",
          "text": [
            "[[ 9 11  2 14]\n",
            " [11 10  9  2]\n",
            " [ 5  9 10  6]\n",
            " [12 13  6  8]]\n"
          ]
        },
        {
          "output_type": "execute_result",
          "data": {
            "text/plain": [
              "array([12, 13, 10, 14])"
            ]
          },
          "metadata": {},
          "execution_count": 52
        }
      ]
    },
    {
      "cell_type": "code",
      "source": [],
      "metadata": {
        "colab": {
          "base_uri": "https://localhost:8080/"
        },
        "id": "aM376fUW9ozG",
        "outputId": "9a30f8a4-b2b5-4751-d787-1479b9987219"
      },
      "execution_count": 53,
      "outputs": [
        {
          "output_type": "stream",
          "name": "stdout",
          "text": [
            "head: cannot open 'data/president_heights.csv' for reading: No such file or directory\n"
          ]
        }
      ]
    }
  ]
}