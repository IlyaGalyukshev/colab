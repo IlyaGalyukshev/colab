{
  "nbformat": 4,
  "nbformat_minor": 0,
  "metadata": {
    "colab": {
      "provenance": [],
      "authorship_tag": "ABX9TyNcDUZSs/AGZhAq0MQOSaeL",
      "include_colab_link": true
    },
    "kernelspec": {
      "name": "python3",
      "display_name": "Python 3"
    },
    "language_info": {
      "name": "python"
    }
  },
  "cells": [
    {
      "cell_type": "markdown",
      "metadata": {
        "id": "view-in-github",
        "colab_type": "text"
      },
      "source": [
        "<a href=\"https://colab.research.google.com/github/IlyaGalyukshev/colab/blob/main/NLP1.ipynb\" target=\"_parent\"><img src=\"https://colab.research.google.com/assets/colab-badge.svg\" alt=\"Open In Colab\"/></a>"
      ]
    },
    {
      "cell_type": "code",
      "source": [
        "import nltk\n",
        "nltk.download(['punkt', 'wordnet'])"
      ],
      "metadata": {
        "colab": {
          "base_uri": "https://localhost:8080/"
        },
        "id": "59k_hij3GmfG",
        "outputId": "eae651e7-8a2e-490a-e1f4-80e0aa1882b5"
      },
      "execution_count": 24,
      "outputs": [
        {
          "output_type": "stream",
          "name": "stderr",
          "text": [
            "[nltk_data] Downloading package punkt to /root/nltk_data...\n",
            "[nltk_data]   Package punkt is already up-to-date!\n",
            "[nltk_data] Downloading package wordnet to /root/nltk_data...\n"
          ]
        },
        {
          "output_type": "execute_result",
          "data": {
            "text/plain": [
              "True"
            ]
          },
          "metadata": {},
          "execution_count": 24
        }
      ]
    },
    {
      "cell_type": "code",
      "source": [
        "import this\n",
        "import codecs\n",
        "\n",
        "zen_of_python = codecs.encode(this.s, 'rot13')\n",
        "zen_of_python"
      ],
      "metadata": {
        "colab": {
          "base_uri": "https://localhost:8080/",
          "height": 232
        },
        "id": "2JDgRidSMNYL",
        "outputId": "3fd795f2-8174-443e-d0bc-91e2e89ad5a6"
      },
      "execution_count": 12,
      "outputs": [
        {
          "output_type": "execute_result",
          "data": {
            "text/plain": [
              "\"The Zen of Python, by Tim Peters\\n\\nBeautiful is better than ugly.\\nExplicit is better than implicit.\\nSimple is better than complex.\\nComplex is better than complicated.\\nFlat is better than nested.\\nSparse is better than dense.\\nReadability counts.\\nSpecial cases aren't special enough to break the rules.\\nAlthough practicality beats purity.\\nErrors should never pass silently.\\nUnless explicitly silenced.\\nIn the face of ambiguity, refuse the temptation to guess.\\nThere should be one-- and preferably only one --obvious way to do it.\\nAlthough that way may not be obvious at first unless you're Dutch.\\nNow is better than never.\\nAlthough never is often better than *right* now.\\nIf the implementation is hard to explain, it's a bad idea.\\nIf the implementation is easy to explain, it may be a good idea.\\nNamespaces are one honking great idea -- let's do more of those!\""
            ],
            "application/vnd.google.colaboratory.intrinsic+json": {
              "type": "string"
            }
          },
          "metadata": {},
          "execution_count": 12
        }
      ]
    },
    {
      "cell_type": "code",
      "source": [
        "from nltk.tokenize import sent_tokenize\n",
        "\n",
        "tokens = sent_tokenize(zen_of_python)\n",
        "tokens"
      ],
      "metadata": {
        "colab": {
          "base_uri": "https://localhost:8080/"
        },
        "id": "ajdn3koAMr-4",
        "outputId": "3e7625f4-93f9-4ac4-de78-3205972c39d0"
      },
      "execution_count": 13,
      "outputs": [
        {
          "output_type": "execute_result",
          "data": {
            "text/plain": [
              "['The Zen of Python, by Tim Peters\\n\\nBeautiful is better than ugly.',\n",
              " 'Explicit is better than implicit.',\n",
              " 'Simple is better than complex.',\n",
              " 'Complex is better than complicated.',\n",
              " 'Flat is better than nested.',\n",
              " 'Sparse is better than dense.',\n",
              " 'Readability counts.',\n",
              " \"Special cases aren't special enough to break the rules.\",\n",
              " 'Although practicality beats purity.',\n",
              " 'Errors should never pass silently.',\n",
              " 'Unless explicitly silenced.',\n",
              " 'In the face of ambiguity, refuse the temptation to guess.',\n",
              " 'There should be one-- and preferably only one --obvious way to do it.',\n",
              " \"Although that way may not be obvious at first unless you're Dutch.\",\n",
              " 'Now is better than never.',\n",
              " 'Although never is often better than *right* now.',\n",
              " \"If the implementation is hard to explain, it's a bad idea.\",\n",
              " 'If the implementation is easy to explain, it may be a good idea.',\n",
              " \"Namespaces are one honking great idea -- let's do more of those!\"]"
            ]
          },
          "metadata": {},
          "execution_count": 13
        }
      ]
    },
    {
      "cell_type": "code",
      "source": [
        "from nltk.tokenize import word_tokenize\n",
        "\n",
        "tokens = word_tokenize(zen_of_python)\n",
        "tokens[:10]"
      ],
      "metadata": {
        "colab": {
          "base_uri": "https://localhost:8080/"
        },
        "id": "tdnoigM1M64q",
        "outputId": "23715bb7-5193-4bcc-bb51-966857061e00"
      },
      "execution_count": 20,
      "outputs": [
        {
          "output_type": "execute_result",
          "data": {
            "text/plain": [
              "['The', 'Zen', 'of', 'Python', ',', 'by', 'Tim', 'Peters', 'Beautiful', 'is']"
            ]
          },
          "metadata": {},
          "execution_count": 20
        }
      ]
    },
    {
      "cell_type": "code",
      "source": [
        "from nltk.probability import FreqDist\n",
        "\n",
        "dist = FreqDist(tokens)\n",
        "dist.most_common(10)"
      ],
      "metadata": {
        "colab": {
          "base_uri": "https://localhost:8080/"
        },
        "id": "aAKlPZ5INJ3a",
        "outputId": "dfe98f0b-9dda-4b67-f7b2-9722052a6ff4"
      },
      "execution_count": 16,
      "outputs": [
        {
          "output_type": "execute_result",
          "data": {
            "text/plain": [
              "[('.', 18),\n",
              " ('is', 10),\n",
              " ('better', 8),\n",
              " ('than', 8),\n",
              " ('to', 5),\n",
              " ('the', 5),\n",
              " (',', 4),\n",
              " ('of', 3),\n",
              " ('Although', 3),\n",
              " ('never', 3)]"
            ]
          },
          "metadata": {},
          "execution_count": 16
        }
      ]
    },
    {
      "cell_type": "code",
      "source": [
        "!pip install razdel"
      ],
      "metadata": {
        "colab": {
          "base_uri": "https://localhost:8080/"
        },
        "id": "-2d5OiTtNlhy",
        "outputId": "b0836042-7c44-43e1-ce25-d3667c7b01f5"
      },
      "execution_count": 17,
      "outputs": [
        {
          "output_type": "stream",
          "name": "stdout",
          "text": [
            "Collecting razdel\n",
            "  Downloading razdel-0.5.0-py3-none-any.whl (21 kB)\n",
            "Installing collected packages: razdel\n",
            "Successfully installed razdel-0.5.0\n"
          ]
        }
      ]
    },
    {
      "cell_type": "code",
      "source": [
        "from razdel import sentenize, tokenize\n",
        "\n",
        "russian_text = '''\n",
        "Да. Лучше поклоняться данности\n",
        "с убогими её мерилами,\n",
        "которые потом до крайности,\n",
        "послужат для тебя перилами\n",
        "(хотя и не особо чистыми),\n",
        "удерживающими в равновесии\n",
        "твои хромающие истины\n",
        "на этой выщербленной лестнице.\n",
        "'''\n",
        "\n",
        "text_generator = sentenize(russian_text)\n",
        "print(next(text_generator))\n",
        "print(next(text_generator))\n",
        "\n",
        "list(tokenize(russian_text))[:10]"
      ],
      "metadata": {
        "colab": {
          "base_uri": "https://localhost:8080/"
        },
        "id": "2l_G1T7hNc9b",
        "outputId": "7e8b8959-4348-4023-e29b-a1b12142beea"
      },
      "execution_count": 19,
      "outputs": [
        {
          "output_type": "stream",
          "name": "stdout",
          "text": [
            "Substring(1, 4, 'Да.')\n",
            "Substring(5, 216, 'Лучше поклоняться данности\\nс убогими её мерилами,\\nкоторые потом до крайности,\\nпослужат для тебя перилами\\n(хотя и не особо чистыми),\\nудерживающими в равновесии\\nтвои хромающие истины\\nна этой выщербленной лестнице.')\n"
          ]
        },
        {
          "output_type": "execute_result",
          "data": {
            "text/plain": [
              "[Substring(1, 3, 'Да'),\n",
              " Substring(3, 4, '.'),\n",
              " Substring(5, 10, 'Лучше'),\n",
              " Substring(11, 22, 'поклоняться'),\n",
              " Substring(23, 31, 'данности'),\n",
              " Substring(32, 33, 'с'),\n",
              " Substring(34, 41, 'убогими'),\n",
              " Substring(42, 44, 'её'),\n",
              " Substring(45, 53, 'мерилами'),\n",
              " Substring(53, 54, ',')]"
            ]
          },
          "metadata": {},
          "execution_count": 19
        }
      ]
    },
    {
      "cell_type": "code",
      "source": [
        "from nltk.stem import PorterStemmer\n",
        "\n",
        "porter = PorterStemmer()\n",
        "[porter.stem(word) for word, freq in dist.most_common(10)]"
      ],
      "metadata": {
        "colab": {
          "base_uri": "https://localhost:8080/"
        },
        "id": "VKz5TOiiObgX",
        "outputId": "446308f9-92a7-4d76-fc17-865dcc3a555b"
      },
      "execution_count": 21,
      "outputs": [
        {
          "output_type": "execute_result",
          "data": {
            "text/plain": [
              "['.', 'is', 'better', 'than', 'to', 'the', ',', 'of', 'although', 'never']"
            ]
          },
          "metadata": {},
          "execution_count": 21
        }
      ]
    },
    {
      "cell_type": "code",
      "source": [
        "porter.stem('flying')"
      ],
      "metadata": {
        "colab": {
          "base_uri": "https://localhost:8080/",
          "height": 35
        },
        "id": "PbgFUXKlO9g-",
        "outputId": "689d5fec-7982-4b1a-930b-db5ec7463dd5"
      },
      "execution_count": 22,
      "outputs": [
        {
          "output_type": "execute_result",
          "data": {
            "text/plain": [
              "'fli'"
            ],
            "application/vnd.google.colaboratory.intrinsic+json": {
              "type": "string"
            }
          },
          "metadata": {},
          "execution_count": 22
        }
      ]
    },
    {
      "cell_type": "code",
      "source": [
        "from nltk.stem import WordNetLemmatizer\n",
        "\n",
        "wnl = WordNetLemmatizer()\n",
        "[wnl.lemmatize(word) for word, freq in dist.most_common(10)]"
      ],
      "metadata": {
        "colab": {
          "base_uri": "https://localhost:8080/"
        },
        "id": "xW5BMhuGPDiN",
        "outputId": "4678bd2e-d0c1-4319-cc03-3c049e4364b4"
      },
      "execution_count": 25,
      "outputs": [
        {
          "output_type": "execute_result",
          "data": {
            "text/plain": [
              "['.', 'is', 'better', 'than', 'to', 'the', ',', 'of', 'Although', 'never']"
            ]
          },
          "metadata": {},
          "execution_count": 25
        }
      ]
    },
    {
      "cell_type": "code",
      "source": [
        "wnl.lemmatize('corpora')"
      ],
      "metadata": {
        "colab": {
          "base_uri": "https://localhost:8080/",
          "height": 35
        },
        "id": "a57rbXPwPlD1",
        "outputId": "e9904a83-b7c4-4e19-8164-9b1ac7f0ec2c"
      },
      "execution_count": 28,
      "outputs": [
        {
          "output_type": "execute_result",
          "data": {
            "text/plain": [
              "'corpus'"
            ],
            "application/vnd.google.colaboratory.intrinsic+json": {
              "type": "string"
            }
          },
          "metadata": {},
          "execution_count": 28
        }
      ]
    },
    {
      "cell_type": "code",
      "source": [
        "!pip install pymorphy2"
      ],
      "metadata": {
        "colab": {
          "base_uri": "https://localhost:8080/"
        },
        "id": "7aw5CYNtP5Sv",
        "outputId": "7e0ca5f7-50cb-45b6-fea9-4e094a7e6ae3"
      },
      "execution_count": 29,
      "outputs": [
        {
          "output_type": "stream",
          "name": "stdout",
          "text": [
            "Collecting pymorphy2\n",
            "  Downloading pymorphy2-0.9.1-py3-none-any.whl (55 kB)\n",
            "\u001b[?25l     \u001b[90m━━━━━━━━━━━━━━━━━━━━━━━━━━━━━━━━━━━━━━━━\u001b[0m \u001b[32m0.0/55.5 kB\u001b[0m \u001b[31m?\u001b[0m eta \u001b[36m-:--:--\u001b[0m\r\u001b[2K     \u001b[90m━━━━━━━━━━━━━━━━━━━━━━━━━━━━━━━━━━━━━━━━\u001b[0m \u001b[32m55.5/55.5 kB\u001b[0m \u001b[31m3.2 MB/s\u001b[0m eta \u001b[36m0:00:00\u001b[0m\n",
            "\u001b[?25hCollecting dawg-python>=0.7.1 (from pymorphy2)\n",
            "  Downloading DAWG_Python-0.7.2-py2.py3-none-any.whl (11 kB)\n",
            "Collecting pymorphy2-dicts-ru<3.0,>=2.4 (from pymorphy2)\n",
            "  Downloading pymorphy2_dicts_ru-2.4.417127.4579844-py2.py3-none-any.whl (8.2 MB)\n",
            "\u001b[2K     \u001b[90m━━━━━━━━━━━━━━━━━━━━━━━━━━━━━━━━━━━━━━━━\u001b[0m \u001b[32m8.2/8.2 MB\u001b[0m \u001b[31m84.8 MB/s\u001b[0m eta \u001b[36m0:00:00\u001b[0m\n",
            "\u001b[?25hCollecting docopt>=0.6 (from pymorphy2)\n",
            "  Downloading docopt-0.6.2.tar.gz (25 kB)\n",
            "  Preparing metadata (setup.py) ... \u001b[?25l\u001b[?25hdone\n",
            "Building wheels for collected packages: docopt\n",
            "  Building wheel for docopt (setup.py) ... \u001b[?25l\u001b[?25hdone\n",
            "  Created wheel for docopt: filename=docopt-0.6.2-py2.py3-none-any.whl size=13706 sha256=680df435e7232b01bd0eb8fe61700461257646509e2ff5bd12dfd87aa411a1de\n",
            "  Stored in directory: /root/.cache/pip/wheels/fc/ab/d4/5da2067ac95b36618c629a5f93f809425700506f72c9732fac\n",
            "Successfully built docopt\n",
            "Installing collected packages: pymorphy2-dicts-ru, docopt, dawg-python, pymorphy2\n",
            "Successfully installed dawg-python-0.7.2 docopt-0.6.2 pymorphy2-0.9.1 pymorphy2-dicts-ru-2.4.417127.4579844\n"
          ]
        }
      ]
    },
    {
      "cell_type": "code",
      "source": [
        "from pymorphy2 import MorphAnalyzer\n",
        "\n",
        "ma = MorphAnalyzer()\n",
        "ma.parse(next(tokenize(russian_text)).text)"
      ],
      "metadata": {
        "colab": {
          "base_uri": "https://localhost:8080/"
        },
        "id": "x4cZy_ZpP2zY",
        "outputId": "332709ac-184f-4e24-b43f-35b31f9570f2"
      },
      "execution_count": 31,
      "outputs": [
        {
          "output_type": "execute_result",
          "data": {
            "text/plain": [
              "[Parse(word='да', tag=OpencorporaTag('PRCL'), normal_form='да', score=0.58173, methods_stack=((DictionaryAnalyzer(), 'да', 22, 0),)),\n",
              " Parse(word='да', tag=OpencorporaTag('CONJ'), normal_form='да', score=0.384615, methods_stack=((DictionaryAnalyzer(), 'да', 20, 0),)),\n",
              " Parse(word='да', tag=OpencorporaTag('INTJ'), normal_form='да', score=0.033653, methods_stack=((DictionaryAnalyzer(), 'да', 21, 0),))]"
            ]
          },
          "metadata": {},
          "execution_count": 31
        }
      ]
    },
    {
      "cell_type": "code",
      "source": [],
      "metadata": {
        "id": "sgs3Lv5zQK5S"
      },
      "execution_count": null,
      "outputs": []
    }
  ]
}