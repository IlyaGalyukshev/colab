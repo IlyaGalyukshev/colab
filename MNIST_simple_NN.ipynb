{
  "nbformat": 4,
  "nbformat_minor": 0,
  "metadata": {
    "colab": {
      "provenance": [],
      "authorship_tag": "ABX9TyNNCZ7/TjvOsRTDvi/wHTu2",
      "include_colab_link": true
    },
    "kernelspec": {
      "name": "python3",
      "display_name": "Python 3"
    },
    "language_info": {
      "name": "python"
    }
  },
  "cells": [
    {
      "cell_type": "markdown",
      "metadata": {
        "id": "view-in-github",
        "colab_type": "text"
      },
      "source": [
        "<a href=\"https://colab.research.google.com/github/IlyaGalyukshev/colab/blob/main/MNIST_simple_NN.ipynb\" target=\"_parent\"><img src=\"https://colab.research.google.com/assets/colab-badge.svg\" alt=\"Open In Colab\"/></a>"
      ]
    },
    {
      "cell_type": "code",
      "execution_count": 139,
      "metadata": {
        "id": "0LdjVVbkmrkN"
      },
      "outputs": [],
      "source": [
        "import torch\n",
        "import torch.nn as nn\n",
        "import torchvision as tv\n",
        "import torch.nn.functional as F\n",
        "\n",
        "import numpy as np\n",
        "import matplotlib.pyplot as plt\n",
        "import cv2\n",
        "import os\n",
        "\n",
        "import pandas as pd\n",
        "\n",
        "from tqdm import tqdm"
      ]
    },
    {
      "cell_type": "code",
      "source": [
        "transformer = tv.transforms.Compose([\n",
        "    tv.transforms.ToTensor()\n",
        "])"
      ],
      "metadata": {
        "id": "ACBi3OWmoMON"
      },
      "execution_count": 103,
      "outputs": []
    },
    {
      "cell_type": "code",
      "source": [
        "ds_mnist = tv.datasets.MNIST('./', download=True, transform=transformer)"
      ],
      "metadata": {
        "id": "It2DY7BAm6Kr"
      },
      "execution_count": 104,
      "outputs": []
    },
    {
      "cell_type": "code",
      "source": [
        "ds_mnist.data.shape"
      ],
      "metadata": {
        "colab": {
          "base_uri": "https://localhost:8080/"
        },
        "id": "9_MzS_xFnrOB",
        "outputId": "1cf00def-3e39-4225-d262-5b07821ebced"
      },
      "execution_count": 105,
      "outputs": [
        {
          "output_type": "execute_result",
          "data": {
            "text/plain": [
              "torch.Size([60000, 28, 28])"
            ]
          },
          "metadata": {},
          "execution_count": 105
        }
      ]
    },
    {
      "cell_type": "code",
      "source": [
        "ds_mnist[0][0].numpy().shape"
      ],
      "metadata": {
        "colab": {
          "base_uri": "https://localhost:8080/"
        },
        "id": "vWYg9ATzpMMj",
        "outputId": "d21e92ba-6fa6-46d8-a872-c872092a92e5"
      },
      "execution_count": 106,
      "outputs": [
        {
          "output_type": "execute_result",
          "data": {
            "text/plain": [
              "(1, 28, 28)"
            ]
          },
          "metadata": {},
          "execution_count": 106
        }
      ]
    },
    {
      "cell_type": "code",
      "source": [
        "plt.imshow(ds_mnist[0][0].numpy()[0])"
      ],
      "metadata": {
        "colab": {
          "base_uri": "https://localhost:8080/",
          "height": 448
        },
        "id": "dwDHPb0go5kT",
        "outputId": "2d199dbc-8af6-4a33-8942-256c34572932"
      },
      "execution_count": 107,
      "outputs": [
        {
          "output_type": "execute_result",
          "data": {
            "text/plain": [
              "<matplotlib.image.AxesImage at 0x7a5a7288b3d0>"
            ]
          },
          "metadata": {},
          "execution_count": 107
        },
        {
          "output_type": "display_data",
          "data": {
            "text/plain": [
              "<Figure size 640x480 with 1 Axes>"
            ],
            "image/png": "[encoded data removed]"
          },
          "metadata": {}
        }
      ]
    },
    {
      "cell_type": "code",
      "source": [
        "batch_size = 16\n",
        "dataloader = torch.utils.data.DataLoader(ds_mnist, batch_size=batch_size,\n",
        "                                         shuffle=True, num_workers=0,\n",
        "                                         drop_last=True)"
      ],
      "metadata": {
        "id": "FL39M5D8qOpf"
      },
      "execution_count": 108,
      "outputs": []
    },
    {
      "cell_type": "code",
      "source": [
        "print(dataloader.dataset.data.shape)\n",
        "print(dataloader.batch_size)"
      ],
      "metadata": {
        "colab": {
          "base_uri": "https://localhost:8080/"
        },
        "id": "xBuF15yUt4QA",
        "outputId": "57e764cf-385c-4162-c54b-450a4d036fec"
      },
      "execution_count": 109,
      "outputs": [
        {
          "output_type": "stream",
          "name": "stdout",
          "text": [
            "torch.Size([60000, 28, 28])\n",
            "16\n"
          ]
        }
      ]
    },
    {
      "cell_type": "code",
      "source": [
        "class Model(nn.Module):\n",
        "  def __init__(self):\n",
        "    super().__init__()\n",
        "\n",
        "    self.model = nn.Sequential(\n",
        "        nn.Flatten(),\n",
        "        nn.Linear(28 * 28, 100),\n",
        "        nn.ReLU(),\n",
        "        nn.Linear(100, 10))\n",
        "\n",
        "  def forward(self, x):\n",
        "    return self.model(x)"
      ],
      "metadata": {
        "id": "CJSqAbGNtDzW"
      },
      "execution_count": 110,
      "outputs": []
    },
    {
      "cell_type": "code",
      "source": [
        "class Model1(nn.Module):\n",
        "  def __init__(self):\n",
        "    super().__init__()\n",
        "\n",
        "    self.flat = nn.Flatten()\n",
        "    self.linear1 = nn.Linear(28 * 28, 100)\n",
        "    self.relu = nn.ReLU()\n",
        "    self.linear2 = nn.Linear(100, 10)\n",
        "\n",
        "  def forward(self, x):\n",
        "    out = self.linear1(x)\n",
        "    out = self.relu(out)\n",
        "    out = self.linear2(out)\n",
        "    return out"
      ],
      "metadata": {
        "id": "UBbwcWNj0fj4"
      },
      "execution_count": 111,
      "outputs": []
    },
    {
      "cell_type": "code",
      "source": [
        "model = Model()"
      ],
      "metadata": {
        "id": "-5G_sqTP4V4F"
      },
      "execution_count": 112,
      "outputs": []
    },
    {
      "cell_type": "code",
      "source": [
        "loss_fn = nn.CrossEntropyLoss()"
      ],
      "metadata": {
        "id": "Wtgq5Fcc20MB"
      },
      "execution_count": 113,
      "outputs": []
    },
    {
      "cell_type": "code",
      "source": [
        "optimizer = torch.optim.AdamW(model.parameters(), lr=1e-3)"
      ],
      "metadata": {
        "id": "dcWhcz9P4LQP"
      },
      "execution_count": 114,
      "outputs": []
    },
    {
      "cell_type": "code",
      "source": [
        "def accuracy(predict, label):\n",
        "  answer = F.softmax(predict.detach(), dim=1).numpy().argmax(1) == label.numpy().argmax(1)\n",
        "  return answer.mean()"
      ],
      "metadata": {
        "id": "uMJ1AVxHEDZE"
      },
      "execution_count": 154,
      "outputs": []
    },
    {
      "cell_type": "code",
      "source": [
        "epoches = 3\n",
        "for epoch in range(epoches):\n",
        "  loss_value = 0\n",
        "  accuracy_value = 0\n",
        "  for img, label in (pbar := tqdm(dataloader)):\n",
        "    optimizer.zero_grad()\n",
        "\n",
        "    label = F.one_hot(label, 10).float()\n",
        "    predict = model(img)\n",
        "\n",
        "    loss = loss_fn(predict, label)\n",
        "    loss.backward()\n",
        "    loss_item = loss.item()\n",
        "    loss_value += loss_item\n",
        "\n",
        "    optimizer.step()\n",
        "\n",
        "    current_acc = accuracy(predict, label)\n",
        "    accuracy_value += current_acc\n",
        "\n",
        "    pbar.set_description(f'loss: {loss_item:.5}\\taccuracy: {current_acc}')\n",
        "\n",
        "  print('mean loss:', loss_value / len(dataloader))\n",
        "  print('mean accuracy:', accuracy_value / len(dataloader))"
      ],
      "metadata": {
        "colab": {
          "base_uri": "https://localhost:8080/"
        },
        "id": "YaZ8y_qo4t8c",
        "outputId": "23e6e02f-1181-43be-ab3b-6d7a7ae86f8e"
      },
      "execution_count": 158,
      "outputs": [
        {
          "output_type": "stream",
          "name": "stderr",
          "text": [
            "loss: 0.042248\taccuracy: 1.0: 100%|██████████| 3750/3750 [00:34<00:00, 107.19it/s]\n"
          ]
        },
        {
          "output_type": "stream",
          "name": "stdout",
          "text": [
            "mean loss: 0.036200676068160104\n",
            "mean accuracy: 0.9881666666666666\n"
          ]
        },
        {
          "output_type": "stream",
          "name": "stderr",
          "text": [
            "loss: 0.066368\taccuracy: 0.9375: 100%|██████████| 3750/3750 [00:36<00:00, 102.16it/s]\n"
          ]
        },
        {
          "output_type": "stream",
          "name": "stdout",
          "text": [
            "mean loss: 0.029666769403320116\n",
            "mean accuracy: 0.99065\n"
          ]
        },
        {
          "output_type": "stream",
          "name": "stderr",
          "text": [
            "loss: 0.0020523\taccuracy: 1.0: 100%|██████████| 3750/3750 [00:35<00:00, 104.23it/s]"
          ]
        },
        {
          "output_type": "stream",
          "name": "stdout",
          "text": [
            "mean loss: 0.025887683739391407\n",
            "mean accuracy: 0.9917333333333334\n"
          ]
        },
        {
          "output_type": "stream",
          "name": "stderr",
          "text": [
            "\n"
          ]
        }
      ]
    },
    {
      "cell_type": "code",
      "source": [
        "img = cv2.imread('1.jpg', cv2.IMREAD_GRAYSCALE)\n",
        "plt.imshow(img)\n",
        "img = img[np.newaxis, np.newaxis].astype(np.float32)/255\n",
        "tensor = torch.from_numpy(img)\n",
        "res = F.softmax(model(tensor), dim=1).detach().numpy()\n",
        "print(pd.DataFrame({\n",
        "    'numb': (np.arange(10)) % 10,\n",
        "    'probability': res[0]\n",
        "}).sort_values(by='probability', ascending=False))\n",
        "\n",
        "print(img.shape)"
      ],
      "metadata": {
        "colab": {
          "base_uri": "https://localhost:8080/",
          "height": 644
        },
        "id": "zPE7XjD_6MfR",
        "outputId": "155525a6-54af-4f2a-9fcb-7855c49f2e27"
      },
      "execution_count": 165,
      "outputs": [
        {
          "output_type": "stream",
          "name": "stdout",
          "text": [
            "   numb   probability\n",
            "1     1  8.857948e-01\n",
            "2     2  1.101474e-01\n",
            "8     8  2.825950e-03\n",
            "6     6  7.428129e-04\n",
            "3     3  4.885562e-04\n",
            "0     0  4.063663e-07\n",
            "5     5  1.350146e-07\n",
            "7     7  2.553519e-08\n",
            "4     4  6.815344e-09\n",
            "9     9  1.062781e-09\n",
            "(1, 1, 28, 28)\n"
          ]
        },
        {
          "output_type": "display_data",
          "data": {
            "text/plain": [
              "<Figure size 640x480 with 1 Axes>"
            ],
            "image/png": "[encoded data removed]"
          },
          "metadata": {}
        }
      ]
    },
    {
      "cell_type": "code",
      "source": [],
      "metadata": {
        "id": "6oedzX7KNPVT"
      },
      "execution_count": null,
      "outputs": []
    }
  ]
}