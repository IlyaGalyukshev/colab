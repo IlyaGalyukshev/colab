{
  "nbformat": 4,
  "nbformat_minor": 0,
  "metadata": {
    "colab": {
      "provenance": [],
      "authorship_tag": "ABX9TyO3pPffy4oUUjeHcMJgUnkM",
      "include_colab_link": true
    },
    "kernelspec": {
      "name": "python3",
      "display_name": "Python 3"
    },
    "language_info": {
      "name": "python"
    }
  },
  "cells": [
    {
      "cell_type": "markdown",
      "metadata": {
        "id": "view-in-github",
        "colab_type": "text"
      },
      "source": [
        "<a href=\"https://colab.research.google.com/github/IlyaGalyukshev/colab/blob/main/MNIST_simple_NN.ipynb\" target=\"_parent\"><img src=\"https://colab.research.google.com/assets/colab-badge.svg\" alt=\"Open In Colab\"/></a>"
      ]
    },
    {
      "cell_type": "code",
      "execution_count": 139,
      "metadata": {
        "id": "0LdjVVbkmrkN"
      },
      "outputs": [],
      "source": [
        "import torch\n",
        "import torch.nn as nn\n",
        "import torchvision as tv\n",
        "import torch.nn.functional as F\n",
        "\n",
        "import numpy as np\n",
        "import matplotlib.pyplot as plt\n",
        "import cv2\n",
        "import os\n",
        "\n",
        "import pandas as pd\n",
        "\n",
        "from tqdm import tqdm"
      ]
    },
    {
      "cell_type": "code",
      "source": [
        "transformer = tv.transforms.Compose([\n",
        "    tv.transforms.ToTensor()\n",
        "])"
      ],
      "metadata": {
        "id": "ACBi3OWmoMON"
      },
      "execution_count": 103,
      "outputs": []
    },
    {
      "cell_type": "code",
      "source": [
        "ds_mnist = tv.datasets.MNIST('./', download=True, transform=transformer)"
      ],
      "metadata": {
        "id": "It2DY7BAm6Kr"
      },
      "execution_count": 104,
      "outputs": []
    },
    {
      "cell_type": "code",
      "source": [
        "ds_mnist.data.shape"
      ],
      "metadata": {
        "colab": {
          "base_uri": "https://localhost:8080/"
        },
        "id": "9_MzS_xFnrOB",
        "outputId": "1cf00def-3e39-4225-d262-5b07821ebced"
      },
      "execution_count": 105,
      "outputs": [
        {
          "output_type": "execute_result",
          "data": {
            "text/plain": [
              "torch.Size([60000, 28, 28])"
            ]
          },
          "metadata": {},
          "execution_count": 105
        }
      ]
    },
    {
      "cell_type": "code",
      "source": [
        "ds_mnist[0][0].numpy().shape"
      ],
      "metadata": {
        "colab": {
          "base_uri": "https://localhost:8080/"
        },
        "id": "vWYg9ATzpMMj",
        "outputId": "d21e92ba-6fa6-46d8-a872-c872092a92e5"
      },
      "execution_count": 106,
      "outputs": [
        {
          "output_type": "execute_result",
          "data": {
            "text/plain": [
              "(1, 28, 28)"
            ]
          },
          "metadata": {},
          "execution_count": 106
        }
      ]
    },
    {
      "cell_type": "code",
      "source": [
        "plt.imshow(ds_mnist[0][0].numpy()[0])"
      ],
      "metadata": {
        "colab": {
          "base_uri": "https://localhost:8080/",
          "height": 448
        },
        "id": "dwDHPb0go5kT",
        "outputId": "2d199dbc-8af6-4a33-8942-256c34572932"
      },
      "execution_count": 107,
      "outputs": [
        {
          "output_type": "execute_result",
          "data": {
            "text/plain": [
              "<matplotlib.image.AxesImage at 0x7a5a7288b3d0>"
            ]
          },
          "metadata": {},
          "execution_count": 107
        },
        {
          "output_type": "display_data",
          "data": {
            "text/plain": [
              "<Figure size 640x480 with 1 Axes>"
            ],
            "image/png": "[encoded data removed]"
          },
          "metadata": {}
        }
      ]
    },
    {
      "cell_type": "code",
      "source": [
        "batch_size = 16\n",
        "dataloader = torch.utils.data.DataLoader(ds_mnist, batch_size=batch_size,\n",
        "                                         shuffle=True, num_workers=0,\n",
        "                                         drop_last=True)"
      ],
      "metadata": {
        "id": "FL39M5D8qOpf"
      },
      "execution_count": 108,
      "outputs": []
    },
    {
      "cell_type": "code",
      "source": [
        "print(dataloader.dataset.data.shape)\n",
        "print(dataloader.batch_size)"
      ],
      "metadata": {
        "colab": {
          "base_uri": "https://localhost:8080/"
        },
        "id": "xBuF15yUt4QA",
        "outputId": "57e764cf-385c-4162-c54b-450a4d036fec"
      },
      "execution_count": 109,
      "outputs": [
        {
          "output_type": "stream",
          "name": "stdout",
          "text": [
            "torch.Size([60000, 28, 28])\n",
            "16\n"
          ]
        }
      ]
    },
    {
      "cell_type": "code",
      "source": [
        "class Model(nn.Module):\n",
        "  def __init__(self):\n",
        "    super().__init__()\n",
        "\n",
        "    self.model = nn.Sequential(\n",
        "        nn.Flatten(),\n",
        "        nn.Linear(28 * 28, 100),\n",
        "        nn.ReLU(),\n",
        "        nn.Linear(100, 10))\n",
        "\n",
        "  def forward(self, x):\n",
        "    return self.model(x)"
      ],
      "metadata": {
        "id": "CJSqAbGNtDzW"
      },
      "execution_count": 110,
      "outputs": []
    },
    {
      "cell_type": "code",
      "source": [
        "class Model1(nn.Module):\n",
        "  def __init__(self):\n",
        "    super().__init__()\n",
        "\n",
        "    self.flat = nn.Flatten()\n",
        "    self.linear1 = nn.Linear(28 * 28, 100)\n",
        "    self.relu = nn.ReLU()\n",
        "    self.linear2 = nn.Linear(100, 10)\n",
        "\n",
        "  def forward(self, x):\n",
        "    out = self.linear1(x)\n",
        "    out = self.relu(out)\n",
        "    out = self.linear2(out)\n",
        "    return out"
      ],
      "metadata": {
        "id": "UBbwcWNj0fj4"
      },
      "execution_count": 111,
      "outputs": []
    },
    {
      "cell_type": "code",
      "source": [
        "model = Model()"
      ],
      "metadata": {
        "id": "-5G_sqTP4V4F"
      },
      "execution_count": 112,
      "outputs": []
    },
    {
      "cell_type": "code",
      "source": [
        "loss_fn = nn.CrossEntropyLoss()"
      ],
      "metadata": {
        "id": "Wtgq5Fcc20MB"
      },
      "execution_count": 113,
      "outputs": []
    },
    {
      "cell_type": "code",
      "source": [
        "optimizer = torch.optim.AdamW(model.parameters(), lr=1e-3)"
      ],
      "metadata": {
        "id": "dcWhcz9P4LQP"
      },
      "execution_count": 114,
      "outputs": []
    },
    {
      "cell_type": "code",
      "source": [
        "def accuracy(predict, label):\n",
        "  answer = F.softmax(predict.detach()).numpy().argmax(1) == label.numpy().argmax(1)\n",
        "  return answer.mean()"
      ],
      "metadata": {
        "id": "uMJ1AVxHEDZE"
      },
      "execution_count": 115,
      "outputs": []
    },
    {
      "cell_type": "code",
      "source": [
        "epoches = 3\n",
        "for epoch in range(epoches):\n",
        "  loss_value = 0\n",
        "  accuracy_value = 0\n",
        "  for img, label in (pbar := tqdm(dataloader)):\n",
        "    optimizer.zero_grad()\n",
        "\n",
        "    label = F.one_hot(label, 10).float()\n",
        "    predict = model(img)\n",
        "\n",
        "    loss = loss_fn(predict, label)\n",
        "    loss.backward()\n",
        "    loss_item = loss.item()\n",
        "    loss_value += loss_item\n",
        "\n",
        "    optimizer.step()\n",
        "\n",
        "    current_acc = accuracy(predict, label)\n",
        "    accuracy_value += current_acc\n",
        "\n",
        "    pbar.set_description(f'loss: {loss_item:.5}\\taccuracy: {current_acc}')\n",
        "\n",
        "  print(loss_value / len(dataloader))\n",
        "  print(accuracy_value / len(dataloader))"
      ],
      "metadata": {
        "colab": {
          "base_uri": "https://localhost:8080/"
        },
        "id": "YaZ8y_qo4t8c",
        "outputId": "a1615807-a8d1-44f0-fe92-8ca5df9d5a30"
      },
      "execution_count": 116,
      "outputs": [
        {
          "output_type": "stream",
          "name": "stderr",
          "text": [
            "  0%|          | 0/3750 [00:00<?, ?it/s]<ipython-input-115-ad093383f8d7>:2: UserWarning: Implicit dimension choice for softmax has been deprecated. Change the call to include dim=X as an argument.\n",
            "  answer = F.softmax(predict.detach()).numpy().argmax(1) == label.numpy().argmax(1)\n",
            "loss: 0.079144\taccuracy: 1.0: 100%|██████████| 3750/3750 [00:36<00:00, 101.99it/s]\n"
          ]
        },
        {
          "output_type": "stream",
          "name": "stdout",
          "text": [
            "0.27893465201854706\n",
            "0.9216666666666666\n"
          ]
        },
        {
          "output_type": "stream",
          "name": "stderr",
          "text": [
            "loss: 0.12884\taccuracy: 0.9375: 100%|██████████| 3750/3750 [00:37<00:00, 99.80it/s] \n"
          ]
        },
        {
          "output_type": "stream",
          "name": "stdout",
          "text": [
            "0.12282983578362812\n",
            "0.9631333333333333\n"
          ]
        },
        {
          "output_type": "stream",
          "name": "stderr",
          "text": [
            "loss: 0.018982\taccuracy: 1.0: 100%|██████████| 3750/3750 [00:37<00:00, 101.27it/s]"
          ]
        },
        {
          "output_type": "stream",
          "name": "stdout",
          "text": [
            "0.08525591308074072\n",
            "0.9741666666666666\n"
          ]
        },
        {
          "output_type": "stream",
          "name": "stderr",
          "text": [
            "\n"
          ]
        }
      ]
    },
    {
      "cell_type": "code",
      "source": [
        "img = cv2.imread('6.jpg', cv2.IMREAD_GRAYSCALE)\n",
        "plt.imshow(img)\n",
        "img = img[np.newaxis, np.newaxis].astype(np.float32)/255\n",
        "tensor = torch.from_numpy(img)\n",
        "res = F.softmax(model(tensor)).detach().numpy()\n",
        "print(pd.DataFrame({\n",
        "    'numb': (np.arange(10) + 1) % 10,\n",
        "    'probability': res[0]\n",
        "}).sort_values(by='probability', ascending=False))\n",
        "\n",
        "print(img.shape)"
      ],
      "metadata": {
        "colab": {
          "base_uri": "https://localhost:8080/",
          "height": 700
        },
        "id": "zPE7XjD_6MfR",
        "outputId": "055250c7-6158-428e-a609-38a9e7a92101"
      },
      "execution_count": 153,
      "outputs": [
        {
          "output_type": "stream",
          "name": "stderr",
          "text": [
            "<ipython-input-153-aeed9f2e1d99>:5: UserWarning: Implicit dimension choice for softmax has been deprecated. Change the call to include dim=X as an argument.\n",
            "  res = F.softmax(model(tensor)).detach().numpy()\n"
          ]
        },
        {
          "output_type": "stream",
          "name": "stdout",
          "text": [
            "   numb   probability\n",
            "5     6  9.812222e-01\n",
            "8     9  1.702388e-02\n",
            "2     3  1.642233e-03\n",
            "9     0  1.056314e-04\n",
            "3     4  5.831103e-06\n",
            "0     1  2.246585e-07\n",
            "7     8  1.140040e-09\n",
            "6     7  6.321060e-10\n",
            "1     2  2.855485e-10\n",
            "4     5  2.691452e-11\n",
            "(1, 1, 28, 28)\n"
          ]
        },
        {
          "output_type": "display_data",
          "data": {
            "text/plain": [
              "<Figure size 640x480 with 1 Axes>"
            ],
            "image/png": "[encoded data removed]"
          },
          "metadata": {}
        }
      ]
    },
    {
      "cell_type": "code",
      "source": [],
      "metadata": {
        "id": "6oedzX7KNPVT"
      },
      "execution_count": null,
      "outputs": []
    }
  ]
}