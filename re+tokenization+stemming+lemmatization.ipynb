{
  "nbformat": 4,
  "nbformat_minor": 0,
  "metadata": {
    "colab": {
      "provenance": [],
      "authorship_tag": "ABX9TyO9bi1IhYyWcqwKgMgCwqlu",
      "include_colab_link": true
    },
    "kernelspec": {
      "name": "python3",
      "display_name": "Python 3"
    },
    "language_info": {
      "name": "python"
    }
  },
  "cells": [
    {
      "cell_type": "markdown",
      "metadata": {
        "id": "view-in-github",
        "colab_type": "text"
      },
      "source": [
        "<a href=\"https://colab.research.google.com/github/IlyaGalyukshev/colab/blob/main/re%2Btokenization%2Bstemming%2Blemmatization.ipynb\" target=\"_parent\"><img src=\"https://colab.research.google.com/assets/colab-badge.svg\" alt=\"Open In Colab\"/></a>"
      ]
    },
    {
      "cell_type": "markdown",
      "source": [
        "**Регулярные выражения**"
      ],
      "metadata": {
        "id": "4iZ86KZXxctN"
      }
    },
    {
      "cell_type": "code",
      "execution_count": 1,
      "metadata": {
        "id": "ns3z-N87kCp8"
      },
      "outputs": [],
      "source": [
        "import re"
      ]
    },
    {
      "cell_type": "code",
      "source": [
        "re.search('Н.', 'Ниф-Наф-Нуф')"
      ],
      "metadata": {
        "colab": {
          "base_uri": "https://localhost:8080/"
        },
        "id": "Ck6dSlFbnwoD",
        "outputId": "be02f02c-973b-4eff-a4b6-01afceaf4744"
      },
      "execution_count": 2,
      "outputs": [
        {
          "output_type": "execute_result",
          "data": {
            "text/plain": [
              "<re.Match object; span=(0, 2), match='Ни'>"
            ]
          },
          "metadata": {},
          "execution_count": 2
        }
      ]
    },
    {
      "cell_type": "code",
      "source": [
        "re.findall('Н.', 'Ниф-Наф-Нуф')"
      ],
      "metadata": {
        "colab": {
          "base_uri": "https://localhost:8080/"
        },
        "id": "SHfVs2gBoCY7",
        "outputId": "a11ff2b4-59d9-4786-c941-491e888b19e1"
      },
      "execution_count": 3,
      "outputs": [
        {
          "output_type": "execute_result",
          "data": {
            "text/plain": [
              "['Ни', 'На', 'Ну']"
            ]
          },
          "metadata": {},
          "execution_count": 3
        }
      ]
    },
    {
      "cell_type": "code",
      "source": [
        "re.sub('Н.', '', 'Ниф-Наф-Нуф')"
      ],
      "metadata": {
        "colab": {
          "base_uri": "https://localhost:8080/",
          "height": 35
        },
        "id": "QarDDy_koL6j",
        "outputId": "7397e311-580c-4f2c-c3c7-27ecde4c78ef"
      },
      "execution_count": 4,
      "outputs": [
        {
          "output_type": "execute_result",
          "data": {
            "text/plain": [
              "'ф-ф-ф'"
            ],
            "application/vnd.google.colaboratory.intrinsic+json": {
              "type": "string"
            }
          },
          "metadata": {},
          "execution_count": 4
        }
      ]
    },
    {
      "cell_type": "code",
      "source": [
        "re_obj = re.compile('Н.')\n",
        "\n",
        "print(re_obj.search('Ниф-Наф-Нуф'))\n",
        "print(re_obj.findall('Ниф-Наф-Нуф'))\n",
        "print(re_obj.sub('', 'Ниф-Наф-Нуф'))\n",
        "print(re_obj.sub(lambda x: x.group().upper(), 'Ниф-Наф-Нуф'))"
      ],
      "metadata": {
        "colab": {
          "base_uri": "https://localhost:8080/"
        },
        "id": "q0KWjxteoe1w",
        "outputId": "729a0134-8405-4059-97cb-bf6ba57f37f6"
      },
      "execution_count": 11,
      "outputs": [
        {
          "output_type": "stream",
          "name": "stdout",
          "text": [
            "<re.Match object; span=(0, 2), match='Ни'>\n",
            "['Ни', 'На', 'Ну']\n",
            "ф-ф-ф\n",
            "НИф-НАф-НУф\n"
          ]
        }
      ]
    },
    {
      "cell_type": "markdown",
      "source": [
        "**Сербская транслитирация**"
      ],
      "metadata": {
        "id": "zh-LGD7LxDkK"
      }
    },
    {
      "cell_type": "code",
      "source": [
        "cyr = ['а', 'б', 'в', 'г', 'д', 'ђ', 'е', 'ж', 'з', 'и', 'ј', 'к', 'л', 'љ', 'м', 'н', 'њ', 'о', 'п', 'р', 'с', 'т', 'ћ', 'у', 'ф', 'х', 'ц', 'ч', 'џ', 'ш']\n",
        "lat = ['a', 'b', 'v', 'g', 'd', 'đ', 'e', 'ž', 'z', 'i', 'j', 'k', 'l', 'lj', 'm', 'n', 'nj', 'o', 'p', 'r', 's', 't', 'ć', 'u', 'f', 'h', 'c', 'č', 'dž', 'š']\n",
        "\n",
        "pangram_lat = \"ljubazni fenjerdžija čađavog lica hoće da mi pokaže štos\"\n",
        "pangram_cyr = \"љубазни фењерџија чађавог лица хоће да ми покаже штос\""
      ],
      "metadata": {
        "id": "eSil_Lqyo2rV"
      },
      "execution_count": 12,
      "outputs": []
    },
    {
      "cell_type": "code",
      "source": [
        "dictionary = dict(zip(lat, cyr))\n",
        "pattern = 'lj|dž|nj|\\w'\n",
        "repl = lambda x: dictionary[x.group()]\n",
        "\n",
        "print('source:', pangram_lat)\n",
        "print('result:', re.sub(pattern, repl, pangram_lat))\n",
        "print('true:  ', pangram_cyr)"
      ],
      "metadata": {
        "colab": {
          "base_uri": "https://localhost:8080/"
        },
        "id": "y2PKIhctsLZE",
        "outputId": "0112b0de-5d0a-4443-a01d-d363a2662dce"
      },
      "execution_count": 22,
      "outputs": [
        {
          "output_type": "stream",
          "name": "stdout",
          "text": [
            "source: ljubazni fenjerdžija čađavog lica hoće da mi pokaže štos\n",
            "result: љубазни фењерџија чађавог лица хоће да ми покаже штос\n",
            "true:   љубазни фењерџија чађавог лица хоће да ми покаже штос\n"
          ]
        }
      ]
    },
    {
      "cell_type": "markdown",
      "source": [
        "**Text preprocessing**"
      ],
      "metadata": {
        "id": "fyu_KVRMxSla"
      }
    },
    {
      "cell_type": "markdown",
      "source": [
        "**Tokenization**\n",
        "\n",
        "Разбиение текста на сущности"
      ],
      "metadata": {
        "id": "Z5NTvoJC577y"
      }
    },
    {
      "cell_type": "code",
      "source": [
        "import nltk\n",
        "nltk.download('punkt')\n",
        "nltk.download('wordnet')"
      ],
      "metadata": {
        "colab": {
          "base_uri": "https://localhost:8080/"
        },
        "id": "LIGEzQvO5WxW",
        "outputId": "57c140af-5cd9-463f-9f6e-ab74238aac4d"
      },
      "execution_count": 46,
      "outputs": [
        {
          "output_type": "stream",
          "name": "stderr",
          "text": [
            "[nltk_data] Downloading package punkt to /root/nltk_data...\n",
            "[nltk_data]   Package punkt is already up-to-date!\n",
            "[nltk_data] Downloading package wordnet to /root/nltk_data...\n"
          ]
        },
        {
          "output_type": "execute_result",
          "data": {
            "text/plain": [
              "True"
            ]
          },
          "metadata": {},
          "execution_count": 46
        }
      ]
    },
    {
      "cell_type": "code",
      "source": [
        "text = '''Good muffins cost $3.88\\nin New York.  Please buy me two of them.\\n\\nThanks.'''\n",
        "text"
      ],
      "metadata": {
        "colab": {
          "base_uri": "https://localhost:8080/",
          "height": 35
        },
        "id": "Hm5ZRacBwb35",
        "outputId": "81df5e2a-4273-4f42-e28c-e498ede3e875"
      },
      "execution_count": 25,
      "outputs": [
        {
          "output_type": "execute_result",
          "data": {
            "text/plain": [
              "'Good muffins cost $3.88\\nin New York.  Please buy me two of them.\\n\\nThanks.'"
            ],
            "application/vnd.google.colaboratory.intrinsic+json": {
              "type": "string"
            }
          },
          "metadata": {},
          "execution_count": 25
        }
      ]
    },
    {
      "cell_type": "code",
      "source": [
        "from nltk.tokenize import WordPunctTokenizer\n",
        "\n",
        "tokenizer = WordPunctTokenizer()\n",
        "tokenizer"
      ],
      "metadata": {
        "colab": {
          "base_uri": "https://localhost:8080/"
        },
        "id": "KAPwzR1_xoZt",
        "outputId": "75395cf0-2b75-494a-fa4f-0128718fbaf5"
      },
      "execution_count": 23,
      "outputs": [
        {
          "output_type": "execute_result",
          "data": {
            "text/plain": [
              "WordPunctTokenizer(pattern='\\\\w+|[^\\\\w\\\\s]+', gaps=False, discard_empty=True, flags=re.UNICODE|re.MULTILINE|re.DOTALL)"
            ]
          },
          "metadata": {},
          "execution_count": 23
        }
      ]
    },
    {
      "cell_type": "code",
      "source": [
        "tokens = tokenizer.tokenize(text)\n",
        "print(tokens)"
      ],
      "metadata": {
        "colab": {
          "base_uri": "https://localhost:8080/"
        },
        "id": "I8u0zfQUx1PF",
        "outputId": "f6ad1537-8243-46a1-b42c-e1d1387c57ee"
      },
      "execution_count": 28,
      "outputs": [
        {
          "output_type": "stream",
          "name": "stdout",
          "text": [
            "['Good', 'muffins', 'cost', '$', '3', '.', '88', 'in', 'New', 'York', '.', 'Please', 'buy', 'me', 'two', 'of', 'them', '.', 'Thanks', '.']\n"
          ]
        }
      ]
    },
    {
      "cell_type": "code",
      "source": [
        "from nltk.tokenize import sent_tokenize\n",
        "from nltk.tokenize import wordpunct_tokenize\n",
        "from nltk.tokenize import word_tokenize\n",
        "\n",
        "print(sent_tokenize(text))\n",
        "print(word_tokenize(text))\n",
        "print(wordpunct_tokenize(text))"
      ],
      "metadata": {
        "colab": {
          "base_uri": "https://localhost:8080/"
        },
        "id": "46MuR0EdyFbg",
        "outputId": "da1454fd-e9a5-4fd2-ca69-50c3a16158dd"
      },
      "execution_count": 38,
      "outputs": [
        {
          "output_type": "stream",
          "name": "stdout",
          "text": [
            "['Good muffins cost $3.88\\nin New York.', 'Please buy me two of them.', 'Thanks.']\n",
            "['Good', 'muffins', 'cost', '$', '3.88', 'in', 'New', 'York', '.', 'Please', 'buy', 'me', 'two', 'of', 'them', '.', 'Thanks', '.']\n",
            "['Good', 'muffins', 'cost', '$', '3', '.', '88', 'in', 'New', 'York', '.', 'Please', 'buy', 'me', 'two', 'of', 'them', '.', 'Thanks', '.']\n"
          ]
        }
      ]
    },
    {
      "cell_type": "markdown",
      "source": [
        "**Stemming**\n",
        "\n",
        "Усечение слов до их основ"
      ],
      "metadata": {
        "id": "wZR3gRDr6DCg"
      }
    },
    {
      "cell_type": "code",
      "source": [
        "from nltk import SnowballStemmer\n",
        "\n",
        "print(SnowballStemmer('english').stem(text))\n",
        "print('-------')\n",
        "print(SnowballStemmer('porter').stem(text))"
      ],
      "metadata": {
        "colab": {
          "base_uri": "https://localhost:8080/"
        },
        "id": "CAC2uLy16FpK",
        "outputId": "7fbde5ef-ac2f-4b24-d906-3ac5d0b5216e"
      },
      "execution_count": 42,
      "outputs": [
        {
          "output_type": "stream",
          "name": "stdout",
          "text": [
            "good muffins cost $3.88\n",
            "in new york.  please buy me two of them.\n",
            "\n",
            "thanks.\n",
            "-------\n",
            "good muffins cost $3.88\n",
            "in new york.  please buy me two of them.\n",
            "\n",
            "thanks.\n"
          ]
        }
      ]
    },
    {
      "cell_type": "code",
      "source": [
        "from nltk.stem import PorterStemmer\n",
        "\n",
        "porter = PorterStemmer()\n",
        "[(word, porter.stem(word)) for word in tokens]"
      ],
      "metadata": {
        "colab": {
          "base_uri": "https://localhost:8080/"
        },
        "id": "1eqBm9tq7k56",
        "outputId": "bc9c02ca-53e3-4a8a-c063-eb67c9dee90e"
      },
      "execution_count": 44,
      "outputs": [
        {
          "output_type": "execute_result",
          "data": {
            "text/plain": [
              "[('Good', 'good'),\n",
              " ('muffins', 'muffin'),\n",
              " ('cost', 'cost'),\n",
              " ('$', '$'),\n",
              " ('3.88', '3.88'),\n",
              " ('in', 'in'),\n",
              " ('New', 'new'),\n",
              " ('York', 'york'),\n",
              " ('.', '.'),\n",
              " ('Please', 'pleas'),\n",
              " ('buy', 'buy'),\n",
              " ('me', 'me'),\n",
              " ('two', 'two'),\n",
              " ('of', 'of'),\n",
              " ('them', 'them'),\n",
              " ('.', '.'),\n",
              " ('Thanks', 'thank'),\n",
              " ('.', '.')]"
            ]
          },
          "metadata": {},
          "execution_count": 44
        }
      ]
    },
    {
      "cell_type": "markdown",
      "source": [
        "**Lemmatization**\n",
        "\n",
        "Приведение слов к их начальным формам\n"
      ],
      "metadata": {
        "id": "HQLgJU5O8WX0"
      }
    },
    {
      "cell_type": "code",
      "source": [
        "from nltk.stem import WordNetLemmatizer\n",
        "\n",
        "lemmatizer = WordNetLemmatizer()\n",
        "[(word, lemmatizer.lemmatize(word)) for word in tokens]"
      ],
      "metadata": {
        "colab": {
          "base_uri": "https://localhost:8080/"
        },
        "id": "yeRnOwqi8bjj",
        "outputId": "498a5e59-ae45-40a5-9359-8699195ce06a"
      },
      "execution_count": 47,
      "outputs": [
        {
          "output_type": "execute_result",
          "data": {
            "text/plain": [
              "[('Good', 'Good'),\n",
              " ('muffins', 'muffin'),\n",
              " ('cost', 'cost'),\n",
              " ('$', '$'),\n",
              " ('3.88', '3.88'),\n",
              " ('in', 'in'),\n",
              " ('New', 'New'),\n",
              " ('York', 'York'),\n",
              " ('.', '.'),\n",
              " ('Please', 'Please'),\n",
              " ('buy', 'buy'),\n",
              " ('me', 'me'),\n",
              " ('two', 'two'),\n",
              " ('of', 'of'),\n",
              " ('them', 'them'),\n",
              " ('.', '.'),\n",
              " ('Thanks', 'Thanks'),\n",
              " ('.', '.')]"
            ]
          },
          "metadata": {},
          "execution_count": 47
        }
      ]
    },
    {
      "cell_type": "markdown",
      "source": [
        "**Для текста на русском языке**"
      ],
      "metadata": {
        "id": "NNWgn9sQ9JCw"
      }
    },
    {
      "cell_type": "code",
      "source": [
        "!pip install -q razdel natasha pymorphy2 pymystem3"
      ],
      "metadata": {
        "colab": {
          "base_uri": "https://localhost:8080/"
        },
        "id": "D-pG-ZCm9CD8",
        "outputId": "7d4a799b-26ec-4588-a89a-1cfc9aeca854"
      },
      "execution_count": 48,
      "outputs": [
        {
          "output_type": "stream",
          "name": "stdout",
          "text": [
            "\u001b[2K     \u001b[90m━━━━━━━━━━━━━━━━━━━━━━━━━━━━━━━━━━━━━━━━\u001b[0m \u001b[32m34.4/34.4 MB\u001b[0m \u001b[31m28.7 MB/s\u001b[0m eta \u001b[36m0:00:00\u001b[0m\n",
            "\u001b[2K     \u001b[90m━━━━━━━━━━━━━━━━━━━━━━━━━━━━━━━━━━━━━━━━\u001b[0m \u001b[32m55.5/55.5 kB\u001b[0m \u001b[31m6.5 MB/s\u001b[0m eta \u001b[36m0:00:00\u001b[0m\n",
            "\u001b[2K     \u001b[90m━━━━━━━━━━━━━━━━━━━━━━━━━━━━━━━━━━━━━━━━\u001b[0m \u001b[32m46.7/46.7 kB\u001b[0m \u001b[31m5.3 MB/s\u001b[0m eta \u001b[36m0:00:00\u001b[0m\n",
            "\u001b[2K     \u001b[90m━━━━━━━━━━━━━━━━━━━━━━━━━━━━━━━━━━━━━━━━\u001b[0m \u001b[32m8.2/8.2 MB\u001b[0m \u001b[31m74.4 MB/s\u001b[0m eta \u001b[36m0:00:00\u001b[0m\n",
            "\u001b[?25h  Preparing metadata (setup.py) ... \u001b[?25l\u001b[?25hdone\n",
            "  Preparing metadata (setup.py) ... \u001b[?25l\u001b[?25hdone\n",
            "  Building wheel for docopt (setup.py) ... \u001b[?25l\u001b[?25hdone\n",
            "  Building wheel for intervaltree (setup.py) ... \u001b[?25l\u001b[?25hdone\n"
          ]
        }
      ]
    },
    {
      "cell_type": "code",
      "source": [
        "russian_text = '''\n",
        "Довлатов прогуливал университетские занятия, иностранными языками не\n",
        "интересовался, зато много читал: «Короче, я пропускал одну лекцию за другой.\n",
        "Лучше всего, таким образом, мне запомнились университетские коридоры.\n",
        "Я помню… отполированные до блеска скамьи возле фотолаборатории. Примерно к\n",
        "двенадцати здесь собираются окрестные лентяи. Мы говорим о литературе и\n",
        "разглядываем пробегающих мимо девиц». Во время учебы он подружился с Иосифом\n",
        "Бродским, Анатолием Найманом и другими ленинградскими поэтами и прозаиками. А\n",
        "еще — познакомился со своей первой женой Асей Пекуровской.\n",
        "'''"
      ],
      "metadata": {
        "id": "Ksd7rgRL9p6Y"
      },
      "execution_count": 51,
      "outputs": []
    },
    {
      "cell_type": "code",
      "source": [
        "from razdel import tokenize\n",
        "\n",
        "print(list(tokenize(russian_text)))"
      ],
      "metadata": {
        "colab": {
          "base_uri": "https://localhost:8080/"
        },
        "id": "F7D-0veL92s7",
        "outputId": "226c5013-ae41-421a-9334-0ec372441c38"
      },
      "execution_count": 54,
      "outputs": [
        {
          "output_type": "stream",
          "name": "stdout",
          "text": [
            "[Substring(1, 9, 'Довлатов'), Substring(10, 20, 'прогуливал'), Substring(21, 36, 'университетские'), Substring(37, 44, 'занятия'), Substring(44, 45, ','), Substring(46, 58, 'иностранными'), Substring(59, 66, 'языками'), Substring(67, 69, 'не'), Substring(71, 84, 'интересовался'), Substring(84, 85, ','), Substring(86, 90, 'зато'), Substring(91, 96, 'много'), Substring(97, 102, 'читал'), Substring(102, 103, ':'), Substring(104, 105, '«'), Substring(105, 111, 'Короче'), Substring(111, 112, ','), Substring(113, 114, 'я'), Substring(115, 124, 'пропускал'), Substring(125, 129, 'одну'), Substring(130, 136, 'лекцию'), Substring(137, 139, 'за'), Substring(140, 146, 'другой'), Substring(146, 147, '.'), Substring(149, 154, 'Лучше'), Substring(155, 160, 'всего'), Substring(160, 161, ','), Substring(162, 167, 'таким'), Substring(168, 175, 'образом'), Substring(175, 176, ','), Substring(177, 180, 'мне'), Substring(181, 192, 'запомнились'), Substring(193, 208, 'университетские'), Substring(209, 217, 'коридоры'), Substring(217, 218, '.'), Substring(220, 221, 'Я'), Substring(222, 227, 'помню'), Substring(227, 228, '…'), Substring(229, 243, 'отполированные'), Substring(244, 246, 'до'), Substring(247, 253, 'блеска'), Substring(254, 260, 'скамьи'), Substring(261, 266, 'возле'), Substring(267, 282, 'фотолаборатории'), Substring(282, 283, '.'), Substring(284, 292, 'Примерно'), Substring(293, 294, 'к'), Substring(296, 306, 'двенадцати'), Substring(307, 312, 'здесь'), Substring(313, 323, 'собираются'), Substring(324, 333, 'окрестные'), Substring(334, 340, 'лентяи'), Substring(340, 341, '.'), Substring(342, 344, 'Мы'), Substring(345, 352, 'говорим'), Substring(353, 354, 'о'), Substring(355, 365, 'литературе'), Substring(366, 367, 'и'), Substring(369, 381, 'разглядываем'), Substring(382, 393, 'пробегающих'), Substring(394, 398, 'мимо'), Substring(399, 404, 'девиц'), Substring(404, 405, '»'), Substring(405, 406, '.'), Substring(407, 409, 'Во'), Substring(410, 415, 'время'), Substring(416, 421, 'учебы'), Substring(422, 424, 'он'), Substring(425, 435, 'подружился'), Substring(436, 437, 'с'), Substring(438, 445, 'Иосифом'), Substring(447, 455, 'Бродским'), Substring(455, 456, ','), Substring(457, 466, 'Анатолием'), Substring(467, 475, 'Найманом'), Substring(476, 477, 'и'), Substring(478, 485, 'другими'), Substring(486, 500, 'ленинградскими'), Substring(501, 508, 'поэтами'), Substring(509, 510, 'и'), Substring(511, 521, 'прозаиками'), Substring(521, 522, '.'), Substring(523, 524, 'А'), Substring(526, 529, 'еще'), Substring(530, 531, '—'), Substring(532, 544, 'познакомился'), Substring(545, 547, 'со'), Substring(548, 553, 'своей'), Substring(554, 560, 'первой'), Substring(561, 566, 'женой'), Substring(567, 571, 'Асей'), Substring(572, 583, 'Пекуровской'), Substring(583, 584, '.')]\n"
          ]
        }
      ]
    },
    {
      "cell_type": "code",
      "source": [
        "from natasha import Doc\n",
        "from natasha import Segmenter\n",
        "\n",
        "doc = Doc(russian_text)\n",
        "segmenter = Segmenter()\n",
        "doc.segment(segmenter)\n",
        "\n",
        "print(doc.sents)\n",
        "print(doc.tokens)"
      ],
      "metadata": {
        "colab": {
          "base_uri": "https://localhost:8080/"
        },
        "id": "YJTaDJbG-GXy",
        "outputId": "24f8930f-a2a4-4a54-a1b6-3b3c6ad685b8"
      },
      "execution_count": 64,
      "outputs": [
        {
          "output_type": "stream",
          "name": "stdout",
          "text": [
            "[DocSent(start=1, stop=147, text='Довлатов прогуливал университетские занятия, инос..., tokens=[...]), DocSent(start=149, stop=218, text='Лучше всего, таким образом, мне запомнились униве..., tokens=[...]), DocSent(start=220, stop=283, text='Я помню… отполированные до блеска скамьи возле фо..., tokens=[...]), DocSent(start=284, stop=341, text='Примерно к \\nдвенадцати здесь собираются окрестны..., tokens=[...]), DocSent(start=342, stop=406, text='Мы говорим о литературе и \\nразглядываем пробегаю..., tokens=[...]), DocSent(start=407, stop=522, text='Во время учебы он подружился с Иосифом \\nБродским..., tokens=[...]), DocSent(start=523, stop=584, text='А \\nеще — познакомился со своей первой женой Асей..., tokens=[...])]\n",
            "[DocToken(start=1, stop=9, text='Довлатов'), DocToken(start=10, stop=20, text='прогуливал'), DocToken(start=21, stop=36, text='университетские'), DocToken(start=37, stop=44, text='занятия'), DocToken(start=44, stop=45, text=','), DocToken(start=46, stop=58, text='иностранными'), DocToken(start=59, stop=66, text='языками'), DocToken(start=67, stop=69, text='не'), DocToken(start=71, stop=84, text='интересовался'), DocToken(start=84, stop=85, text=','), DocToken(start=86, stop=90, text='зато'), DocToken(start=91, stop=96, text='много'), DocToken(start=97, stop=102, text='читал'), DocToken(start=102, stop=103, text=':'), DocToken(start=104, stop=105, text='«'), DocToken(start=105, stop=111, text='Короче'), DocToken(start=111, stop=112, text=','), DocToken(start=113, stop=114, text='я'), DocToken(start=115, stop=124, text='пропускал'), DocToken(start=125, stop=129, text='одну'), DocToken(start=130, stop=136, text='лекцию'), DocToken(start=137, stop=139, text='за'), DocToken(start=140, stop=146, text='другой'), DocToken(start=146, stop=147, text='.'), DocToken(start=149, stop=154, text='Лучше'), DocToken(start=155, stop=160, text='всего'), DocToken(start=160, stop=161, text=','), DocToken(start=162, stop=167, text='таким'), DocToken(start=168, stop=175, text='образом'), DocToken(start=175, stop=176, text=','), DocToken(start=177, stop=180, text='мне'), DocToken(start=181, stop=192, text='запомнились'), DocToken(start=193, stop=208, text='университетские'), DocToken(start=209, stop=217, text='коридоры'), DocToken(start=217, stop=218, text='.'), DocToken(start=220, stop=221, text='Я'), DocToken(start=222, stop=227, text='помню'), DocToken(start=227, stop=228, text='…'), DocToken(start=229, stop=243, text='отполированные'), DocToken(start=244, stop=246, text='до'), DocToken(start=247, stop=253, text='блеска'), DocToken(start=254, stop=260, text='скамьи'), DocToken(start=261, stop=266, text='возле'), DocToken(start=267, stop=282, text='фотолаборатории'), DocToken(start=282, stop=283, text='.'), DocToken(start=284, stop=292, text='Примерно'), DocToken(start=293, stop=294, text='к'), DocToken(start=296, stop=306, text='двенадцати'), DocToken(start=307, stop=312, text='здесь'), DocToken(start=313, stop=323, text='собираются'), DocToken(start=324, stop=333, text='окрестные'), DocToken(start=334, stop=340, text='лентяи'), DocToken(start=340, stop=341, text='.'), DocToken(start=342, stop=344, text='Мы'), DocToken(start=345, stop=352, text='говорим'), DocToken(start=353, stop=354, text='о'), DocToken(start=355, stop=365, text='литературе'), DocToken(start=366, stop=367, text='и'), DocToken(start=369, stop=381, text='разглядываем'), DocToken(start=382, stop=393, text='пробегающих'), DocToken(start=394, stop=398, text='мимо'), DocToken(start=399, stop=404, text='девиц'), DocToken(start=404, stop=405, text='»'), DocToken(start=405, stop=406, text='.'), DocToken(start=407, stop=409, text='Во'), DocToken(start=410, stop=415, text='время'), DocToken(start=416, stop=421, text='учебы'), DocToken(start=422, stop=424, text='он'), DocToken(start=425, stop=435, text='подружился'), DocToken(start=436, stop=437, text='с'), DocToken(start=438, stop=445, text='Иосифом'), DocToken(start=447, stop=455, text='Бродским'), DocToken(start=455, stop=456, text=','), DocToken(start=457, stop=466, text='Анатолием'), DocToken(start=467, stop=475, text='Найманом'), DocToken(start=476, stop=477, text='и'), DocToken(start=478, stop=485, text='другими'), DocToken(start=486, stop=500, text='ленинградскими'), DocToken(start=501, stop=508, text='поэтами'), DocToken(start=509, stop=510, text='и'), DocToken(start=511, stop=521, text='прозаиками'), DocToken(start=521, stop=522, text='.'), DocToken(start=523, stop=524, text='А'), DocToken(start=526, stop=529, text='еще'), DocToken(start=530, stop=531, text='—'), DocToken(start=532, stop=544, text='познакомился'), DocToken(start=545, stop=547, text='со'), DocToken(start=548, stop=553, text='своей'), DocToken(start=554, stop=560, text='первой'), DocToken(start=561, stop=566, text='женой'), DocToken(start=567, stop=571, text='Асей'), DocToken(start=572, stop=583, text='Пекуровской'), DocToken(start=583, stop=584, text='.')]\n"
          ]
        }
      ]
    },
    {
      "cell_type": "code",
      "source": [
        "from pymorphy2 import MorphAnalyzer\n",
        "\n",
        "morph = MorphAnalyzer()\n",
        "\n",
        "for word in doc.tokens:\n",
        "  print(morph.parse(word.text))"
      ],
      "metadata": {
        "colab": {
          "base_uri": "https://localhost:8080/"
        },
        "id": "3J_ik99l_GJu",
        "outputId": "99732968-ee42-4c5e-fd82-be907b3b257a"
      },
      "execution_count": 67,
      "outputs": [
        {
          "output_type": "stream",
          "name": "stdout",
          "text": [
            "[Parse(word='довлатов', tag=OpencorporaTag('NOUN,anim,masc,Sgtm,Surn sing,nomn'), normal_form='довлатов', score=0.6, methods_stack=((DictionaryAnalyzer(), 'довлатов', 37, 0),)), Parse(word='довлатов', tag=OpencorporaTag('NOUN,anim,masc,Name plur,gent'), normal_form='довлат', score=0.2, methods_stack=((DictionaryAnalyzer(), 'довлатов', 27, 7),)), Parse(word='довлатов', tag=OpencorporaTag('NOUN,anim,masc,Name plur,accs'), normal_form='довлат', score=0.2, methods_stack=((DictionaryAnalyzer(), 'довлатов', 27, 9),))]\n",
            "[Parse(word='прогуливал', tag=OpencorporaTag('VERB,impf,tran masc,sing,past,indc'), normal_form='прогуливать', score=1.0, methods_stack=((DictionaryAnalyzer(), 'прогуливал', 215, 7),))]\n",
            "[Parse(word='университетские', tag=OpencorporaTag('ADJF plur,nomn'), normal_form='университетский', score=0.5, methods_stack=((DictionaryAnalyzer(), 'университетские', 16, 20),)), Parse(word='университетские', tag=OpencorporaTag('ADJF inan,plur,accs'), normal_form='университетский', score=0.5, methods_stack=((DictionaryAnalyzer(), 'университетские', 16, 24),))]\n",
            "[Parse(word='занятия', tag=OpencorporaTag('NOUN,inan,neut sing,gent'), normal_form='занятие', score=0.406779, methods_stack=((DictionaryAnalyzer(), 'занятия', 77, 2),)), Parse(word='занятия', tag=OpencorporaTag('NOUN,inan,neut plur,nomn'), normal_form='занятие', score=0.355932, methods_stack=((DictionaryAnalyzer(), 'занятия', 77, 13),)), Parse(word='занятия', tag=OpencorporaTag('NOUN,inan,neut plur,accs'), normal_form='занятие', score=0.237288, methods_stack=((DictionaryAnalyzer(), 'занятия', 77, 18),))]\n",
            "[Parse(word=',', tag=OpencorporaTag('PNCT'), normal_form=',', score=1.0, methods_stack=((PunctuationAnalyzer(score=0.9), ','),))]\n",
            "[Parse(word='иностранными', tag=OpencorporaTag('ADJF plur,ablt'), normal_form='иностранный', score=1.0, methods_stack=((DictionaryAnalyzer(), 'иностранными', 35, 25),))]\n",
            "[Parse(word='языками', tag=OpencorporaTag('NOUN,inan,masc plur,ablt'), normal_form='язык', score=0.90909, methods_stack=((DictionaryAnalyzer(), 'языками', 3247, 10),)), Parse(word='языками', tag=OpencorporaTag('NOUN,anim,masc plur,ablt'), normal_form='язык', score=0.090909, methods_stack=((DictionaryAnalyzer(), 'языками', 2, 10),))]\n",
            "[Parse(word='не', tag=OpencorporaTag('PRCL'), normal_form='не', score=1.0, methods_stack=((DictionaryAnalyzer(), 'не', 22, 0),))]\n",
            "[Parse(word='интересовался', tag=OpencorporaTag('VERB,impf,intr masc,sing,past,indc'), normal_form='интересоваться', score=1.0, methods_stack=((DictionaryAnalyzer(), 'интересовался', 140, 7),))]\n",
            "[Parse(word=',', tag=OpencorporaTag('PNCT'), normal_form=',', score=1.0, methods_stack=((PunctuationAnalyzer(score=0.9), ','),))]\n",
            "[Parse(word='зато', tag=OpencorporaTag('CONJ'), normal_form='зато', score=0.917241, methods_stack=((DictionaryAnalyzer(), 'зато', 20, 0),)), Parse(word='зато', tag=OpencorporaTag('NOUN,inan,neut,Fixd,Abbr sing,nomn'), normal_form='зато', score=0.006896, methods_stack=((DictionaryAnalyzer(), 'зато', 812, 0),)), Parse(word='зато', tag=OpencorporaTag('NOUN,inan,neut,Fixd,Abbr sing,gent'), normal_form='зато', score=0.006896, methods_stack=((DictionaryAnalyzer(), 'зато', 812, 1),)), Parse(word='зато', tag=OpencorporaTag('NOUN,inan,neut,Fixd,Abbr sing,datv'), normal_form='зато', score=0.006896, methods_stack=((DictionaryAnalyzer(), 'зато', 812, 2),)), Parse(word='зато', tag=OpencorporaTag('NOUN,inan,neut,Fixd,Abbr sing,accs'), normal_form='зато', score=0.006896, methods_stack=((DictionaryAnalyzer(), 'зато', 812, 3),)), Parse(word='зато', tag=OpencorporaTag('NOUN,inan,neut,Fixd,Abbr sing,ablt'), normal_form='зато', score=0.006896, methods_stack=((DictionaryAnalyzer(), 'зато', 812, 4),)), Parse(word='зато', tag=OpencorporaTag('NOUN,inan,neut,Fixd,Abbr sing,loct'), normal_form='зато', score=0.006896, methods_stack=((DictionaryAnalyzer(), 'зато', 812, 5),)), Parse(word='зато', tag=OpencorporaTag('NOUN,inan,neut,Fixd,Abbr plur,nomn'), normal_form='зато', score=0.006896, methods_stack=((DictionaryAnalyzer(), 'зато', 812, 6),)), Parse(word='зато', tag=OpencorporaTag('NOUN,inan,neut,Fixd,Abbr plur,gent'), normal_form='зато', score=0.006896, methods_stack=((DictionaryAnalyzer(), 'зато', 812, 7),)), Parse(word='зато', tag=OpencorporaTag('NOUN,inan,neut,Fixd,Abbr plur,datv'), normal_form='зато', score=0.006896, methods_stack=((DictionaryAnalyzer(), 'зато', 812, 8),)), Parse(word='зато', tag=OpencorporaTag('NOUN,inan,neut,Fixd,Abbr plur,accs'), normal_form='зато', score=0.006896, methods_stack=((DictionaryAnalyzer(), 'зато', 812, 9),)), Parse(word='зато', tag=OpencorporaTag('NOUN,inan,neut,Fixd,Abbr plur,ablt'), normal_form='зато', score=0.006896, methods_stack=((DictionaryAnalyzer(), 'зато', 812, 10),)), Parse(word='зато', tag=OpencorporaTag('NOUN,inan,neut,Fixd,Abbr plur,loct'), normal_form='зато', score=0.006896, methods_stack=((DictionaryAnalyzer(), 'зато', 812, 11),))]\n",
            "[Parse(word='много', tag=OpencorporaTag('ADVB,Prdx'), normal_form='много', score=0.984732, methods_stack=((DictionaryAnalyzer(), 'много', 404, 0),)), Parse(word='много', tag=OpencorporaTag('NUMR nomn'), normal_form='много', score=0.007633, methods_stack=((DictionaryAnalyzer(), 'много', 3277, 0),)), Parse(word='много', tag=OpencorporaTag('NUMR accs'), normal_form='много', score=0.007633, methods_stack=((DictionaryAnalyzer(), 'много', 3277, 3),))]\n",
            "[Parse(word='читал', tag=OpencorporaTag('VERB,impf,tran masc,sing,past,indc'), normal_form='читать', score=1.0, methods_stack=((DictionaryAnalyzer(), 'читал', 321, 7),))]\n",
            "[Parse(word=':', tag=OpencorporaTag('PNCT'), normal_form=':', score=1.0, methods_stack=((PunctuationAnalyzer(score=0.9), ':'),))]\n",
            "[Parse(word='«', tag=OpencorporaTag('PNCT'), normal_form='«', score=1.0, methods_stack=((PunctuationAnalyzer(score=0.9), '«'),))]\n",
            "[Parse(word='короче', tag=OpencorporaTag('CONJ,Prnt'), normal_form='короче', score=0.619047, methods_stack=((DictionaryAnalyzer(), 'короче', 130, 0),)), Parse(word='короче', tag=OpencorporaTag('COMP,Qual'), normal_form='короткий', score=0.349206, methods_stack=((DictionaryAnalyzer(), 'короче', 1855, 31),)), Parse(word='короче', tag=OpencorporaTag('NOUN,inan,femn,Sgtm,Geox sing,datv'), normal_form='короча', score=0.015873, methods_stack=((DictionaryAnalyzer(), 'короче', 302, 2),)), Parse(word='короче', tag=OpencorporaTag('NOUN,inan,femn,Sgtm,Geox sing,loct'), normal_form='короча', score=0.015873, methods_stack=((DictionaryAnalyzer(), 'короче', 302, 6),))]\n",
            "[Parse(word=',', tag=OpencorporaTag('PNCT'), normal_form=',', score=1.0, methods_stack=((PunctuationAnalyzer(score=0.9), ','),))]\n",
            "[Parse(word='я', tag=OpencorporaTag('NPRO,1per sing,nomn'), normal_form='я', score=1.0, methods_stack=((DictionaryAnalyzer(), 'я', 3246, 0),))]\n",
            "[Parse(word='пропускал', tag=OpencorporaTag('VERB,impf,tran masc,sing,past,indc'), normal_form='пропускать', score=0.5, methods_stack=((DictionaryAnalyzer(), 'пропускал', 215, 7),)), Parse(word='пропускал', tag=OpencorporaTag('VERB,perf,tran masc,sing,past,indc'), normal_form='пропускать', score=0.5, methods_stack=((DictionaryAnalyzer(), 'пропускал', 648, 1),))]\n",
            "[Parse(word='одну', tag=OpencorporaTag('ADJF,Apro,Anum femn,sing,accs'), normal_form='один', score=1.0, methods_stack=((DictionaryAnalyzer(), 'одну', 2293, 10),))]\n",
            "[Parse(word='лекцию', tag=OpencorporaTag('NOUN,inan,femn sing,accs'), normal_form='лекция', score=1.0, methods_stack=((DictionaryAnalyzer(), 'лекцию', 41, 3),))]\n",
            "[Parse(word='за', tag=OpencorporaTag('PREP'), normal_form='за', score=1.0, methods_stack=((DictionaryAnalyzer(), 'за', 24, 0),))]\n",
            "[Parse(word='другой', tag=OpencorporaTag('ADJF,Subx,Apro femn,sing,gent'), normal_form='другой', score=0.625, methods_stack=((DictionaryAnalyzer(), 'другой', 1424, 8),)), Parse(word='другой', tag=OpencorporaTag('ADJF,Subx,Apro femn,sing,ablt'), normal_form='другой', score=0.129032, methods_stack=((DictionaryAnalyzer(), 'другой', 1424, 11),)), Parse(word='другой', tag=OpencorporaTag('ADJF,Subx,Apro femn,sing,loct'), normal_form='другой', score=0.112903, methods_stack=((DictionaryAnalyzer(), 'другой', 1424, 13),)), Parse(word='другой', tag=OpencorporaTag('ADJF,Subx,Apro femn,sing,datv'), normal_form='другой', score=0.064516, methods_stack=((DictionaryAnalyzer(), 'другой', 1424, 9),)), Parse(word='другой', tag=OpencorporaTag('ADJF,Subx,Apro masc,sing,nomn'), normal_form='другой', score=0.040322, methods_stack=((DictionaryAnalyzer(), 'другой', 1424, 0),)), Parse(word='другой', tag=OpencorporaTag('ADJF,Subx,Apro inan,masc,sing,accs'), normal_form='другой', score=0.028225, methods_stack=((DictionaryAnalyzer(), 'другой', 1424, 3),))]\n",
            "[Parse(word='.', tag=OpencorporaTag('PNCT'), normal_form='.', score=1.0, methods_stack=((PunctuationAnalyzer(score=0.9), '.'),))]\n",
            "[Parse(word='лучше', tag=OpencorporaTag('COMP,Qual'), normal_form='хороший', score=0.666666, methods_stack=((DictionaryAnalyzer(), 'лучше', 3135, 31),)), Parse(word='лучше', tag=OpencorporaTag('PRCL'), normal_form='лучше', score=0.333333, methods_stack=((DictionaryAnalyzer(), 'лучше', 22, 0),))]\n",
            "[Parse(word='всего', tag=OpencorporaTag('ADJF,Subx,Apro neut,sing,gent'), normal_form='весь', score=0.624087, methods_stack=((DictionaryAnalyzer(), 'всего', 734, 15),)), Parse(word='всего', tag=OpencorporaTag('PRCL'), normal_form='всего', score=0.290754, methods_stack=((DictionaryAnalyzer(), 'всего', 22, 0),)), Parse(word='всего', tag=OpencorporaTag('ADVB'), normal_form='всего', score=0.082725, methods_stack=((DictionaryAnalyzer(), 'всего', 3, 0),)), Parse(word='всего', tag=OpencorporaTag('ADJF,Subx,Apro masc,sing,gent'), normal_form='весь', score=0.001216, methods_stack=((DictionaryAnalyzer(), 'всего', 734, 1),)), Parse(word='всего', tag=OpencorporaTag('ADJF,Subx,Apro anim,masc,sing,accs'), normal_form='весь', score=0.001216, methods_stack=((DictionaryAnalyzer(), 'всего', 734, 4),))]\n",
            "[Parse(word=',', tag=OpencorporaTag('PNCT'), normal_form=',', score=1.0, methods_stack=((PunctuationAnalyzer(score=0.9), ','),))]\n",
            "[Parse(word='таким', tag=OpencorporaTag('ADJF,Apro masc,sing,ablt'), normal_form='такой', score=0.848771, methods_stack=((DictionaryAnalyzer(), 'таким', 1754, 5),)), Parse(word='таким', tag=OpencorporaTag('ADJF,Apro neut,sing,ablt'), normal_form='такой', score=0.083175, methods_stack=((DictionaryAnalyzer(), 'таким', 1754, 18),)), Parse(word='таким', tag=OpencorporaTag('ADJF,Apro plur,datv'), normal_form='такой', score=0.068052, methods_stack=((DictionaryAnalyzer(), 'таким', 1754, 22),))]\n",
            "[Parse(word='образом', tag=OpencorporaTag('NOUN,inan,masc sing,ablt'), normal_form='образ', score=1.0, methods_stack=((DictionaryAnalyzer(), 'образом', 2260, 4),))]\n",
            "[Parse(word=',', tag=OpencorporaTag('PNCT'), normal_form=',', score=1.0, methods_stack=((PunctuationAnalyzer(score=0.9), ','),))]\n",
            "[Parse(word='мне', tag=OpencorporaTag('NPRO,1per sing,datv'), normal_form='я', score=0.975393, methods_stack=((DictionaryAnalyzer(), 'мне', 3246, 2),)), Parse(word='мне', tag=OpencorporaTag('NPRO,1per sing,loct'), normal_form='я', score=0.024606, methods_stack=((DictionaryAnalyzer(), 'мне', 3246, 6),))]\n",
            "[Parse(word='запомнились', tag=OpencorporaTag('VERB,perf,intr plur,past,indc'), normal_form='запомниться', score=1.0, methods_stack=((DictionaryAnalyzer(), 'запомнились', 652, 4),))]\n",
            "[Parse(word='университетские', tag=OpencorporaTag('ADJF plur,nomn'), normal_form='университетский', score=0.5, methods_stack=((DictionaryAnalyzer(), 'университетские', 16, 20),)), Parse(word='университетские', tag=OpencorporaTag('ADJF inan,plur,accs'), normal_form='университетский', score=0.5, methods_stack=((DictionaryAnalyzer(), 'университетские', 16, 24),))]\n",
            "[Parse(word='коридоры', tag=OpencorporaTag('NOUN,inan,masc plur,nomn'), normal_form='коридор', score=0.8, methods_stack=((DictionaryAnalyzer(), 'коридоры', 34, 6),)), Parse(word='коридоры', tag=OpencorporaTag('NOUN,inan,masc plur,accs'), normal_form='коридор', score=0.2, methods_stack=((DictionaryAnalyzer(), 'коридоры', 34, 9),))]\n",
            "[Parse(word='.', tag=OpencorporaTag('PNCT'), normal_form='.', score=1.0, methods_stack=((PunctuationAnalyzer(score=0.9), '.'),))]\n",
            "[Parse(word='я', tag=OpencorporaTag('NPRO,1per sing,nomn'), normal_form='я', score=0.2941176470588234, methods_stack=((DictionaryAnalyzer(), 'я', 3246, 0),)), Parse(word='я', tag=OpencorporaTag('NOUN,anim,masc,Sgtm,Name,Fixd,Abbr,Init sing,nomn'), normal_form='я', score=0.02941176470588234, methods_stack=((AbbreviatedFirstNameAnalyzer(letters='АБВГДЕЁЖЗИЙКЛМНОПРСТУФХЦЧШЩЭЮЯ', score=0.1, tag_pattern='NOUN,anim,%(gender)s,Sgtm,Name,Fixd,Abbr,Init sing,%(case)s'), 'Я'),)), Parse(word='я', tag=OpencorporaTag('NOUN,anim,masc,Sgtm,Name,Fixd,Abbr,Init sing,gent'), normal_form='я', score=0.02941176470588234, methods_stack=((AbbreviatedFirstNameAnalyzer(letters='АБВГДЕЁЖЗИЙКЛМНОПРСТУФХЦЧШЩЭЮЯ', score=0.1, tag_pattern='NOUN,anim,%(gender)s,Sgtm,Name,Fixd,Abbr,Init sing,%(case)s'), 'Я'),)), Parse(word='я', tag=OpencorporaTag('NOUN,anim,masc,Sgtm,Name,Fixd,Abbr,Init sing,datv'), normal_form='я', score=0.02941176470588234, methods_stack=((AbbreviatedFirstNameAnalyzer(letters='АБВГДЕЁЖЗИЙКЛМНОПРСТУФХЦЧШЩЭЮЯ', score=0.1, tag_pattern='NOUN,anim,%(gender)s,Sgtm,Name,Fixd,Abbr,Init sing,%(case)s'), 'Я'),)), Parse(word='я', tag=OpencorporaTag('NOUN,anim,masc,Sgtm,Name,Fixd,Abbr,Init sing,accs'), normal_form='я', score=0.02941176470588234, methods_stack=((AbbreviatedFirstNameAnalyzer(letters='АБВГДЕЁЖЗИЙКЛМНОПРСТУФХЦЧШЩЭЮЯ', score=0.1, tag_pattern='NOUN,anim,%(gender)s,Sgtm,Name,Fixd,Abbr,Init sing,%(case)s'), 'Я'),)), Parse(word='я', tag=OpencorporaTag('NOUN,anim,masc,Sgtm,Name,Fixd,Abbr,Init sing,ablt'), normal_form='я', score=0.02941176470588234, methods_stack=((AbbreviatedFirstNameAnalyzer(letters='АБВГДЕЁЖЗИЙКЛМНОПРСТУФХЦЧШЩЭЮЯ', score=0.1, tag_pattern='NOUN,anim,%(gender)s,Sgtm,Name,Fixd,Abbr,Init sing,%(case)s'), 'Я'),)), Parse(word='я', tag=OpencorporaTag('NOUN,anim,masc,Sgtm,Name,Fixd,Abbr,Init sing,loct'), normal_form='я', score=0.02941176470588234, methods_stack=((AbbreviatedFirstNameAnalyzer(letters='АБВГДЕЁЖЗИЙКЛМНОПРСТУФХЦЧШЩЭЮЯ', score=0.1, tag_pattern='NOUN,anim,%(gender)s,Sgtm,Name,Fixd,Abbr,Init sing,%(case)s'), 'Я'),)), Parse(word='я', tag=OpencorporaTag('NOUN,anim,femn,Sgtm,Name,Fixd,Abbr,Init sing,nomn'), normal_form='я', score=0.02941176470588234, methods_stack=((AbbreviatedFirstNameAnalyzer(letters='АБВГДЕЁЖЗИЙКЛМНОПРСТУФХЦЧШЩЭЮЯ', score=0.1, tag_pattern='NOUN,anim,%(gender)s,Sgtm,Name,Fixd,Abbr,Init sing,%(case)s'), 'Я'),)), Parse(word='я', tag=OpencorporaTag('NOUN,anim,femn,Sgtm,Name,Fixd,Abbr,Init sing,gent'), normal_form='я', score=0.02941176470588234, methods_stack=((AbbreviatedFirstNameAnalyzer(letters='АБВГДЕЁЖЗИЙКЛМНОПРСТУФХЦЧШЩЭЮЯ', score=0.1, tag_pattern='NOUN,anim,%(gender)s,Sgtm,Name,Fixd,Abbr,Init sing,%(case)s'), 'Я'),)), Parse(word='я', tag=OpencorporaTag('NOUN,anim,femn,Sgtm,Name,Fixd,Abbr,Init sing,datv'), normal_form='я', score=0.02941176470588234, methods_stack=((AbbreviatedFirstNameAnalyzer(letters='АБВГДЕЁЖЗИЙКЛМНОПРСТУФХЦЧШЩЭЮЯ', score=0.1, tag_pattern='NOUN,anim,%(gender)s,Sgtm,Name,Fixd,Abbr,Init sing,%(case)s'), 'Я'),)), Parse(word='я', tag=OpencorporaTag('NOUN,anim,femn,Sgtm,Name,Fixd,Abbr,Init sing,accs'), normal_form='я', score=0.02941176470588234, methods_stack=((AbbreviatedFirstNameAnalyzer(letters='АБВГДЕЁЖЗИЙКЛМНОПРСТУФХЦЧШЩЭЮЯ', score=0.1, tag_pattern='NOUN,anim,%(gender)s,Sgtm,Name,Fixd,Abbr,Init sing,%(case)s'), 'Я'),)), Parse(word='я', tag=OpencorporaTag('NOUN,anim,femn,Sgtm,Name,Fixd,Abbr,Init sing,ablt'), normal_form='я', score=0.02941176470588234, methods_stack=((AbbreviatedFirstNameAnalyzer(letters='АБВГДЕЁЖЗИЙКЛМНОПРСТУФХЦЧШЩЭЮЯ', score=0.1, tag_pattern='NOUN,anim,%(gender)s,Sgtm,Name,Fixd,Abbr,Init sing,%(case)s'), 'Я'),)), Parse(word='я', tag=OpencorporaTag('NOUN,anim,femn,Sgtm,Name,Fixd,Abbr,Init sing,loct'), normal_form='я', score=0.02941176470588234, methods_stack=((AbbreviatedFirstNameAnalyzer(letters='АБВГДЕЁЖЗИЙКЛМНОПРСТУФХЦЧШЩЭЮЯ', score=0.1, tag_pattern='NOUN,anim,%(gender)s,Sgtm,Name,Fixd,Abbr,Init sing,%(case)s'), 'Я'),)), Parse(word='я', tag=OpencorporaTag('NOUN,anim,masc,Sgtm,Patr,Fixd,Abbr,Init sing,nomn'), normal_form='я', score=0.02941176470588234, methods_stack=((AbbreviatedPatronymicAnalyzer(letters='АБВГДЕЁЖЗИЙКЛМНОПРСТУФХЦЧШЩЭЮЯ', score=0.1, tag_pattern='NOUN,anim,%(gender)s,Sgtm,Patr,Fixd,Abbr,Init sing,%(case)s'), 'Я'),)), Parse(word='я', tag=OpencorporaTag('NOUN,anim,masc,Sgtm,Patr,Fixd,Abbr,Init sing,gent'), normal_form='я', score=0.02941176470588234, methods_stack=((AbbreviatedPatronymicAnalyzer(letters='АБВГДЕЁЖЗИЙКЛМНОПРСТУФХЦЧШЩЭЮЯ', score=0.1, tag_pattern='NOUN,anim,%(gender)s,Sgtm,Patr,Fixd,Abbr,Init sing,%(case)s'), 'Я'),)), Parse(word='я', tag=OpencorporaTag('NOUN,anim,masc,Sgtm,Patr,Fixd,Abbr,Init sing,datv'), normal_form='я', score=0.02941176470588234, methods_stack=((AbbreviatedPatronymicAnalyzer(letters='АБВГДЕЁЖЗИЙКЛМНОПРСТУФХЦЧШЩЭЮЯ', score=0.1, tag_pattern='NOUN,anim,%(gender)s,Sgtm,Patr,Fixd,Abbr,Init sing,%(case)s'), 'Я'),)), Parse(word='я', tag=OpencorporaTag('NOUN,anim,masc,Sgtm,Patr,Fixd,Abbr,Init sing,accs'), normal_form='я', score=0.02941176470588234, methods_stack=((AbbreviatedPatronymicAnalyzer(letters='АБВГДЕЁЖЗИЙКЛМНОПРСТУФХЦЧШЩЭЮЯ', score=0.1, tag_pattern='NOUN,anim,%(gender)s,Sgtm,Patr,Fixd,Abbr,Init sing,%(case)s'), 'Я'),)), Parse(word='я', tag=OpencorporaTag('NOUN,anim,masc,Sgtm,Patr,Fixd,Abbr,Init sing,ablt'), normal_form='я', score=0.02941176470588234, methods_stack=((AbbreviatedPatronymicAnalyzer(letters='АБВГДЕЁЖЗИЙКЛМНОПРСТУФХЦЧШЩЭЮЯ', score=0.1, tag_pattern='NOUN,anim,%(gender)s,Sgtm,Patr,Fixd,Abbr,Init sing,%(case)s'), 'Я'),)), Parse(word='я', tag=OpencorporaTag('NOUN,anim,masc,Sgtm,Patr,Fixd,Abbr,Init sing,loct'), normal_form='я', score=0.02941176470588234, methods_stack=((AbbreviatedPatronymicAnalyzer(letters='АБВГДЕЁЖЗИЙКЛМНОПРСТУФХЦЧШЩЭЮЯ', score=0.1, tag_pattern='NOUN,anim,%(gender)s,Sgtm,Patr,Fixd,Abbr,Init sing,%(case)s'), 'Я'),)), Parse(word='я', tag=OpencorporaTag('NOUN,anim,femn,Sgtm,Patr,Fixd,Abbr,Init sing,nomn'), normal_form='я', score=0.02941176470588234, methods_stack=((AbbreviatedPatronymicAnalyzer(letters='АБВГДЕЁЖЗИЙКЛМНОПРСТУФХЦЧШЩЭЮЯ', score=0.1, tag_pattern='NOUN,anim,%(gender)s,Sgtm,Patr,Fixd,Abbr,Init sing,%(case)s'), 'Я'),)), Parse(word='я', tag=OpencorporaTag('NOUN,anim,femn,Sgtm,Patr,Fixd,Abbr,Init sing,gent'), normal_form='я', score=0.02941176470588234, methods_stack=((AbbreviatedPatronymicAnalyzer(letters='АБВГДЕЁЖЗИЙКЛМНОПРСТУФХЦЧШЩЭЮЯ', score=0.1, tag_pattern='NOUN,anim,%(gender)s,Sgtm,Patr,Fixd,Abbr,Init sing,%(case)s'), 'Я'),)), Parse(word='я', tag=OpencorporaTag('NOUN,anim,femn,Sgtm,Patr,Fixd,Abbr,Init sing,datv'), normal_form='я', score=0.02941176470588234, methods_stack=((AbbreviatedPatronymicAnalyzer(letters='АБВГДЕЁЖЗИЙКЛМНОПРСТУФХЦЧШЩЭЮЯ', score=0.1, tag_pattern='NOUN,anim,%(gender)s,Sgtm,Patr,Fixd,Abbr,Init sing,%(case)s'), 'Я'),)), Parse(word='я', tag=OpencorporaTag('NOUN,anim,femn,Sgtm,Patr,Fixd,Abbr,Init sing,accs'), normal_form='я', score=0.02941176470588234, methods_stack=((AbbreviatedPatronymicAnalyzer(letters='АБВГДЕЁЖЗИЙКЛМНОПРСТУФХЦЧШЩЭЮЯ', score=0.1, tag_pattern='NOUN,anim,%(gender)s,Sgtm,Patr,Fixd,Abbr,Init sing,%(case)s'), 'Я'),)), Parse(word='я', tag=OpencorporaTag('NOUN,anim,femn,Sgtm,Patr,Fixd,Abbr,Init sing,ablt'), normal_form='я', score=0.02941176470588234, methods_stack=((AbbreviatedPatronymicAnalyzer(letters='АБВГДЕЁЖЗИЙКЛМНОПРСТУФХЦЧШЩЭЮЯ', score=0.1, tag_pattern='NOUN,anim,%(gender)s,Sgtm,Patr,Fixd,Abbr,Init sing,%(case)s'), 'Я'),)), Parse(word='я', tag=OpencorporaTag('NOUN,anim,femn,Sgtm,Patr,Fixd,Abbr,Init sing,loct'), normal_form='я', score=0.02941176470588234, methods_stack=((AbbreviatedPatronymicAnalyzer(letters='АБВГДЕЁЖЗИЙКЛМНОПРСТУФХЦЧШЩЭЮЯ', score=0.1, tag_pattern='NOUN,anim,%(gender)s,Sgtm,Patr,Fixd,Abbr,Init sing,%(case)s'), 'Я'),))]\n",
            "[Parse(word='помню', tag=OpencorporaTag('VERB,impf,tran sing,1per,pres,indc'), normal_form='помнить', score=1.0, methods_stack=((DictionaryAnalyzer(), 'помню', 634, 1),))]\n",
            "[Parse(word='…', tag=OpencorporaTag('PNCT'), normal_form='…', score=1.0, methods_stack=((PunctuationAnalyzer(score=0.9), '…'),))]\n",
            "[Parse(word='отполированные', tag=OpencorporaTag('PRTF,perf,tran,past,pssv plur,nomn'), normal_form='отполировать', score=0.5, methods_stack=((DictionaryAnalyzer(), 'отполированные', 748, 62),)), Parse(word='отполированные', tag=OpencorporaTag('PRTF,perf,tran,past,pssv inan,plur,accs'), normal_form='отполировать', score=0.5, methods_stack=((DictionaryAnalyzer(), 'отполированные', 748, 66),))]\n",
            "[Parse(word='до', tag=OpencorporaTag('PREP'), normal_form='до', score=1.0, methods_stack=((DictionaryAnalyzer(), 'до', 24, 0),))]\n",
            "[Parse(word='блеска', tag=OpencorporaTag('NOUN,inan,masc sing,gent'), normal_form='блеск', score=1.0, methods_stack=((DictionaryAnalyzer(), 'блеска', 347, 1),))]\n",
            "[Parse(word='скамьи', tag=OpencorporaTag('NOUN,inan,femn sing,gent'), normal_form='скамья', score=0.666666, methods_stack=((DictionaryAnalyzer(), 'скамьи', 332, 1),)), Parse(word='скамьи', tag=OpencorporaTag('NOUN,inan,femn plur,nomn'), normal_form='скамья', score=0.166666, methods_stack=((DictionaryAnalyzer(), 'скамьи', 332, 7),)), Parse(word='скамьи', tag=OpencorporaTag('NOUN,inan,femn plur,accs'), normal_form='скамья', score=0.166666, methods_stack=((DictionaryAnalyzer(), 'скамьи', 332, 10),))]\n",
            "[Parse(word='возле', tag=OpencorporaTag('PREP'), normal_form='возле', score=0.966101, methods_stack=((DictionaryAnalyzer(), 'возле', 24, 0),)), Parse(word='возле', tag=OpencorporaTag('ADVB'), normal_form='возле', score=0.033898, methods_stack=((DictionaryAnalyzer(), 'возле', 3, 0),))]\n",
            "[Parse(word='фотолаборатории', tag=OpencorporaTag('NOUN,inan,femn sing,gent'), normal_form='фотолаборатория', score=0.2, methods_stack=((DictionaryAnalyzer(), 'фотолаборатории', 41, 1),)), Parse(word='фотолаборатории', tag=OpencorporaTag('NOUN,inan,femn sing,datv'), normal_form='фотолаборатория', score=0.2, methods_stack=((DictionaryAnalyzer(), 'фотолаборатории', 41, 2),)), Parse(word='фотолаборатории', tag=OpencorporaTag('NOUN,inan,femn sing,loct'), normal_form='фотолаборатория', score=0.2, methods_stack=((DictionaryAnalyzer(), 'фотолаборатории', 41, 6),)), Parse(word='фотолаборатории', tag=OpencorporaTag('NOUN,inan,femn plur,nomn'), normal_form='фотолаборатория', score=0.2, methods_stack=((DictionaryAnalyzer(), 'фотолаборатории', 41, 7),)), Parse(word='фотолаборатории', tag=OpencorporaTag('NOUN,inan,femn plur,accs'), normal_form='фотолаборатория', score=0.2, methods_stack=((DictionaryAnalyzer(), 'фотолаборатории', 41, 10),))]\n",
            "[Parse(word='.', tag=OpencorporaTag('PNCT'), normal_form='.', score=1.0, methods_stack=((PunctuationAnalyzer(score=0.9), '.'),))]\n",
            "[Parse(word='примерно', tag=OpencorporaTag('ADVB'), normal_form='примерно', score=0.882352, methods_stack=((DictionaryAnalyzer(), 'примерно', 3, 0),)), Parse(word='примерно', tag=OpencorporaTag('ADJS,Qual neut,sing'), normal_form='примерный', score=0.058823, methods_stack=((DictionaryAnalyzer(), 'примерно', 12, 29),)), Parse(word='примерно', tag=OpencorporaTag('PRCL'), normal_form='примерно', score=0.058823, methods_stack=((DictionaryAnalyzer(), 'примерно', 22, 0),))]\n",
            "[Parse(word='к', tag=OpencorporaTag('PREP'), normal_form='к', score=0.991397, methods_stack=((DictionaryAnalyzer(), 'к', 393, 0),)), Parse(word='к', tag=OpencorporaTag('CONJ Abbr'), normal_form='как', score=0.00691, methods_stack=((DictionaryAnalyzer(), 'к', 1751, 2),)), Parse(word='к', tag=OpencorporaTag('NOUN,anim,masc,Fixd,Abbr sing,nomn'), normal_form='к', score=0.000141, methods_stack=((DictionaryAnalyzer(), 'к', 3289, 0),)), Parse(word='к', tag=OpencorporaTag('NOUN,anim,masc,Fixd,Abbr sing,gent'), normal_form='к', score=0.000141, methods_stack=((DictionaryAnalyzer(), 'к', 3289, 1),)), Parse(word='к', tag=OpencorporaTag('NOUN,anim,masc,Fixd,Abbr sing,datv'), normal_form='к', score=0.000141, methods_stack=((DictionaryAnalyzer(), 'к', 3289, 2),)), Parse(word='к', tag=OpencorporaTag('NOUN,anim,masc,Fixd,Abbr sing,accs'), normal_form='к', score=0.000141, methods_stack=((DictionaryAnalyzer(), 'к', 3289, 3),)), Parse(word='к', tag=OpencorporaTag('NOUN,anim,masc,Fixd,Abbr sing,ablt'), normal_form='к', score=0.000141, methods_stack=((DictionaryAnalyzer(), 'к', 3289, 4),)), Parse(word='к', tag=OpencorporaTag('NOUN,anim,masc,Fixd,Abbr sing,loct'), normal_form='к', score=0.000141, methods_stack=((DictionaryAnalyzer(), 'к', 3289, 5),)), Parse(word='к', tag=OpencorporaTag('NOUN,anim,masc,Fixd,Abbr plur,nomn'), normal_form='к', score=0.000141, methods_stack=((DictionaryAnalyzer(), 'к', 3289, 6),)), Parse(word='к', tag=OpencorporaTag('NOUN,anim,masc,Fixd,Abbr plur,gent'), normal_form='к', score=0.000141, methods_stack=((DictionaryAnalyzer(), 'к', 3289, 7),)), Parse(word='к', tag=OpencorporaTag('NOUN,anim,masc,Fixd,Abbr plur,datv'), normal_form='к', score=0.000141, methods_stack=((DictionaryAnalyzer(), 'к', 3289, 8),)), Parse(word='к', tag=OpencorporaTag('NOUN,anim,masc,Fixd,Abbr plur,accs'), normal_form='к', score=0.000141, methods_stack=((DictionaryAnalyzer(), 'к', 3289, 9),)), Parse(word='к', tag=OpencorporaTag('NOUN,anim,masc,Fixd,Abbr plur,ablt'), normal_form='к', score=0.000141, methods_stack=((DictionaryAnalyzer(), 'к', 3289, 10),)), Parse(word='к', tag=OpencorporaTag('NOUN,anim,masc,Fixd,Abbr plur,loct'), normal_form='к', score=0.000141, methods_stack=((DictionaryAnalyzer(), 'к', 3289, 11),))]\n",
            "[Parse(word='двенадцати', tag=OpencorporaTag('NUMR gent'), normal_form='двенадцать', score=0.666666, methods_stack=((DictionaryAnalyzer(), 'двенадцати', 930, 1),)), Parse(word='двенадцати', tag=OpencorporaTag('NUMR loct'), normal_form='двенадцать', score=0.25, methods_stack=((DictionaryAnalyzer(), 'двенадцати', 930, 5),)), Parse(word='двенадцати', tag=OpencorporaTag('NUMR datv'), normal_form='двенадцать', score=0.083333, methods_stack=((DictionaryAnalyzer(), 'двенадцати', 930, 2),))]\n",
            "[Parse(word='здесь', tag=OpencorporaTag('ADVB,Prdx'), normal_form='здесь', score=1.0, methods_stack=((DictionaryAnalyzer(), 'здесь', 404, 0),))]\n",
            "[Parse(word='собираются', tag=OpencorporaTag('VERB,impf,intr plur,3per,pres,indc'), normal_form='собираться', score=1.0, methods_stack=((DictionaryAnalyzer(), 'собираются', 234, 6),))]\n",
            "[Parse(word='окрестные', tag=OpencorporaTag('ADJF,Qual inan,plur,accs'), normal_form='окрестный', score=0.571428, methods_stack=((DictionaryAnalyzer(), 'окрестные', 12, 24),)), Parse(word='окрестные', tag=OpencorporaTag('ADJF,Qual plur,nomn'), normal_form='окрестный', score=0.428571, methods_stack=((DictionaryAnalyzer(), 'окрестные', 12, 20),))]\n",
            "[Parse(word='лентяи', tag=OpencorporaTag('NOUN,anim,masc plur,nomn'), normal_form='лентяй', score=1.0, methods_stack=((DictionaryAnalyzer(), 'лентяи', 67, 6),))]\n",
            "[Parse(word='.', tag=OpencorporaTag('PNCT'), normal_form='.', score=1.0, methods_stack=((PunctuationAnalyzer(score=0.9), '.'),))]\n",
            "[Parse(word='мы', tag=OpencorporaTag('NPRO,1per plur,nomn'), normal_form='мы', score=1.0, methods_stack=((DictionaryAnalyzer(), 'мы', 2072, 0),))]\n",
            "[Parse(word='говорим', tag=OpencorporaTag('VERB,impf,tran plur,1per,pres,indc'), normal_form='говорить', score=0.971428, methods_stack=((DictionaryAnalyzer(), 'говорим', 415, 2),)), Parse(word='говорим', tag=OpencorporaTag('PRTS,impf,pres,pssv masc,sing'), normal_form='говорить', score=0.028571, methods_stack=((DictionaryAnalyzer(), 'говорим', 415, 124),))]\n",
            "[Parse(word='о', tag=OpencorporaTag('PREP'), normal_form='о', score=0.987837, methods_stack=((DictionaryAnalyzer(), 'о', 2226, 0),)), Parse(word='о', tag=OpencorporaTag('INTJ'), normal_form='о', score=0.007601, methods_stack=((DictionaryAnalyzer(), 'о', 21, 0),)), Parse(word='о', tag=OpencorporaTag('NOUN,inan,femn,Fixd,Abbr sing,nomn'), normal_form='о', score=0.00019, methods_stack=((DictionaryAnalyzer(), 'о', 214, 0),)), Parse(word='о', tag=OpencorporaTag('NOUN,inan,femn,Fixd,Abbr sing,gent'), normal_form='о', score=0.00019, methods_stack=((DictionaryAnalyzer(), 'о', 214, 1),)), Parse(word='о', tag=OpencorporaTag('NOUN,inan,femn,Fixd,Abbr sing,datv'), normal_form='о', score=0.00019, methods_stack=((DictionaryAnalyzer(), 'о', 214, 2),)), Parse(word='о', tag=OpencorporaTag('NOUN,inan,femn,Fixd,Abbr sing,accs'), normal_form='о', score=0.00019, methods_stack=((DictionaryAnalyzer(), 'о', 214, 3),)), Parse(word='о', tag=OpencorporaTag('NOUN,inan,femn,Fixd,Abbr sing,ablt'), normal_form='о', score=0.00019, methods_stack=((DictionaryAnalyzer(), 'о', 214, 4),)), Parse(word='о', tag=OpencorporaTag('NOUN,inan,femn,Fixd,Abbr sing,loct'), normal_form='о', score=0.00019, methods_stack=((DictionaryAnalyzer(), 'о', 214, 5),)), Parse(word='о', tag=OpencorporaTag('NOUN,inan,femn,Fixd,Abbr plur,nomn'), normal_form='о', score=0.00019, methods_stack=((DictionaryAnalyzer(), 'о', 214, 6),)), Parse(word='о', tag=OpencorporaTag('NOUN,inan,femn,Fixd,Abbr plur,gent'), normal_form='о', score=0.00019, methods_stack=((DictionaryAnalyzer(), 'о', 214, 7),)), Parse(word='о', tag=OpencorporaTag('NOUN,inan,femn,Fixd,Abbr plur,datv'), normal_form='о', score=0.00019, methods_stack=((DictionaryAnalyzer(), 'о', 214, 8),)), Parse(word='о', tag=OpencorporaTag('NOUN,inan,femn,Fixd,Abbr plur,accs'), normal_form='о', score=0.00019, methods_stack=((DictionaryAnalyzer(), 'о', 214, 9),)), Parse(word='о', tag=OpencorporaTag('NOUN,inan,femn,Fixd,Abbr plur,ablt'), normal_form='о', score=0.00019, methods_stack=((DictionaryAnalyzer(), 'о', 214, 10),)), Parse(word='о', tag=OpencorporaTag('NOUN,inan,femn,Fixd,Abbr plur,loct'), normal_form='о', score=0.00019, methods_stack=((DictionaryAnalyzer(), 'о', 214, 11),)), Parse(word='о', tag=OpencorporaTag('NOUN,inan,masc,Fixd,Abbr sing,nomn'), normal_form='о', score=0.00019, methods_stack=((DictionaryAnalyzer(), 'о', 349, 0),)), Parse(word='о', tag=OpencorporaTag('NOUN,inan,masc,Fixd,Abbr sing,gent'), normal_form='о', score=0.00019, methods_stack=((DictionaryAnalyzer(), 'о', 349, 1),)), Parse(word='о', tag=OpencorporaTag('NOUN,inan,masc,Fixd,Abbr sing,datv'), normal_form='о', score=0.00019, methods_stack=((DictionaryAnalyzer(), 'о', 349, 2),)), Parse(word='о', tag=OpencorporaTag('NOUN,inan,masc,Fixd,Abbr sing,accs'), normal_form='о', score=0.00019, methods_stack=((DictionaryAnalyzer(), 'о', 349, 3),)), Parse(word='о', tag=OpencorporaTag('NOUN,inan,masc,Fixd,Abbr sing,ablt'), normal_form='о', score=0.00019, methods_stack=((DictionaryAnalyzer(), 'о', 349, 4),)), Parse(word='о', tag=OpencorporaTag('NOUN,inan,masc,Fixd,Abbr sing,loct'), normal_form='о', score=0.00019, methods_stack=((DictionaryAnalyzer(), 'о', 349, 5),)), Parse(word='о', tag=OpencorporaTag('NOUN,inan,masc,Fixd,Abbr plur,nomn'), normal_form='о', score=0.00019, methods_stack=((DictionaryAnalyzer(), 'о', 349, 6),)), Parse(word='о', tag=OpencorporaTag('NOUN,inan,masc,Fixd,Abbr plur,gent'), normal_form='о', score=0.00019, methods_stack=((DictionaryAnalyzer(), 'о', 349, 7),)), Parse(word='о', tag=OpencorporaTag('NOUN,inan,masc,Fixd,Abbr plur,datv'), normal_form='о', score=0.00019, methods_stack=((DictionaryAnalyzer(), 'о', 349, 8),)), Parse(word='о', tag=OpencorporaTag('NOUN,inan,masc,Fixd,Abbr plur,accs'), normal_form='о', score=0.00019, methods_stack=((DictionaryAnalyzer(), 'о', 349, 9),)), Parse(word='о', tag=OpencorporaTag('NOUN,inan,masc,Fixd,Abbr plur,ablt'), normal_form='о', score=0.00019, methods_stack=((DictionaryAnalyzer(), 'о', 349, 10),)), Parse(word='о', tag=OpencorporaTag('NOUN,inan,masc,Fixd,Abbr plur,loct'), normal_form='о', score=0.00019, methods_stack=((DictionaryAnalyzer(), 'о', 349, 11),))]\n",
            "[Parse(word='литературе', tag=OpencorporaTag('NOUN,inan,femn sing,loct'), normal_form='литература', score=0.817391, methods_stack=((DictionaryAnalyzer(), 'литературе', 55, 6),)), Parse(word='литературе', tag=OpencorporaTag('NOUN,inan,femn sing,datv'), normal_form='литература', score=0.182608, methods_stack=((DictionaryAnalyzer(), 'литературе', 55, 2),))]\n",
            "[Parse(word='и', tag=OpencorporaTag('CONJ'), normal_form='и', score=0.998263, methods_stack=((DictionaryAnalyzer(), 'и', 20, 0),)), Parse(word='и', tag=OpencorporaTag('PRCL'), normal_form='и', score=0.000306, methods_stack=((DictionaryAnalyzer(), 'и', 22, 0),)), Parse(word='и', tag=OpencorporaTag('INTJ'), normal_form='и', score=0.000204, methods_stack=((DictionaryAnalyzer(), 'и', 21, 0),)), Parse(word='и', tag=OpencorporaTag('NOUN,anim,masc,Fixd,Abbr sing,nomn'), normal_form='и', score=0.000102, methods_stack=((DictionaryAnalyzer(), 'и', 3289, 0),)), Parse(word='и', tag=OpencorporaTag('NOUN,anim,masc,Fixd,Abbr sing,gent'), normal_form='и', score=0.000102, methods_stack=((DictionaryAnalyzer(), 'и', 3289, 1),)), Parse(word='и', tag=OpencorporaTag('NOUN,anim,masc,Fixd,Abbr sing,datv'), normal_form='и', score=0.000102, methods_stack=((DictionaryAnalyzer(), 'и', 3289, 2),)), Parse(word='и', tag=OpencorporaTag('NOUN,anim,masc,Fixd,Abbr sing,accs'), normal_form='и', score=0.000102, methods_stack=((DictionaryAnalyzer(), 'и', 3289, 3),)), Parse(word='и', tag=OpencorporaTag('NOUN,anim,masc,Fixd,Abbr sing,ablt'), normal_form='и', score=0.000102, methods_stack=((DictionaryAnalyzer(), 'и', 3289, 4),)), Parse(word='и', tag=OpencorporaTag('NOUN,anim,masc,Fixd,Abbr sing,loct'), normal_form='и', score=0.000102, methods_stack=((DictionaryAnalyzer(), 'и', 3289, 5),)), Parse(word='и', tag=OpencorporaTag('NOUN,anim,masc,Fixd,Abbr plur,nomn'), normal_form='и', score=0.000102, methods_stack=((DictionaryAnalyzer(), 'и', 3289, 6),)), Parse(word='и', tag=OpencorporaTag('NOUN,anim,masc,Fixd,Abbr plur,gent'), normal_form='и', score=0.000102, methods_stack=((DictionaryAnalyzer(), 'и', 3289, 7),)), Parse(word='и', tag=OpencorporaTag('NOUN,anim,masc,Fixd,Abbr plur,datv'), normal_form='и', score=0.000102, methods_stack=((DictionaryAnalyzer(), 'и', 3289, 8),)), Parse(word='и', tag=OpencorporaTag('NOUN,anim,masc,Fixd,Abbr plur,accs'), normal_form='и', score=0.000102, methods_stack=((DictionaryAnalyzer(), 'и', 3289, 9),)), Parse(word='и', tag=OpencorporaTag('NOUN,anim,masc,Fixd,Abbr plur,ablt'), normal_form='и', score=0.000102, methods_stack=((DictionaryAnalyzer(), 'и', 3289, 10),)), Parse(word='и', tag=OpencorporaTag('NOUN,anim,masc,Fixd,Abbr plur,loct'), normal_form='и', score=0.000102, methods_stack=((DictionaryAnalyzer(), 'и', 3289, 11),))]\n",
            "[Parse(word='разглядываем', tag=OpencorporaTag('VERB,impf,tran plur,1per,pres,indc'), normal_form='разглядывать', score=0.5, methods_stack=((DictionaryAnalyzer(), 'разглядываем', 215, 2),)), Parse(word='разглядываем', tag=OpencorporaTag('PRTS,impf,pres,pssv masc,sing'), normal_form='разглядывать', score=0.5, methods_stack=((DictionaryAnalyzer(), 'разглядываем', 215, 97),))]\n",
            "[Parse(word='пробегающих', tag=OpencorporaTag('PRTF,impf,tran,pres,actv plur,gent'), normal_form='пробегать', score=0.3333333333333333, methods_stack=((DictionaryAnalyzer(), 'пробегающих', 215, 34),)), Parse(word='пробегающих', tag=OpencorporaTag('PRTF,impf,tran,pres,actv anim,plur,accs'), normal_form='пробегать', score=0.3333333333333333, methods_stack=((DictionaryAnalyzer(), 'пробегающих', 215, 36),)), Parse(word='пробегающих', tag=OpencorporaTag('PRTF,impf,tran,pres,actv plur,loct'), normal_form='пробегать', score=0.3333333333333333, methods_stack=((DictionaryAnalyzer(), 'пробегающих', 215, 39),))]\n",
            "[Parse(word='мимо', tag=OpencorporaTag('PREP'), normal_form='мимо', score=0.630769, methods_stack=((DictionaryAnalyzer(), 'мимо', 24, 0),)), Parse(word='мимо', tag=OpencorporaTag('ADVB'), normal_form='мимо', score=0.36923, methods_stack=((DictionaryAnalyzer(), 'мимо', 3, 0),))]\n",
            "[Parse(word='девиц', tag=OpencorporaTag('NOUN,anim,femn plur,gent'), normal_form='девица', score=0.5, methods_stack=((DictionaryAnalyzer(), 'девиц', 145, 8),)), Parse(word='девиц', tag=OpencorporaTag('NOUN,anim,femn plur,accs'), normal_form='девица', score=0.5, methods_stack=((DictionaryAnalyzer(), 'девиц', 145, 10),))]\n",
            "[Parse(word='»', tag=OpencorporaTag('PNCT'), normal_form='»', score=1.0, methods_stack=((PunctuationAnalyzer(score=0.9), '»'),))]\n",
            "[Parse(word='.', tag=OpencorporaTag('PNCT'), normal_form='.', score=1.0, methods_stack=((PunctuationAnalyzer(score=0.9), '.'),))]\n",
            "[Parse(word='во', tag=OpencorporaTag('PREP Vpre'), normal_form='в', score=1.0, methods_stack=((DictionaryAnalyzer(), 'во', 393, 1),))]\n",
            "[Parse(word='время', tag=OpencorporaTag('NOUN,inan,neut sing,accs'), normal_form='время', score=0.861936, methods_stack=((DictionaryAnalyzer(), 'время', 563, 3),)), Parse(word='время', tag=OpencorporaTag('NOUN,inan,neut sing,nomn'), normal_form='время', score=0.138063, methods_stack=((DictionaryAnalyzer(), 'время', 563, 0),))]\n",
            "[Parse(word='учёбы', tag=OpencorporaTag('NOUN,inan,femn sing,gent'), normal_form='учёба', score=0.666666, methods_stack=((DictionaryAnalyzer(), 'учёбы', 55, 1),)), Parse(word='учёбы', tag=OpencorporaTag('NOUN,inan,femn plur,nomn'), normal_form='учёба', score=0.166666, methods_stack=((DictionaryAnalyzer(), 'учёбы', 55, 7),)), Parse(word='учёбы', tag=OpencorporaTag('NOUN,inan,femn plur,accs'), normal_form='учёба', score=0.166666, methods_stack=((DictionaryAnalyzer(), 'учёбы', 55, 10),))]\n",
            "[Parse(word='он', tag=OpencorporaTag('NPRO,masc,3per,Anph sing,nomn'), normal_form='он', score=1.0, methods_stack=((DictionaryAnalyzer(), 'он', 2304, 0),))]\n",
            "[Parse(word='подружился', tag=OpencorporaTag('VERB,perf,intr masc,sing,past,indc'), normal_form='подружиться', score=1.0, methods_stack=((DictionaryAnalyzer(), 'подружился', 998, 1),))]\n",
            "[Parse(word='с', tag=OpencorporaTag('PREP'), normal_form='с', score=0.997625, methods_stack=((DictionaryAnalyzer(), 'с', 393, 0),)), Parse(word='с', tag=OpencorporaTag('NOUN,inan,femn,Fixd,Abbr plur,nomn'), normal_form='с', score=0.000407, methods_stack=((DictionaryAnalyzer(), 'с', 214, 6),)), Parse(word='с', tag=OpencorporaTag('PRCL'), normal_form='с', score=0.000271, methods_stack=((DictionaryAnalyzer(), 'с', 22, 0),)), Parse(word='с', tag=OpencorporaTag('NOUN,inan,femn,Fixd,Abbr sing,nomn'), normal_form='с', score=6.7e-05, methods_stack=((DictionaryAnalyzer(), 'с', 214, 0),)), Parse(word='с', tag=OpencorporaTag('NOUN,inan,femn,Fixd,Abbr sing,gent'), normal_form='с', score=6.7e-05, methods_stack=((DictionaryAnalyzer(), 'с', 214, 1),)), Parse(word='с', tag=OpencorporaTag('NOUN,inan,femn,Fixd,Abbr sing,datv'), normal_form='с', score=6.7e-05, methods_stack=((DictionaryAnalyzer(), 'с', 214, 2),)), Parse(word='с', tag=OpencorporaTag('NOUN,inan,femn,Fixd,Abbr sing,accs'), normal_form='с', score=6.7e-05, methods_stack=((DictionaryAnalyzer(), 'с', 214, 3),)), Parse(word='с', tag=OpencorporaTag('NOUN,inan,femn,Fixd,Abbr sing,ablt'), normal_form='с', score=6.7e-05, methods_stack=((DictionaryAnalyzer(), 'с', 214, 4),)), Parse(word='с', tag=OpencorporaTag('NOUN,inan,femn,Fixd,Abbr sing,loct'), normal_form='с', score=6.7e-05, methods_stack=((DictionaryAnalyzer(), 'с', 214, 5),)), Parse(word='с', tag=OpencorporaTag('NOUN,inan,femn,Fixd,Abbr plur,gent'), normal_form='с', score=6.7e-05, methods_stack=((DictionaryAnalyzer(), 'с', 214, 7),)), Parse(word='с', tag=OpencorporaTag('NOUN,inan,femn,Fixd,Abbr plur,datv'), normal_form='с', score=6.7e-05, methods_stack=((DictionaryAnalyzer(), 'с', 214, 8),)), Parse(word='с', tag=OpencorporaTag('NOUN,inan,femn,Fixd,Abbr plur,accs'), normal_form='с', score=6.7e-05, methods_stack=((DictionaryAnalyzer(), 'с', 214, 9),)), Parse(word='с', tag=OpencorporaTag('NOUN,inan,femn,Fixd,Abbr plur,ablt'), normal_form='с', score=6.7e-05, methods_stack=((DictionaryAnalyzer(), 'с', 214, 10),)), Parse(word='с', tag=OpencorporaTag('NOUN,inan,femn,Fixd,Abbr plur,loct'), normal_form='с', score=6.7e-05, methods_stack=((DictionaryAnalyzer(), 'с', 214, 11),)), Parse(word='с', tag=OpencorporaTag('NOUN,inan,neut,Fixd,Abbr sing,nomn'), normal_form='с', score=6.7e-05, methods_stack=((DictionaryAnalyzer(), 'с', 812, 0),)), Parse(word='с', tag=OpencorporaTag('NOUN,inan,neut,Fixd,Abbr sing,gent'), normal_form='с', score=6.7e-05, methods_stack=((DictionaryAnalyzer(), 'с', 812, 1),)), Parse(word='с', tag=OpencorporaTag('NOUN,inan,neut,Fixd,Abbr sing,datv'), normal_form='с', score=6.7e-05, methods_stack=((DictionaryAnalyzer(), 'с', 812, 2),)), Parse(word='с', tag=OpencorporaTag('NOUN,inan,neut,Fixd,Abbr sing,accs'), normal_form='с', score=6.7e-05, methods_stack=((DictionaryAnalyzer(), 'с', 812, 3),)), Parse(word='с', tag=OpencorporaTag('NOUN,inan,neut,Fixd,Abbr sing,ablt'), normal_form='с', score=6.7e-05, methods_stack=((DictionaryAnalyzer(), 'с', 812, 4),)), Parse(word='с', tag=OpencorporaTag('NOUN,inan,neut,Fixd,Abbr sing,loct'), normal_form='с', score=6.7e-05, methods_stack=((DictionaryAnalyzer(), 'с', 812, 5),)), Parse(word='с', tag=OpencorporaTag('NOUN,inan,neut,Fixd,Abbr plur,nomn'), normal_form='с', score=6.7e-05, methods_stack=((DictionaryAnalyzer(), 'с', 812, 6),)), Parse(word='с', tag=OpencorporaTag('NOUN,inan,neut,Fixd,Abbr plur,gent'), normal_form='с', score=6.7e-05, methods_stack=((DictionaryAnalyzer(), 'с', 812, 7),)), Parse(word='с', tag=OpencorporaTag('NOUN,inan,neut,Fixd,Abbr plur,datv'), normal_form='с', score=6.7e-05, methods_stack=((DictionaryAnalyzer(), 'с', 812, 8),)), Parse(word='с', tag=OpencorporaTag('NOUN,inan,neut,Fixd,Abbr plur,accs'), normal_form='с', score=6.7e-05, methods_stack=((DictionaryAnalyzer(), 'с', 812, 9),)), Parse(word='с', tag=OpencorporaTag('NOUN,inan,neut,Fixd,Abbr plur,ablt'), normal_form='с', score=6.7e-05, methods_stack=((DictionaryAnalyzer(), 'с', 812, 10),)), Parse(word='с', tag=OpencorporaTag('NOUN,inan,neut,Fixd,Abbr plur,loct'), normal_form='с', score=6.7e-05, methods_stack=((DictionaryAnalyzer(), 'с', 812, 11),))]\n",
            "[Parse(word='иосифом', tag=OpencorporaTag('NOUN,anim,masc,Name sing,ablt'), normal_form='иосиф', score=1.0, methods_stack=((DictionaryAnalyzer(), 'иосифом', 27, 4),))]\n",
            "[Parse(word='бродским', tag=OpencorporaTag('NOUN,anim,masc,Sgtm,Surn sing,ablt'), normal_form='бродский', score=0.666666, methods_stack=((DictionaryAnalyzer(), 'бродским', 103, 4),)), Parse(word='бродским', tag=OpencorporaTag('NOUN,anim,ms-f,Pltm,Surn plur,datv'), normal_form='бродский', score=0.333333, methods_stack=((DictionaryAnalyzer(), 'бродским', 103, 14),))]\n",
            "[Parse(word=',', tag=OpencorporaTag('PNCT'), normal_form=',', score=1.0, methods_stack=((PunctuationAnalyzer(score=0.9), ','),))]\n",
            "[Parse(word='анатолием', tag=OpencorporaTag('NOUN,anim,masc,Name sing,ablt'), normal_form='анатолий', score=1.0, methods_stack=((DictionaryAnalyzer(), 'анатолием', 61, 4),))]\n",
            "[Parse(word='найманом', tag=OpencorporaTag('NOUN,anim,masc,Sgtm,Surn sing,ablt'), normal_form='найман', score=1.0, methods_stack=((DictionaryAnalyzer(), 'найманом', 29, 4),))]\n",
            "[Parse(word='и', tag=OpencorporaTag('CONJ'), normal_form='и', score=0.998263, methods_stack=((DictionaryAnalyzer(), 'и', 20, 0),)), Parse(word='и', tag=OpencorporaTag('PRCL'), normal_form='и', score=0.000306, methods_stack=((DictionaryAnalyzer(), 'и', 22, 0),)), Parse(word='и', tag=OpencorporaTag('INTJ'), normal_form='и', score=0.000204, methods_stack=((DictionaryAnalyzer(), 'и', 21, 0),)), Parse(word='и', tag=OpencorporaTag('NOUN,anim,masc,Fixd,Abbr sing,nomn'), normal_form='и', score=0.000102, methods_stack=((DictionaryAnalyzer(), 'и', 3289, 0),)), Parse(word='и', tag=OpencorporaTag('NOUN,anim,masc,Fixd,Abbr sing,gent'), normal_form='и', score=0.000102, methods_stack=((DictionaryAnalyzer(), 'и', 3289, 1),)), Parse(word='и', tag=OpencorporaTag('NOUN,anim,masc,Fixd,Abbr sing,datv'), normal_form='и', score=0.000102, methods_stack=((DictionaryAnalyzer(), 'и', 3289, 2),)), Parse(word='и', tag=OpencorporaTag('NOUN,anim,masc,Fixd,Abbr sing,accs'), normal_form='и', score=0.000102, methods_stack=((DictionaryAnalyzer(), 'и', 3289, 3),)), Parse(word='и', tag=OpencorporaTag('NOUN,anim,masc,Fixd,Abbr sing,ablt'), normal_form='и', score=0.000102, methods_stack=((DictionaryAnalyzer(), 'и', 3289, 4),)), Parse(word='и', tag=OpencorporaTag('NOUN,anim,masc,Fixd,Abbr sing,loct'), normal_form='и', score=0.000102, methods_stack=((DictionaryAnalyzer(), 'и', 3289, 5),)), Parse(word='и', tag=OpencorporaTag('NOUN,anim,masc,Fixd,Abbr plur,nomn'), normal_form='и', score=0.000102, methods_stack=((DictionaryAnalyzer(), 'и', 3289, 6),)), Parse(word='и', tag=OpencorporaTag('NOUN,anim,masc,Fixd,Abbr plur,gent'), normal_form='и', score=0.000102, methods_stack=((DictionaryAnalyzer(), 'и', 3289, 7),)), Parse(word='и', tag=OpencorporaTag('NOUN,anim,masc,Fixd,Abbr plur,datv'), normal_form='и', score=0.000102, methods_stack=((DictionaryAnalyzer(), 'и', 3289, 8),)), Parse(word='и', tag=OpencorporaTag('NOUN,anim,masc,Fixd,Abbr plur,accs'), normal_form='и', score=0.000102, methods_stack=((DictionaryAnalyzer(), 'и', 3289, 9),)), Parse(word='и', tag=OpencorporaTag('NOUN,anim,masc,Fixd,Abbr plur,ablt'), normal_form='и', score=0.000102, methods_stack=((DictionaryAnalyzer(), 'и', 3289, 10),)), Parse(word='и', tag=OpencorporaTag('NOUN,anim,masc,Fixd,Abbr plur,loct'), normal_form='и', score=0.000102, methods_stack=((DictionaryAnalyzer(), 'и', 3289, 11),))]\n",
            "[Parse(word='другими', tag=OpencorporaTag('ADJF,Subx,Apro plur,ablt'), normal_form='другой', score=1.0, methods_stack=((DictionaryAnalyzer(), 'другими', 1424, 25),))]\n",
            "[Parse(word='ленинградскими', tag=OpencorporaTag('ADJF plur,ablt'), normal_form='ленинградский', score=1.0, methods_stack=((DictionaryAnalyzer(), 'ленинградскими', 16, 25),))]\n",
            "[Parse(word='поэтами', tag=OpencorporaTag('NOUN,anim,masc plur,ablt'), normal_form='поэт', score=1.0, methods_stack=((DictionaryAnalyzer(), 'поэтами', 52, 10),))]\n",
            "[Parse(word='и', tag=OpencorporaTag('CONJ'), normal_form='и', score=0.998263, methods_stack=((DictionaryAnalyzer(), 'и', 20, 0),)), Parse(word='и', tag=OpencorporaTag('PRCL'), normal_form='и', score=0.000306, methods_stack=((DictionaryAnalyzer(), 'и', 22, 0),)), Parse(word='и', tag=OpencorporaTag('INTJ'), normal_form='и', score=0.000204, methods_stack=((DictionaryAnalyzer(), 'и', 21, 0),)), Parse(word='и', tag=OpencorporaTag('NOUN,anim,masc,Fixd,Abbr sing,nomn'), normal_form='и', score=0.000102, methods_stack=((DictionaryAnalyzer(), 'и', 3289, 0),)), Parse(word='и', tag=OpencorporaTag('NOUN,anim,masc,Fixd,Abbr sing,gent'), normal_form='и', score=0.000102, methods_stack=((DictionaryAnalyzer(), 'и', 3289, 1),)), Parse(word='и', tag=OpencorporaTag('NOUN,anim,masc,Fixd,Abbr sing,datv'), normal_form='и', score=0.000102, methods_stack=((DictionaryAnalyzer(), 'и', 3289, 2),)), Parse(word='и', tag=OpencorporaTag('NOUN,anim,masc,Fixd,Abbr sing,accs'), normal_form='и', score=0.000102, methods_stack=((DictionaryAnalyzer(), 'и', 3289, 3),)), Parse(word='и', tag=OpencorporaTag('NOUN,anim,masc,Fixd,Abbr sing,ablt'), normal_form='и', score=0.000102, methods_stack=((DictionaryAnalyzer(), 'и', 3289, 4),)), Parse(word='и', tag=OpencorporaTag('NOUN,anim,masc,Fixd,Abbr sing,loct'), normal_form='и', score=0.000102, methods_stack=((DictionaryAnalyzer(), 'и', 3289, 5),)), Parse(word='и', tag=OpencorporaTag('NOUN,anim,masc,Fixd,Abbr plur,nomn'), normal_form='и', score=0.000102, methods_stack=((DictionaryAnalyzer(), 'и', 3289, 6),)), Parse(word='и', tag=OpencorporaTag('NOUN,anim,masc,Fixd,Abbr plur,gent'), normal_form='и', score=0.000102, methods_stack=((DictionaryAnalyzer(), 'и', 3289, 7),)), Parse(word='и', tag=OpencorporaTag('NOUN,anim,masc,Fixd,Abbr plur,datv'), normal_form='и', score=0.000102, methods_stack=((DictionaryAnalyzer(), 'и', 3289, 8),)), Parse(word='и', tag=OpencorporaTag('NOUN,anim,masc,Fixd,Abbr plur,accs'), normal_form='и', score=0.000102, methods_stack=((DictionaryAnalyzer(), 'и', 3289, 9),)), Parse(word='и', tag=OpencorporaTag('NOUN,anim,masc,Fixd,Abbr plur,ablt'), normal_form='и', score=0.000102, methods_stack=((DictionaryAnalyzer(), 'и', 3289, 10),)), Parse(word='и', tag=OpencorporaTag('NOUN,anim,masc,Fixd,Abbr plur,loct'), normal_form='и', score=0.000102, methods_stack=((DictionaryAnalyzer(), 'и', 3289, 11),))]\n",
            "[Parse(word='прозаиками', tag=OpencorporaTag('NOUN,anim,masc plur,ablt'), normal_form='прозаик', score=1.0, methods_stack=((DictionaryAnalyzer(), 'прозаиками', 2, 10),))]\n",
            "[Parse(word='.', tag=OpencorporaTag('PNCT'), normal_form='.', score=1.0, methods_stack=((PunctuationAnalyzer(score=0.9), '.'),))]\n",
            "[Parse(word='а', tag=OpencorporaTag('CONJ'), normal_form='а', score=0.997155, methods_stack=((DictionaryAnalyzer(), 'а', 20, 0),)), Parse(word='а', tag=OpencorporaTag('INTJ'), normal_form='а', score=0.001706, methods_stack=((DictionaryAnalyzer(), 'а', 21, 0),)), Parse(word='а', tag=OpencorporaTag('PRCL'), normal_form='а', score=0.001137, methods_stack=((DictionaryAnalyzer(), 'а', 22, 0),)), Parse(word='а', tag=OpencorporaTag('NOUN,anim,masc,Sgtm,Name,Fixd,Abbr,Init sing,nomn'), normal_form='а', score=0.0, methods_stack=((AbbreviatedFirstNameAnalyzer(letters='АБВГДЕЁЖЗИЙКЛМНОПРСТУФХЦЧШЩЭЮЯ', score=0.1, tag_pattern='NOUN,anim,%(gender)s,Sgtm,Name,Fixd,Abbr,Init sing,%(case)s'), 'А'),)), Parse(word='а', tag=OpencorporaTag('NOUN,anim,masc,Sgtm,Name,Fixd,Abbr,Init sing,gent'), normal_form='а', score=0.0, methods_stack=((AbbreviatedFirstNameAnalyzer(letters='АБВГДЕЁЖЗИЙКЛМНОПРСТУФХЦЧШЩЭЮЯ', score=0.1, tag_pattern='NOUN,anim,%(gender)s,Sgtm,Name,Fixd,Abbr,Init sing,%(case)s'), 'А'),)), Parse(word='а', tag=OpencorporaTag('NOUN,anim,masc,Sgtm,Name,Fixd,Abbr,Init sing,datv'), normal_form='а', score=0.0, methods_stack=((AbbreviatedFirstNameAnalyzer(letters='АБВГДЕЁЖЗИЙКЛМНОПРСТУФХЦЧШЩЭЮЯ', score=0.1, tag_pattern='NOUN,anim,%(gender)s,Sgtm,Name,Fixd,Abbr,Init sing,%(case)s'), 'А'),)), Parse(word='а', tag=OpencorporaTag('NOUN,anim,masc,Sgtm,Name,Fixd,Abbr,Init sing,accs'), normal_form='а', score=0.0, methods_stack=((AbbreviatedFirstNameAnalyzer(letters='АБВГДЕЁЖЗИЙКЛМНОПРСТУФХЦЧШЩЭЮЯ', score=0.1, tag_pattern='NOUN,anim,%(gender)s,Sgtm,Name,Fixd,Abbr,Init sing,%(case)s'), 'А'),)), Parse(word='а', tag=OpencorporaTag('NOUN,anim,masc,Sgtm,Name,Fixd,Abbr,Init sing,ablt'), normal_form='а', score=0.0, methods_stack=((AbbreviatedFirstNameAnalyzer(letters='АБВГДЕЁЖЗИЙКЛМНОПРСТУФХЦЧШЩЭЮЯ', score=0.1, tag_pattern='NOUN,anim,%(gender)s,Sgtm,Name,Fixd,Abbr,Init sing,%(case)s'), 'А'),)), Parse(word='а', tag=OpencorporaTag('NOUN,anim,masc,Sgtm,Name,Fixd,Abbr,Init sing,loct'), normal_form='а', score=0.0, methods_stack=((AbbreviatedFirstNameAnalyzer(letters='АБВГДЕЁЖЗИЙКЛМНОПРСТУФХЦЧШЩЭЮЯ', score=0.1, tag_pattern='NOUN,anim,%(gender)s,Sgtm,Name,Fixd,Abbr,Init sing,%(case)s'), 'А'),)), Parse(word='а', tag=OpencorporaTag('NOUN,anim,femn,Sgtm,Name,Fixd,Abbr,Init sing,nomn'), normal_form='а', score=0.0, methods_stack=((AbbreviatedFirstNameAnalyzer(letters='АБВГДЕЁЖЗИЙКЛМНОПРСТУФХЦЧШЩЭЮЯ', score=0.1, tag_pattern='NOUN,anim,%(gender)s,Sgtm,Name,Fixd,Abbr,Init sing,%(case)s'), 'А'),)), Parse(word='а', tag=OpencorporaTag('NOUN,anim,femn,Sgtm,Name,Fixd,Abbr,Init sing,gent'), normal_form='а', score=0.0, methods_stack=((AbbreviatedFirstNameAnalyzer(letters='АБВГДЕЁЖЗИЙКЛМНОПРСТУФХЦЧШЩЭЮЯ', score=0.1, tag_pattern='NOUN,anim,%(gender)s,Sgtm,Name,Fixd,Abbr,Init sing,%(case)s'), 'А'),)), Parse(word='а', tag=OpencorporaTag('NOUN,anim,femn,Sgtm,Name,Fixd,Abbr,Init sing,datv'), normal_form='а', score=0.0, methods_stack=((AbbreviatedFirstNameAnalyzer(letters='АБВГДЕЁЖЗИЙКЛМНОПРСТУФХЦЧШЩЭЮЯ', score=0.1, tag_pattern='NOUN,anim,%(gender)s,Sgtm,Name,Fixd,Abbr,Init sing,%(case)s'), 'А'),)), Parse(word='а', tag=OpencorporaTag('NOUN,anim,femn,Sgtm,Name,Fixd,Abbr,Init sing,accs'), normal_form='а', score=0.0, methods_stack=((AbbreviatedFirstNameAnalyzer(letters='АБВГДЕЁЖЗИЙКЛМНОПРСТУФХЦЧШЩЭЮЯ', score=0.1, tag_pattern='NOUN,anim,%(gender)s,Sgtm,Name,Fixd,Abbr,Init sing,%(case)s'), 'А'),)), Parse(word='а', tag=OpencorporaTag('NOUN,anim,femn,Sgtm,Name,Fixd,Abbr,Init sing,ablt'), normal_form='а', score=0.0, methods_stack=((AbbreviatedFirstNameAnalyzer(letters='АБВГДЕЁЖЗИЙКЛМНОПРСТУФХЦЧШЩЭЮЯ', score=0.1, tag_pattern='NOUN,anim,%(gender)s,Sgtm,Name,Fixd,Abbr,Init sing,%(case)s'), 'А'),)), Parse(word='а', tag=OpencorporaTag('NOUN,anim,femn,Sgtm,Name,Fixd,Abbr,Init sing,loct'), normal_form='а', score=0.0, methods_stack=((AbbreviatedFirstNameAnalyzer(letters='АБВГДЕЁЖЗИЙКЛМНОПРСТУФХЦЧШЩЭЮЯ', score=0.1, tag_pattern='NOUN,anim,%(gender)s,Sgtm,Name,Fixd,Abbr,Init sing,%(case)s'), 'А'),)), Parse(word='а', tag=OpencorporaTag('NOUN,anim,masc,Sgtm,Patr,Fixd,Abbr,Init sing,nomn'), normal_form='а', score=0.0, methods_stack=((AbbreviatedPatronymicAnalyzer(letters='АБВГДЕЁЖЗИЙКЛМНОПРСТУФХЦЧШЩЭЮЯ', score=0.1, tag_pattern='NOUN,anim,%(gender)s,Sgtm,Patr,Fixd,Abbr,Init sing,%(case)s'), 'А'),)), Parse(word='а', tag=OpencorporaTag('NOUN,anim,masc,Sgtm,Patr,Fixd,Abbr,Init sing,gent'), normal_form='а', score=0.0, methods_stack=((AbbreviatedPatronymicAnalyzer(letters='АБВГДЕЁЖЗИЙКЛМНОПРСТУФХЦЧШЩЭЮЯ', score=0.1, tag_pattern='NOUN,anim,%(gender)s,Sgtm,Patr,Fixd,Abbr,Init sing,%(case)s'), 'А'),)), Parse(word='а', tag=OpencorporaTag('NOUN,anim,masc,Sgtm,Patr,Fixd,Abbr,Init sing,datv'), normal_form='а', score=0.0, methods_stack=((AbbreviatedPatronymicAnalyzer(letters='АБВГДЕЁЖЗИЙКЛМНОПРСТУФХЦЧШЩЭЮЯ', score=0.1, tag_pattern='NOUN,anim,%(gender)s,Sgtm,Patr,Fixd,Abbr,Init sing,%(case)s'), 'А'),)), Parse(word='а', tag=OpencorporaTag('NOUN,anim,masc,Sgtm,Patr,Fixd,Abbr,Init sing,accs'), normal_form='а', score=0.0, methods_stack=((AbbreviatedPatronymicAnalyzer(letters='АБВГДЕЁЖЗИЙКЛМНОПРСТУФХЦЧШЩЭЮЯ', score=0.1, tag_pattern='NOUN,anim,%(gender)s,Sgtm,Patr,Fixd,Abbr,Init sing,%(case)s'), 'А'),)), Parse(word='а', tag=OpencorporaTag('NOUN,anim,masc,Sgtm,Patr,Fixd,Abbr,Init sing,ablt'), normal_form='а', score=0.0, methods_stack=((AbbreviatedPatronymicAnalyzer(letters='АБВГДЕЁЖЗИЙКЛМНОПРСТУФХЦЧШЩЭЮЯ', score=0.1, tag_pattern='NOUN,anim,%(gender)s,Sgtm,Patr,Fixd,Abbr,Init sing,%(case)s'), 'А'),)), Parse(word='а', tag=OpencorporaTag('NOUN,anim,masc,Sgtm,Patr,Fixd,Abbr,Init sing,loct'), normal_form='а', score=0.0, methods_stack=((AbbreviatedPatronymicAnalyzer(letters='АБВГДЕЁЖЗИЙКЛМНОПРСТУФХЦЧШЩЭЮЯ', score=0.1, tag_pattern='NOUN,anim,%(gender)s,Sgtm,Patr,Fixd,Abbr,Init sing,%(case)s'), 'А'),)), Parse(word='а', tag=OpencorporaTag('NOUN,anim,femn,Sgtm,Patr,Fixd,Abbr,Init sing,nomn'), normal_form='а', score=0.0, methods_stack=((AbbreviatedPatronymicAnalyzer(letters='АБВГДЕЁЖЗИЙКЛМНОПРСТУФХЦЧШЩЭЮЯ', score=0.1, tag_pattern='NOUN,anim,%(gender)s,Sgtm,Patr,Fixd,Abbr,Init sing,%(case)s'), 'А'),)), Parse(word='а', tag=OpencorporaTag('NOUN,anim,femn,Sgtm,Patr,Fixd,Abbr,Init sing,gent'), normal_form='а', score=0.0, methods_stack=((AbbreviatedPatronymicAnalyzer(letters='АБВГДЕЁЖЗИЙКЛМНОПРСТУФХЦЧШЩЭЮЯ', score=0.1, tag_pattern='NOUN,anim,%(gender)s,Sgtm,Patr,Fixd,Abbr,Init sing,%(case)s'), 'А'),)), Parse(word='а', tag=OpencorporaTag('NOUN,anim,femn,Sgtm,Patr,Fixd,Abbr,Init sing,datv'), normal_form='а', score=0.0, methods_stack=((AbbreviatedPatronymicAnalyzer(letters='АБВГДЕЁЖЗИЙКЛМНОПРСТУФХЦЧШЩЭЮЯ', score=0.1, tag_pattern='NOUN,anim,%(gender)s,Sgtm,Patr,Fixd,Abbr,Init sing,%(case)s'), 'А'),)), Parse(word='а', tag=OpencorporaTag('NOUN,anim,femn,Sgtm,Patr,Fixd,Abbr,Init sing,accs'), normal_form='а', score=0.0, methods_stack=((AbbreviatedPatronymicAnalyzer(letters='АБВГДЕЁЖЗИЙКЛМНОПРСТУФХЦЧШЩЭЮЯ', score=0.1, tag_pattern='NOUN,anim,%(gender)s,Sgtm,Patr,Fixd,Abbr,Init sing,%(case)s'), 'А'),)), Parse(word='а', tag=OpencorporaTag('NOUN,anim,femn,Sgtm,Patr,Fixd,Abbr,Init sing,ablt'), normal_form='а', score=0.0, methods_stack=((AbbreviatedPatronymicAnalyzer(letters='АБВГДЕЁЖЗИЙКЛМНОПРСТУФХЦЧШЩЭЮЯ', score=0.1, tag_pattern='NOUN,anim,%(gender)s,Sgtm,Patr,Fixd,Abbr,Init sing,%(case)s'), 'А'),)), Parse(word='а', tag=OpencorporaTag('NOUN,anim,femn,Sgtm,Patr,Fixd,Abbr,Init sing,loct'), normal_form='а', score=0.0, methods_stack=((AbbreviatedPatronymicAnalyzer(letters='АБВГДЕЁЖЗИЙКЛМНОПРСТУФХЦЧШЩЭЮЯ', score=0.1, tag_pattern='NOUN,anim,%(gender)s,Sgtm,Patr,Fixd,Abbr,Init sing,%(case)s'), 'А'),))]\n",
            "[Parse(word='ещё', tag=OpencorporaTag('ADVB'), normal_form='ещё', score=0.5, methods_stack=((DictionaryAnalyzer(), 'ещё', 3, 0),)), Parse(word='ещё', tag=OpencorporaTag('PRCL'), normal_form='ещё', score=0.5, methods_stack=((DictionaryAnalyzer(), 'ещё', 22, 0),))]\n",
            "[Parse(word='—', tag=OpencorporaTag('PNCT'), normal_form='—', score=1.0, methods_stack=((PunctuationAnalyzer(score=0.9), '—'),))]\n",
            "[Parse(word='познакомился', tag=OpencorporaTag('VERB,perf,intr masc,sing,past,indc'), normal_form='познакомиться', score=1.0, methods_stack=((DictionaryAnalyzer(), 'познакомился', 788, 1),))]\n",
            "[Parse(word='со', tag=OpencorporaTag('PREP Vpre'), normal_form='с', score=0.992592, methods_stack=((DictionaryAnalyzer(), 'со', 393, 1),)), Parse(word='со', tag=OpencorporaTag('NOUN,inan,femn,Fixd,Abbr sing,nomn'), normal_form='со', score=0.000617, methods_stack=((DictionaryAnalyzer(), 'со', 214, 0),)), Parse(word='со', tag=OpencorporaTag('NOUN,inan,femn,Fixd,Abbr sing,gent'), normal_form='со', score=0.000617, methods_stack=((DictionaryAnalyzer(), 'со', 214, 1),)), Parse(word='со', tag=OpencorporaTag('NOUN,inan,femn,Fixd,Abbr sing,datv'), normal_form='со', score=0.000617, methods_stack=((DictionaryAnalyzer(), 'со', 214, 2),)), Parse(word='со', tag=OpencorporaTag('NOUN,inan,femn,Fixd,Abbr sing,accs'), normal_form='со', score=0.000617, methods_stack=((DictionaryAnalyzer(), 'со', 214, 3),)), Parse(word='со', tag=OpencorporaTag('NOUN,inan,femn,Fixd,Abbr sing,ablt'), normal_form='со', score=0.000617, methods_stack=((DictionaryAnalyzer(), 'со', 214, 4),)), Parse(word='со', tag=OpencorporaTag('NOUN,inan,femn,Fixd,Abbr sing,loct'), normal_form='со', score=0.000617, methods_stack=((DictionaryAnalyzer(), 'со', 214, 5),)), Parse(word='со', tag=OpencorporaTag('NOUN,inan,femn,Fixd,Abbr plur,nomn'), normal_form='со', score=0.000617, methods_stack=((DictionaryAnalyzer(), 'со', 214, 6),)), Parse(word='со', tag=OpencorporaTag('NOUN,inan,femn,Fixd,Abbr plur,gent'), normal_form='со', score=0.000617, methods_stack=((DictionaryAnalyzer(), 'со', 214, 7),)), Parse(word='со', tag=OpencorporaTag('NOUN,inan,femn,Fixd,Abbr plur,datv'), normal_form='со', score=0.000617, methods_stack=((DictionaryAnalyzer(), 'со', 214, 8),)), Parse(word='со', tag=OpencorporaTag('NOUN,inan,femn,Fixd,Abbr plur,accs'), normal_form='со', score=0.000617, methods_stack=((DictionaryAnalyzer(), 'со', 214, 9),)), Parse(word='со', tag=OpencorporaTag('NOUN,inan,femn,Fixd,Abbr plur,ablt'), normal_form='со', score=0.000617, methods_stack=((DictionaryAnalyzer(), 'со', 214, 10),)), Parse(word='со', tag=OpencorporaTag('NOUN,inan,femn,Fixd,Abbr plur,loct'), normal_form='со', score=0.000617, methods_stack=((DictionaryAnalyzer(), 'со', 214, 11),))]\n",
            "[Parse(word='своей', tag=OpencorporaTag('ADJF,Apro,Anph femn,sing,gent'), normal_form='свой', score=0.430508, methods_stack=((DictionaryAnalyzer(), 'своей', 2851, 8),)), Parse(word='своей', tag=OpencorporaTag('ADJF,Apro,Anph femn,sing,loct'), normal_form='свой', score=0.264406, methods_stack=((DictionaryAnalyzer(), 'своей', 2851, 13),)), Parse(word='своей', tag=OpencorporaTag('ADJF,Apro,Anph femn,sing,ablt'), normal_form='свой', score=0.194915, methods_stack=((DictionaryAnalyzer(), 'своей', 2851, 11),)), Parse(word='своей', tag=OpencorporaTag('ADJF,Apro,Anph femn,sing,datv'), normal_form='свой', score=0.110169, methods_stack=((DictionaryAnalyzer(), 'своей', 2851, 9),))]\n",
            "[Parse(word='первой', tag=OpencorporaTag('ADJF,Anum femn,sing,gent'), normal_form='первый', score=0.512635, methods_stack=((DictionaryAnalyzer(), 'первой', 2398, 8),)), Parse(word='первой', tag=OpencorporaTag('ADJF,Anum femn,sing,ablt'), normal_form='первый', score=0.241877, methods_stack=((DictionaryAnalyzer(), 'первой', 2398, 11),)), Parse(word='первой', tag=OpencorporaTag('ADJF,Anum femn,sing,loct'), normal_form='первый', score=0.220216, methods_stack=((DictionaryAnalyzer(), 'первой', 2398, 12),)), Parse(word='первой', tag=OpencorporaTag('ADJF,Anum femn,sing,datv'), normal_form='первый', score=0.02527, methods_stack=((DictionaryAnalyzer(), 'первой', 2398, 9),))]\n",
            "[Parse(word='женой', tag=OpencorporaTag('NOUN,anim,femn sing,ablt'), normal_form='жена', score=1.0, methods_stack=((DictionaryAnalyzer(), 'женой', 1471, 4),))]\n",
            "[Parse(word='асей', tag=OpencorporaTag('NOUN,anim,femn,Name sing,ablt'), normal_form='ася', score=0.571428, methods_stack=((DictionaryAnalyzer(), 'асей', 208, 4),)), Parse(word='асей', tag=OpencorporaTag('NOUN,anim,masc,Name sing,nomn'), normal_form='асей', score=0.142857, methods_stack=((DictionaryAnalyzer(), 'асей', 42, 0),)), Parse(word='асей', tag=OpencorporaTag('NOUN,anim,femn,Name plur,gent'), normal_form='асея', score=0.142857, methods_stack=((DictionaryAnalyzer(), 'асей', 128, 8),)), Parse(word='асей', tag=OpencorporaTag('NOUN,anim,femn,Name plur,accs'), normal_form='асея', score=0.142857, methods_stack=((DictionaryAnalyzer(), 'асей', 128, 10),))]\n",
            "[Parse(word='пекуровской', tag=OpencorporaTag('ADJF femn,sing,gent'), normal_form='пекуровский', score=0.19985465116279066, methods_stack=((FakeDictionary(), 'пекуровской', 16, 8), (KnownSuffixAnalyzer(min_word_length=4, score_multiplier=0.5), 'вской'))), Parse(word='пекуровской', tag=OpencorporaTag('ADJF femn,sing,datv'), normal_form='пекуровский', score=0.19985465116279066, methods_stack=((FakeDictionary(), 'пекуровской', 16, 9), (KnownSuffixAnalyzer(min_word_length=4, score_multiplier=0.5), 'вской'))), Parse(word='пекуровской', tag=OpencorporaTag('ADJF femn,sing,ablt'), normal_form='пекуровский', score=0.19985465116279066, methods_stack=((FakeDictionary(), 'пекуровской', 16, 11), (KnownSuffixAnalyzer(min_word_length=4, score_multiplier=0.5), 'вской'))), Parse(word='пекуровской', tag=OpencorporaTag('ADJF femn,sing,loct'), normal_form='пекуровский', score=0.19985465116279066, methods_stack=((FakeDictionary(), 'пекуровской', 16, 13), (KnownSuffixAnalyzer(min_word_length=4, score_multiplier=0.5), 'вской'))), Parse(word='пекуровской', tag=OpencorporaTag('NOUN,anim,femn,Sgtm,Surn sing,gent'), normal_form='пекуровский', score=0.050145348837209294, methods_stack=((FakeDictionary(), 'пекуровской', 103, 7), (KnownSuffixAnalyzer(min_word_length=4, score_multiplier=0.5), 'вской'))), Parse(word='пекуровской', tag=OpencorporaTag('NOUN,anim,femn,Sgtm,Surn sing,datv'), normal_form='пекуровский', score=0.050145348837209294, methods_stack=((FakeDictionary(), 'пекуровской', 103, 8), (KnownSuffixAnalyzer(min_word_length=4, score_multiplier=0.5), 'вской'))), Parse(word='пекуровской', tag=OpencorporaTag('NOUN,anim,femn,Sgtm,Surn sing,ablt'), normal_form='пекуровский', score=0.050145348837209294, methods_stack=((FakeDictionary(), 'пекуровской', 103, 10), (KnownSuffixAnalyzer(min_word_length=4, score_multiplier=0.5), 'вской'))), Parse(word='пекуровской', tag=OpencorporaTag('NOUN,anim,femn,Sgtm,Surn sing,loct'), normal_form='пекуровский', score=0.050145348837209294, methods_stack=((FakeDictionary(), 'пекуровской', 103, 11), (KnownSuffixAnalyzer(min_word_length=4, score_multiplier=0.5), 'вской')))]\n",
            "[Parse(word='.', tag=OpencorporaTag('PNCT'), normal_form='.', score=1.0, methods_stack=((PunctuationAnalyzer(score=0.9), '.'),))]\n"
          ]
        }
      ]
    }
  ]
}