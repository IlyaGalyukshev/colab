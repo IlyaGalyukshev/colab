{
  "nbformat": 4,
  "nbformat_minor": 0,
  "metadata": {
    "colab": {
      "provenance": [],
      "authorship_tag": "ABX9TyP1cG0pcvY4EqB+o5NDIrL2",
      "include_colab_link": true
    },
    "kernelspec": {
      "name": "python3",
      "display_name": "Python 3"
    },
    "language_info": {
      "name": "python"
    }
  },
  "cells": [
    {
      "cell_type": "markdown",
      "metadata": {
        "id": "view-in-github",
        "colab_type": "text"
      },
      "source": [
        "<a href=\"https://colab.research.google.com/github/IlyaGalyukshev/colab/blob/main/NLP2.ipynb\" target=\"_parent\"><img src=\"https://colab.research.google.com/assets/colab-badge.svg\" alt=\"Open In Colab\"/></a>"
      ]
    },
    {
      "cell_type": "code",
      "execution_count": null,
      "metadata": {
        "id": "4NKXJpU34VkR"
      },
      "outputs": [],
      "source": [
        "import torch"
      ]
    },
    {
      "cell_type": "code",
      "source": [
        "torch.empty(5, 3)"
      ],
      "metadata": {
        "colab": {
          "base_uri": "https://localhost:8080/"
        },
        "id": "pX8vFqIo4YwN",
        "outputId": "a16581c3-c1e3-41dc-ad3d-f31bdeb5a817"
      },
      "execution_count": null,
      "outputs": [
        {
          "output_type": "execute_result",
          "data": {
            "text/plain": [
              "tensor([[1.0254e+35, 3.0634e-41, 0.0000e+00],\n",
              "        [0.0000e+00, 1.0823e+35, 3.0634e-41],\n",
              "        [9.3874e+33, 3.0634e-41, 5.8484e-18],\n",
              "        [4.5671e-41, 0.0000e+00, 0.0000e+00],\n",
              "        [0.0000e+00, 0.0000e+00, 0.0000e+00]])"
            ]
          },
          "metadata": {},
          "execution_count": 3
        }
      ]
    },
    {
      "cell_type": "code",
      "source": [
        "torch.tensor([1, 2, 3])[0].item()"
      ],
      "metadata": {
        "colab": {
          "base_uri": "https://localhost:8080/"
        },
        "id": "eBeeGIEZ4e9p",
        "outputId": "37a74f87-f2c5-47ba-b44b-c7819ea8bcce"
      },
      "execution_count": null,
      "outputs": [
        {
          "output_type": "execute_result",
          "data": {
            "text/plain": [
              "1"
            ]
          },
          "metadata": {},
          "execution_count": 13
        }
      ]
    },
    {
      "cell_type": "code",
      "source": [
        "if torch.cuda.is_available():\n",
        "  device = torch.device('cuda')\n",
        "  x = torch.randint(10, 100, (10, 10), device=device)\n",
        "  print(x)\n",
        "  print(x.to('cpu'))"
      ],
      "metadata": {
        "id": "9ECOdi6H48hz"
      },
      "execution_count": null,
      "outputs": []
    },
    {
      "cell_type": "code",
      "source": [
        "torch.cuda.is_available()"
      ],
      "metadata": {
        "colab": {
          "base_uri": "https://localhost:8080/"
        },
        "id": "B9-YSePy6N0-",
        "outputId": "aa595c6b-e2e2-4028-d17a-245d1b08f128"
      },
      "execution_count": null,
      "outputs": [
        {
          "output_type": "execute_result",
          "data": {
            "text/plain": [
              "False"
            ]
          },
          "metadata": {},
          "execution_count": 22
        }
      ]
    },
    {
      "cell_type": "code",
      "source": [
        "x = torch.randn(3, requires_grad=True)\n",
        "y = x * 4\n",
        "\n",
        "while y.data.norm() < 1000:\n",
        "  y *= 2\n",
        "\n",
        "y"
      ],
      "metadata": {
        "colab": {
          "base_uri": "https://localhost:8080/"
        },
        "id": "jRBwiSl1-u0W",
        "outputId": "3e8acf02-a15c-4423-87e6-066d686aa270"
      },
      "execution_count": null,
      "outputs": [
        {
          "output_type": "execute_result",
          "data": {
            "text/plain": [
              "tensor([ 204.6327,  701.1570, -956.9349], grad_fn=<MulBackward0>)"
            ]
          },
          "metadata": {},
          "execution_count": 27
        }
      ]
    },
    {
      "cell_type": "code",
      "source": [
        "print(x.requires_grad)\n",
        "print((x**2).requires_grad)\n",
        "\n",
        "with torch.no_grad():\n",
        "  print((x**2).requires_grad)"
      ],
      "metadata": {
        "colab": {
          "base_uri": "https://localhost:8080/"
        },
        "id": "b0iZuEA-_GJz",
        "outputId": "35f00d37-33ea-4357-cfe9-c03e26c23cad"
      },
      "execution_count": null,
      "outputs": [
        {
          "output_type": "stream",
          "name": "stdout",
          "text": [
            "True\n",
            "True\n",
            "False\n"
          ]
        }
      ]
    },
    {
      "cell_type": "code",
      "source": [
        "print(x.requires_grad)\n",
        "y = x.detach()\n",
        "print(y.requires_grad)"
      ],
      "metadata": {
        "colab": {
          "base_uri": "https://localhost:8080/"
        },
        "id": "kA1nHG9CAMZT",
        "outputId": "5a0b4bce-ef3c-4f52-82ad-be70f800a71a"
      },
      "execution_count": null,
      "outputs": [
        {
          "output_type": "stream",
          "name": "stdout",
          "text": [
            "True\n",
            "False\n"
          ]
        }
      ]
    },
    {
      "cell_type": "code",
      "source": [
        "!pip install torchtext"
      ],
      "metadata": {
        "colab": {
          "base_uri": "https://localhost:8080/"
        },
        "id": "WEXJkSqLAmZI",
        "outputId": "11a9a4ff-b974-4709-fcd8-f928e6e1de38"
      },
      "execution_count": null,
      "outputs": [
        {
          "output_type": "stream",
          "name": "stdout",
          "text": [
            "Requirement already satisfied: torchtext in /usr/local/lib/python3.10/dist-packages (0.16.0)\n",
            "Requirement already satisfied: tqdm in /usr/local/lib/python3.10/dist-packages (from torchtext) (4.66.2)\n",
            "Requirement already satisfied: requests in /usr/local/lib/python3.10/dist-packages (from torchtext) (2.31.0)\n",
            "Requirement already satisfied: torch==2.1.0 in /usr/local/lib/python3.10/dist-packages (from torchtext) (2.1.0+cu121)\n",
            "Requirement already satisfied: numpy in /usr/local/lib/python3.10/dist-packages (from torchtext) (1.25.2)\n",
            "Requirement already satisfied: torchdata==0.7.0 in /usr/local/lib/python3.10/dist-packages (from torchtext) (0.7.0)\n",
            "Requirement already satisfied: filelock in /usr/local/lib/python3.10/dist-packages (from torch==2.1.0->torchtext) (3.13.1)\n",
            "Requirement already satisfied: typing-extensions in /usr/local/lib/python3.10/dist-packages (from torch==2.1.0->torchtext) (4.9.0)\n",
            "Requirement already satisfied: sympy in /usr/local/lib/python3.10/dist-packages (from torch==2.1.0->torchtext) (1.12)\n",
            "Requirement already satisfied: networkx in /usr/local/lib/python3.10/dist-packages (from torch==2.1.0->torchtext) (3.2.1)\n",
            "Requirement already satisfied: jinja2 in /usr/local/lib/python3.10/dist-packages (from torch==2.1.0->torchtext) (3.1.3)\n",
            "Requirement already satisfied: fsspec in /usr/local/lib/python3.10/dist-packages (from torch==2.1.0->torchtext) (2023.6.0)\n",
            "Requirement already satisfied: triton==2.1.0 in /usr/local/lib/python3.10/dist-packages (from torch==2.1.0->torchtext) (2.1.0)\n",
            "Requirement already satisfied: urllib3>=1.25 in /usr/local/lib/python3.10/dist-packages (from torchdata==0.7.0->torchtext) (2.0.7)\n",
            "Requirement already satisfied: charset-normalizer<4,>=2 in /usr/local/lib/python3.10/dist-packages (from requests->torchtext) (3.3.2)\n",
            "Requirement already satisfied: idna<4,>=2.5 in /usr/local/lib/python3.10/dist-packages (from requests->torchtext) (3.6)\n",
            "Requirement already satisfied: certifi>=2017.4.17 in /usr/local/lib/python3.10/dist-packages (from requests->torchtext) (2024.2.2)\n",
            "Requirement already satisfied: MarkupSafe>=2.0 in /usr/local/lib/python3.10/dist-packages (from jinja2->torch==2.1.0->torchtext) (2.1.5)\n",
            "Requirement already satisfied: mpmath>=0.19 in /usr/local/lib/python3.10/dist-packages (from sympy->torch==2.1.0->torchtext) (1.3.0)\n"
          ]
        }
      ]
    },
    {
      "cell_type": "code",
      "source": [
        "from torchtext import data\n",
        "from torch.nn import functional as F\n",
        "import torch"
      ],
      "metadata": {
        "id": "3J9YwB-sArkQ"
      },
      "execution_count": null,
      "outputs": []
    },
    {
      "cell_type": "code",
      "source": [
        "if torch.cuda.is_available():\n",
        "  DEVICE = torch.device('cuda')\n",
        "else:\n",
        "  DEVICE = torch.device('cpu')\n",
        "\n",
        "DEVICE"
      ],
      "metadata": {
        "colab": {
          "base_uri": "https://localhost:8080/"
        },
        "id": "-YiP503pAyCL",
        "outputId": "a3b234ed-57a8-4b7f-f6d2-6963acbdeecb"
      },
      "execution_count": null,
      "outputs": [
        {
          "output_type": "execute_result",
          "data": {
            "text/plain": [
              "device(type='cpu')"
            ]
          },
          "metadata": {},
          "execution_count": 37
        }
      ]
    },
    {
      "cell_type": "code",
      "source": [
        "SEED = 1234\n",
        "\n",
        "torch.manual_seed(SEED)\n",
        "torch.backends.cudnn.deterministic = True"
      ],
      "metadata": {
        "id": "wx3HmzOdBBpR"
      },
      "execution_count": null,
      "outputs": []
    },
    {
      "cell_type": "code",
      "source": [
        "import nltk\n",
        "\n",
        "nltk.download('movie_reviews')"
      ],
      "metadata": {
        "colab": {
          "base_uri": "https://localhost:8080/"
        },
        "id": "kfmjVFJeBdPl",
        "outputId": "01dfa7ec-85a3-4610-9917-7febc151a474"
      },
      "execution_count": null,
      "outputs": [
        {
          "output_type": "stream",
          "name": "stderr",
          "text": [
            "[nltk_data] Downloading package movie_reviews to /root/nltk_data...\n",
            "[nltk_data]   Unzipping corpora/movie_reviews.zip.\n"
          ]
        },
        {
          "output_type": "execute_result",
          "data": {
            "text/plain": [
              "True"
            ]
          },
          "metadata": {},
          "execution_count": 40
        }
      ]
    },
    {
      "cell_type": "code",
      "source": [
        "import re\n",
        "import os"
      ],
      "metadata": {
        "id": "1UBR1lYuBjG1"
      },
      "execution_count": null,
      "outputs": []
    },
    {
      "cell_type": "code",
      "source": [
        "POS = 'pos'\n",
        "NEG = 'neg'"
      ],
      "metadata": {
        "id": "9ujmTS8TBpIX"
      },
      "execution_count": null,
      "outputs": []
    },
    {
      "cell_type": "code",
      "source": [
        "text_sentiments = (POS, NEG)\n",
        "train_data_list = []\n",
        "test_data_list = []\n",
        "examples = []\n",
        "\n",
        "for sentiment in text_sentiments:\n",
        "  for filename in os.listdir(os.path.join(nltk.corpus.movie_reviews.root.path, sentiment)):\n",
        "    with open(os.path.join(nltk.corpus.movie_reviews.root.path, sentiment, filename), 'r', encoding='utf-8') as file:\n",
        "      examples.append({'text': file.read().strip(), 'sentiment': int(sentiment == POS)})\n",
        "\n",
        "examples[0]"
      ],
      "metadata": {
        "colab": {
          "base_uri": "https://localhost:8080/"
        },
        "id": "40oIYf4OBrOX",
        "outputId": "4c024174-3826-4894-aade-999c4378209d"
      },
      "execution_count": null,
      "outputs": [
        {
          "output_type": "execute_result",
          "data": {
            "text/plain": [
              "{'text': \"the deer hunter , directed by michael cimino , is truly one of the greatest movies ever made . \\na captivating drama about the lives of a group of friends from a small russian-american pennsylvania community , the deer hunter promises to be one of those movies that you will never forget . \\nin this academy award winner for best picture of 1978 , outstanding performances are turned in by all actors , and cimino's brilliant directing provides the perfect vision into the character's lives . \\nthe first act of the film provides us with an inside look into the lives of a group of men from a small community who work and hang out together . \\nmichael , portrayed perfectly by robert de niro , is shown early on as the natural leader of the group . \\nafter a days work , the men leave their jobs at a factory to head down to the local bar , where john ( george dzundza ) works . \\nthree of the men , michael , steven ( john savage ) , and nick ( christopher walken ) will be leaving shortly for vietnam , but not before steven gets married . \\nafter the marriage , the group , including axel ( chuck aspegren ) , spend one last day on a hunting trip , one of their favorite past-times . \\nthis sequence of events enables us to view the lifestyle of a normal group of men , who will be suddenly and permanently affected by the ravages and separations of war . \\nthe wedding scenes , although criticized by many as being quite long , actually enhance even more the purpose of the first act . \\nthe outstanding performances by de niro , walken , streep , savage , and cazale , who died very shortly after the filming of the movie was completed , really begin to shine through and promise not to halt in the near future . \\nthe second act of the movie begins with the trio of men on the front lines in vietnam , stationed in a south vietnamese village being attacked by the viet cong . \\nthe men are eventually captured and held in a floating prison on a river . \\nthis prison , run by the v . c . , \\ninitiates the horrifying scenes in the movie , where the prisoners are forced to play russian roulette against each other . \\nsteven , who is emotionally marred by this turn of events , is secluded in a tiger cage with water up to his face when he refuses to participate . \\nmichael shows his leadership again by convincing nick that the only way that steven will survive is if the two friends play against each other , and moreover , they must play with 3 bullets in the gun . \\npersonally , i felt that de niro's absolutely gripping portrayal really was displayed in a brilliant way in these and the following scenes . \\nthe men are eventually able to escape , but are separated . \\nmichael is able to get steven , who ends up losing his legs , to medical care , while nick finds his way to saigon and a u . s . army hospital . \\nmichael returns home and does not feel at all like a hero . \\nhe wants to avoid the celebrations and recognition that his friends would like to bestow upon him . \\nhe assumes that nick is still lost in vietnam . \\nthe third act concentrates more on walken's character , who eventually stumbles upon a small gambling operation where the game is , again , russian roulette . \\nonly in this game , you play for money . \\nmichael has learned that nick is possibly still alive and returns to saigon to attempt to find him . \\nthe two narrowly find each other at the russian roulette games , but do not link up until michael discovers nick participating in the games and tries to bring him home . \\na very emotional , and , for many , a very disturbing movie , the deer hunter is a truly magnificent movie that should not be missed . \\nthe greatest performances possible are turned in by all actors , and cimino's directing , which is considered to be at his all-time best in this film , is equally dazzling . \\ndo not miss this film , it will captivate and astound you .\",\n",
              " 'sentiment': 1}"
            ]
          },
          "metadata": {},
          "execution_count": 49
        }
      ]
    },
    {
      "cell_type": "code",
      "source": [
        "import pandas as pd"
      ],
      "metadata": {
        "id": "ALAwJZR_DZl0"
      },
      "execution_count": null,
      "outputs": []
    },
    {
      "cell_type": "code",
      "source": [
        "examples_df = pd.DataFrame(examples)\n",
        "examples_df"
      ],
      "metadata": {
        "colab": {
          "base_uri": "https://localhost:8080/",
          "height": 424
        },
        "id": "EEIqX-LiDfls",
        "outputId": "3d51bdcf-1c69-40b2-e028-a51d32c87dd6"
      },
      "execution_count": null,
      "outputs": [
        {
          "output_type": "execute_result",
          "data": {
            "text/plain": [
              "                                                   text  sentiment\n",
              "0     the deer hunter , directed by michael cimino ,...          1\n",
              "1     it may seem weird to begin a film about glam r...          1\n",
              "2     quiz show , an almost perfectly accurate true ...          1\n",
              "3     if beavis and butthead had a favorite movie , ...          1\n",
              "4     after the press screening of \" moulin rouge , ...          1\n",
              "...                                                 ...        ...\n",
              "1995  the second serial-killer thriller of the month...          0\n",
              "1996  once upon a time jean-claude van damme was a d...          0\n",
              "1997  what would you do if no one could see you ? \\n...          0\n",
              "1998  when you've run out of old tv shows to turn in...          0\n",
              "1999  the first in a very long list of things wrong ...          0\n",
              "\n",
              "[2000 rows x 2 columns]"
            ],
            "text/html": [
              "\n",
              "  <div id=\"df-4b196244-1d84-40de-af08-3c811867bc17\" class=\"colab-df-container\">\n",
              "    <div>\n",
              "<style scoped>\n",
              "    .dataframe tbody tr th:only-of-type {\n",
              "        vertical-align: middle;\n",
              "    }\n",
              "\n",
              "    .dataframe tbody tr th {\n",
              "        vertical-align: top;\n",
              "    }\n",
              "\n",
              "    .dataframe thead th {\n",
              "        text-align: right;\n",
              "    }\n",
              "</style>\n",
              "<table border=\"1\" class=\"dataframe\">\n",
              "  <thead>\n",
              "    <tr style=\"text-align: right;\">\n",
              "      <th></th>\n",
              "      <th>text</th>\n",
              "      <th>sentiment</th>\n",
              "    </tr>\n",
              "  </thead>\n",
              "  <tbody>\n",
              "    <tr>\n",
              "      <th>0</th>\n",
              "      <td>the deer hunter , directed by michael cimino ,...</td>\n",
              "      <td>1</td>\n",
              "    </tr>\n",
              "    <tr>\n",
              "      <th>1</th>\n",
              "      <td>it may seem weird to begin a film about glam r...</td>\n",
              "      <td>1</td>\n",
              "    </tr>\n",
              "    <tr>\n",
              "      <th>2</th>\n",
              "      <td>quiz show , an almost perfectly accurate true ...</td>\n",
              "      <td>1</td>\n",
              "    </tr>\n",
              "    <tr>\n",
              "      <th>3</th>\n",
              "      <td>if beavis and butthead had a favorite movie , ...</td>\n",
              "      <td>1</td>\n",
              "    </tr>\n",
              "    <tr>\n",
              "      <th>4</th>\n",
              "      <td>after the press screening of \" moulin rouge , ...</td>\n",
              "      <td>1</td>\n",
              "    </tr>\n",
              "    <tr>\n",
              "      <th>...</th>\n",
              "      <td>...</td>\n",
              "      <td>...</td>\n",
              "    </tr>\n",
              "    <tr>\n",
              "      <th>1995</th>\n",
              "      <td>the second serial-killer thriller of the month...</td>\n",
              "      <td>0</td>\n",
              "    </tr>\n",
              "    <tr>\n",
              "      <th>1996</th>\n",
              "      <td>once upon a time jean-claude van damme was a d...</td>\n",
              "      <td>0</td>\n",
              "    </tr>\n",
              "    <tr>\n",
              "      <th>1997</th>\n",
              "      <td>what would you do if no one could see you ? \\n...</td>\n",
              "      <td>0</td>\n",
              "    </tr>\n",
              "    <tr>\n",
              "      <th>1998</th>\n",
              "      <td>when you've run out of old tv shows to turn in...</td>\n",
              "      <td>0</td>\n",
              "    </tr>\n",
              "    <tr>\n",
              "      <th>1999</th>\n",
              "      <td>the first in a very long list of things wrong ...</td>\n",
              "      <td>0</td>\n",
              "    </tr>\n",
              "  </tbody>\n",
              "</table>\n",
              "<p>2000 rows × 2 columns</p>\n",
              "</div>\n",
              "    <div class=\"colab-df-buttons\">\n",
              "\n",
              "  <div class=\"colab-df-container\">\n",
              "    <button class=\"colab-df-convert\" onclick=\"convertToInteractive('df-4b196244-1d84-40de-af08-3c811867bc17')\"\n",
              "            title=\"Convert this dataframe to an interactive table.\"\n",
              "            style=\"display:none;\">\n",
              "\n",
              "  <svg xmlns=\"http://www.w3.org/2000/svg\" height=\"24px\" viewBox=\"0 -960 960 960\">\n",
              "    <path d=\"M120-120v-720h720v720H120Zm60-500h600v-160H180v160Zm220 220h160v-160H400v160Zm0 220h160v-160H400v160ZM180-400h160v-160H180v160Zm440 0h160v-160H620v160ZM180-180h160v-160H180v160Zm440 0h160v-160H620v160Z\"/>\n",
              "  </svg>\n",
              "    </button>\n",
              "\n",
              "  <style>\n",
              "    .colab-df-container {\n",
              "      display:flex;\n",
              "      gap: 12px;\n",
              "    }\n",
              "\n",
              "    .colab-df-convert {\n",
              "      background-color: #E8F0FE;\n",
              "      border: none;\n",
              "      border-radius: 50%;\n",
              "      cursor: pointer;\n",
              "      display: none;\n",
              "      fill: #1967D2;\n",
              "      height: 32px;\n",
              "      padding: 0 0 0 0;\n",
              "      width: 32px;\n",
              "    }\n",
              "\n",
              "    .colab-df-convert:hover {\n",
              "      background-color: #E2EBFA;\n",
              "      box-shadow: 0px 1px 2px rgba(60, 64, 67, 0.3), 0px 1px 3px 1px rgba(60, 64, 67, 0.15);\n",
              "      fill: #174EA6;\n",
              "    }\n",
              "\n",
              "    .colab-df-buttons div {\n",
              "      margin-bottom: 4px;\n",
              "    }\n",
              "\n",
              "    [theme=dark] .colab-df-convert {\n",
              "      background-color: #3B4455;\n",
              "      fill: #D2E3FC;\n",
              "    }\n",
              "\n",
              "    [theme=dark] .colab-df-convert:hover {\n",
              "      background-color: #434B5C;\n",
              "      box-shadow: 0px 1px 3px 1px rgba(0, 0, 0, 0.15);\n",
              "      filter: drop-shadow(0px 1px 2px rgba(0, 0, 0, 0.3));\n",
              "      fill: #FFFFFF;\n",
              "    }\n",
              "  </style>\n",
              "\n",
              "    <script>\n",
              "      const buttonEl =\n",
              "        document.querySelector('#df-4b196244-1d84-40de-af08-3c811867bc17 button.colab-df-convert');\n",
              "      buttonEl.style.display =\n",
              "        google.colab.kernel.accessAllowed ? 'block' : 'none';\n",
              "\n",
              "      async function convertToInteractive(key) {\n",
              "        const element = document.querySelector('#df-4b196244-1d84-40de-af08-3c811867bc17');\n",
              "        const dataTable =\n",
              "          await google.colab.kernel.invokeFunction('convertToInteractive',\n",
              "                                                    [key], {});\n",
              "        if (!dataTable) return;\n",
              "\n",
              "        const docLinkHtml = 'Like what you see? Visit the ' +\n",
              "          '<a target=\"_blank\" href=https://colab.research.google.com/notebooks/data_table.ipynb>data table notebook</a>'\n",
              "          + ' to learn more about interactive tables.';\n",
              "        element.innerHTML = '';\n",
              "        dataTable['output_type'] = 'display_data';\n",
              "        await google.colab.output.renderOutput(dataTable, element);\n",
              "        const docLink = document.createElement('div');\n",
              "        docLink.innerHTML = docLinkHtml;\n",
              "        element.appendChild(docLink);\n",
              "      }\n",
              "    </script>\n",
              "  </div>\n",
              "\n",
              "\n",
              "<div id=\"df-9321d325-2b0d-4571-aa6d-24e14d770329\">\n",
              "  <button class=\"colab-df-quickchart\" onclick=\"quickchart('df-9321d325-2b0d-4571-aa6d-24e14d770329')\"\n",
              "            title=\"Suggest charts\"\n",
              "            style=\"display:none;\">\n",
              "\n",
              "<svg xmlns=\"http://www.w3.org/2000/svg\" height=\"24px\"viewBox=\"0 0 24 24\"\n",
              "     width=\"24px\">\n",
              "    <g>\n",
              "        <path d=\"M19 3H5c-1.1 0-2 .9-2 2v14c0 1.1.9 2 2 2h14c1.1 0 2-.9 2-2V5c0-1.1-.9-2-2-2zM9 17H7v-7h2v7zm4 0h-2V7h2v10zm4 0h-2v-4h2v4z\"/>\n",
              "    </g>\n",
              "</svg>\n",
              "  </button>\n",
              "\n",
              "<style>\n",
              "  .colab-df-quickchart {\n",
              "      --bg-color: #E8F0FE;\n",
              "      --fill-color: #1967D2;\n",
              "      --hover-bg-color: #E2EBFA;\n",
              "      --hover-fill-color: #174EA6;\n",
              "      --disabled-fill-color: #AAA;\n",
              "      --disabled-bg-color: #DDD;\n",
              "  }\n",
              "\n",
              "  [theme=dark] .colab-df-quickchart {\n",
              "      --bg-color: #3B4455;\n",
              "      --fill-color: #D2E3FC;\n",
              "      --hover-bg-color: #434B5C;\n",
              "      --hover-fill-color: #FFFFFF;\n",
              "      --disabled-bg-color: #3B4455;\n",
              "      --disabled-fill-color: #666;\n",
              "  }\n",
              "\n",
              "  .colab-df-quickchart {\n",
              "    background-color: var(--bg-color);\n",
              "    border: none;\n",
              "    border-radius: 50%;\n",
              "    cursor: pointer;\n",
              "    display: none;\n",
              "    fill: var(--fill-color);\n",
              "    height: 32px;\n",
              "    padding: 0;\n",
              "    width: 32px;\n",
              "  }\n",
              "\n",
              "  .colab-df-quickchart:hover {\n",
              "    background-color: var(--hover-bg-color);\n",
              "    box-shadow: 0 1px 2px rgba(60, 64, 67, 0.3), 0 1px 3px 1px rgba(60, 64, 67, 0.15);\n",
              "    fill: var(--button-hover-fill-color);\n",
              "  }\n",
              "\n",
              "  .colab-df-quickchart-complete:disabled,\n",
              "  .colab-df-quickchart-complete:disabled:hover {\n",
              "    background-color: var(--disabled-bg-color);\n",
              "    fill: var(--disabled-fill-color);\n",
              "    box-shadow: none;\n",
              "  }\n",
              "\n",
              "  .colab-df-spinner {\n",
              "    border: 2px solid var(--fill-color);\n",
              "    border-color: transparent;\n",
              "    border-bottom-color: var(--fill-color);\n",
              "    animation:\n",
              "      spin 1s steps(1) infinite;\n",
              "  }\n",
              "\n",
              "  @keyframes spin {\n",
              "    0% {\n",
              "      border-color: transparent;\n",
              "      border-bottom-color: var(--fill-color);\n",
              "      border-left-color: var(--fill-color);\n",
              "    }\n",
              "    20% {\n",
              "      border-color: transparent;\n",
              "      border-left-color: var(--fill-color);\n",
              "      border-top-color: var(--fill-color);\n",
              "    }\n",
              "    30% {\n",
              "      border-color: transparent;\n",
              "      border-left-color: var(--fill-color);\n",
              "      border-top-color: var(--fill-color);\n",
              "      border-right-color: var(--fill-color);\n",
              "    }\n",
              "    40% {\n",
              "      border-color: transparent;\n",
              "      border-right-color: var(--fill-color);\n",
              "      border-top-color: var(--fill-color);\n",
              "    }\n",
              "    60% {\n",
              "      border-color: transparent;\n",
              "      border-right-color: var(--fill-color);\n",
              "    }\n",
              "    80% {\n",
              "      border-color: transparent;\n",
              "      border-right-color: var(--fill-color);\n",
              "      border-bottom-color: var(--fill-color);\n",
              "    }\n",
              "    90% {\n",
              "      border-color: transparent;\n",
              "      border-bottom-color: var(--fill-color);\n",
              "    }\n",
              "  }\n",
              "</style>\n",
              "\n",
              "  <script>\n",
              "    async function quickchart(key) {\n",
              "      const quickchartButtonEl =\n",
              "        document.querySelector('#' + key + ' button');\n",
              "      quickchartButtonEl.disabled = true;  // To prevent multiple clicks.\n",
              "      quickchartButtonEl.classList.add('colab-df-spinner');\n",
              "      try {\n",
              "        const charts = await google.colab.kernel.invokeFunction(\n",
              "            'suggestCharts', [key], {});\n",
              "      } catch (error) {\n",
              "        console.error('Error during call to suggestCharts:', error);\n",
              "      }\n",
              "      quickchartButtonEl.classList.remove('colab-df-spinner');\n",
              "      quickchartButtonEl.classList.add('colab-df-quickchart-complete');\n",
              "    }\n",
              "    (() => {\n",
              "      let quickchartButtonEl =\n",
              "        document.querySelector('#df-9321d325-2b0d-4571-aa6d-24e14d770329 button');\n",
              "      quickchartButtonEl.style.display =\n",
              "        google.colab.kernel.accessAllowed ? 'block' : 'none';\n",
              "    })();\n",
              "  </script>\n",
              "</div>\n",
              "    </div>\n",
              "  </div>\n"
            ],
            "application/vnd.google.colaboratory.intrinsic+json": {
              "type": "dataframe",
              "variable_name": "examples_df",
              "summary": "{\n  \"name\": \"examples_df\",\n  \"rows\": 2000,\n  \"fields\": [\n    {\n      \"column\": \"text\",\n      \"properties\": {\n        \"dtype\": \"string\",\n        \"num_unique_values\": 2000,\n        \"samples\": [\n          \"the \\\" disney stick-to-what-you-do-best \\\" rule states that disney's animated features will invariably be sublime but whenever they try their hand at live-action kids' entertainment , they will fail miserably . \\nthis goes double for occasions when they try to make a live-action adaptation of a popular cartoon ( remember the 1996 version of 101 dalmations ? \\ni'm still trying to forget ) . \\nthat rule proves more dependable than ever with inspector gadget , an insulting , despicable and , worst of all , expensive piece of trash trying to pass itself off as a viable children's film . \\nit will bore anyone over five and should prove unbearable for adults , even at its relatively skinny running time of 80 minutes . \\nit's films like this that make me want to go to my local blockbuster and rent something from the days when brains were more important than budgets and wit compensated for lack of fancy effects . \\njust as matthew broderick began to convince me that there is hope for him as an actor yet , his career takes a nosedive to hell with his \\\" role \\\" as john brown , a depressed security guard with a big heart who hopes that one day he can become a real policemen and help the people around him . \\nhe dreams of heroic deeds and the subsequent admiration of his long time crush , dr . brenda bradford ( joely fisher ) . \\nbut after a few bizarre coincidences it seems that he has to dream no longer . \\njohn breaks every bone in his body while trying to save dr . brenda's father . \\ndr . brenda has been working on a \\\" gadget project , \\\" which would make a half-man half-machine super-policeman to fight crime . \\nfeeling indebted to john she decides to save his life by making him the subject , realizing his dream of becoming a policeman . \\nnow , when he says \\\" go go gadget [insert name of gizmo here] \\\" he can use all kinds of nifty gadgets to capture crooks , bang up bandits and mangle murderers . \\nin the meantime , the evil claw ( rupert everett ) , the man responsible for the murder of the good doctor's father is building a gadget of his own : a carbon copy of our inspector gadget except evil and john brown's worst nemesis . \\nclaw has plans of world domination , which leaves it up to the inspector and his gadget mobile ( voice of d . l . \\nhughley ) to save humanity from his wrath . \\nstate of the art effects fly at a mad pace in this $90 million dollar movie and yet director david kelogg never sets up a convincing atmosphere . \\nhad they replaced all the fancy gizmos with dollar bills they would have wound up with the same effect . \\nwhat we see on the screen is like the raw ingredients of a meal : all of the expensive f/x amounts to nothing . \\npart of the charm of the tv series was its sly irreverence which has gone down the toilet in the condescending movie . \\ncan kids really admire a hero so goody-two-shoes that he screams \\\" hey ! \\nyou ran a stop sign ! \\\" \\nwhile hanging off the back bumper of a quickly moving vehicle ? \\ni think that today's children will respond better to somebody dashing , someone ultra-cool . \\nthey ( probably ) receive enough preaching from their parents and its an insult to their intelligence to assume that they want to go to an action movie to see a father figure kick butt . \\nin addition to the more complex complaints above , there's also the simple stuff : inspector gadget is boring , formulaic and achingly implausible . \\nthere's no feeling that the director really cares about his story : more than any other film i've seen this year , this one really feels like it was made on an assembly line . \\nthere's a popular commercial ( for sprite , but that's irrelevant ) running in movie theaters before features that spoofs the way major studios deal with projects . \\nit consists of studio suits discussing a fictitious ( thank god ) movie called \\\" death slug \\\" . \\neach executive gleefully presents a different merchandise tie-in ( slug taco ! \\nslug on a stick ! ) . \\nat the end one of them asks \\\" what about the movie ? \\\" \\nanother answers : \\\" well , we don't have a script yet , but we can bang one out by friday . \\\" \\nthey probably could have replaced \\\" death slug \\\" with inspector gadget . \\nthis film contains the sort of logical contradictions and blatantly obvious adherence to formula that could have been eliminated had any attention been payed to the script . \\nit's no coincidence that most good children's entertainment these days comes from animation . \\nanimated features take so long to maker that it becomes a labor of love for the filmmakers and they put care and pride into their work . \\nthese kinds of films are banged out quicker and a good percentage turn out worthless , sloppy and impersonal . \\nthe studios are becoming factories and films their assembled products . \\n ? 1999 eugene novikov&#137 ;\",\n          \"usually when a blockbuster comes out , it's loaded with effects , stars , bad scripts , and plenty of action . \\nmystery men may contain an all-star cast , and efects , but the clever script and characters are what really works , which is rare to see this year . \\nthe film is based upon the comic book series \\\" the flaming carrot \\\" by bob burden , in which 3 wanna be super heroes try and fight crime , only to be out done by the real hero of champion city , captain amazing ( greg kinnear ) . \\nthings go a little haywire , when the sinister casanova frankenstein ( geoffrey rush ) is released into the city , where he captures captain amazing , and plans to wreak havoc upon champion city . \\nwell , the trio decide to take matters in their own hands , by saving the city , but first they need some assitance . \\nthis is where the film takes a turn for the better . \\nin the beggining , there were only 3 wanna be heroes . \\n \\\" blue raja ( hank azaria ) , \\\" mr . furious ( ben stiller ) and \\\" the shoveller ( william h . macy ) . \\nsure they were enterataining , but their acts grew old fast . \\nthat is until they aquire \\\" invisible boy \\\" ( kel mitchell ) , and \\\" the bowler \\\" ( janeane garafalo ) and \\\" mr . splein \\\" ( paul reubens ) , 2 of which rescue the film from becoming a disastorous mess . \\nthankfully , the original 3 heroes become amusing , with some support of reuben and garfalo on screen . \\nthe whole premise is rather ridiculous , but packs a few punches to keep interest . \\nfor one , the film is considerably clever . \\nit literally pokes fun at super hero films , like batman and robin , superman etc . in fact , many scenes are similar to batman and robin , including the opening sequence , only altered in a humorous and superior way . \\na part of the cleverness comes from the cast . \\nsometimes a film with such talent is overblown , but the acting is what keeps it alive here . \\nwhile azaria and macy were enteratining , 2 characters really stood out . \\none was paul reuben . \\nno matter how disgusting or revolting \\\" mr . splein \\\" may be , you still can't help but laugh . \\nit' so incredibly moronic , it's just a riot watching reuben relieve himself of bodily functions . \\njaneane garafalo also was an interesting character . \\nshe seemed to be the most outgoing and convincing character on screem , due to her enthusiasm , that kept the film flowing . \\nmen is worth seeing alone , for those 2 troubled heroes . \\non the downside , a few of the heroes and especially the villain never really lift off . \\nkel mitchell and geoffrey rush , were both utterly useless . \\ntheir parts were so limited , they'd be lucky at all to be on screen for more than 20 minutes . \\nben stiller too was wasted , mostly because of his unlikeable power and dialogue . \\nnone of these characters get a rise out of anybody , but happily they are lost in the charming flow of the film . \\nas far as the budget goes , it was wisely spent on the cast , not the effects . \\nwhile the set designs and action all look nice , i'm glad there was a seperate aspect , that the film focused on , and for that i applaud . \\nslow at times , and rather pointless , mystery men still delivers . \\nit forgets about money making , because it's not likely to make a bundle like it's proceeders , and that's what works . \\nstupid ? \\nmaybe , but for once i'm not disappointed . \\nno one expected an intelligent film , but you get a film thats wit captures your attention and makes you forget this miserable year .\",\n          \"the last of vampire-films offers plenty of blood and gore , but beyond that - nothing . \\njack crow ( james woods ) is a professional vampire slayer that is secretly working for the vatican . \\nhis and his men's mission is to clean the earth from vampires . \\nthey have lost count of how many vampires they have slaughtered , but one has always escaped them . \\nvalek ( thomas ian griffith ) - the dark messias and ruler of the undead that is older than time itself . \\nfor all eternity the vampires have searched for their salvation - the black cross . \\nwith the cross in their possesion , the vampires will be able to walk in the sunlight . \\nafter that it is either the humans or the vampires who will dominate the earth . . . \\ni have never liked john carpenter and his style . \\nafter seeing this film , my opinions have not changed . \\njohn carpenter remains john carpenter . \\nhowever , because of the film's self-irony , black humour and fascinating cinematography , i would say that it is his greatest achievement in a long , long time . \\nneither the synopses or carpenter's direction are original . \\nbut there are some things that are interesting . \\nthe director's negative view on the catholic church , for instance . \\nat the end of the film it becomes clear that cardinal alba ( maximilian schell ) has simply used crow and his team to find valek , so that he would gain eternal life . \\notherwise the catholic priests are shown cool - drinking , smoking and breaking the rool of celibacy . \\ncarpenter has created an interesting atmosphere . \\nset in new mexican dessert , he switches between bright golden sunrises and bloody sundowns , symbolically illustrating the good and the evil through light and darkness . \\nmore than anything in this film , this simple illustration shows the battle between good and evil . \\nthe cinematography by gary b . kibbe is probably the film's greatest achievement . \\nmusic ( composed by john carpenter himself ) is at times effective , the special effects and makeup are likewise worth a notice . \\nwhen it comes to the cast ( in an intellectual film like this casting is the last problem ; everyone can scream and swing the axe ! ) , but here james woods is suprisingly convincing . \\nhe is macho and cool as the dedicated hunter , who lost his family to the \\\" breed of evil \\\" . \\nwoods is constantly overacting , which really saves the film from falling into the trap of serious self importance . \\ndaniel baldwin is also entertaining as crow's loyal partner . \\nthe other cast members are struggling . \\nbecause the film doesn't take itself too seriously , it stays afloat . \\nstill it is like most vampire-films - a mediocre experience .\"\n        ],\n        \"semantic_type\": \"\",\n        \"description\": \"\"\n      }\n    },\n    {\n      \"column\": \"sentiment\",\n      \"properties\": {\n        \"dtype\": \"number\",\n        \"std\": 0,\n        \"min\": 0,\n        \"max\": 1,\n        \"num_unique_values\": 2,\n        \"samples\": [\n          0,\n          1\n        ],\n        \"semantic_type\": \"\",\n        \"description\": \"\"\n      }\n    }\n  ]\n}"
            }
          },
          "metadata": {},
          "execution_count": 51
        }
      ]
    },
    {
      "cell_type": "code",
      "source": [
        "examples_df = examples_df.sample(frac=1)\n",
        "examples_df"
      ],
      "metadata": {
        "colab": {
          "base_uri": "https://localhost:8080/",
          "height": 424
        },
        "id": "k7G55fTyDn9v",
        "outputId": "839085ac-c0dd-4ddd-fd36-49ccd48ad554"
      },
      "execution_count": null,
      "outputs": [
        {
          "output_type": "execute_result",
          "data": {
            "text/plain": [
              "                                                   text  sentiment\n",
              "395   disney cements their place in the forefront of...          1\n",
              "1133  michael robbins' hardball is quite the cinemat...          0\n",
              "98    dreamworks pictures presents a jinks/ cohen co...          1\n",
              "1734  \" the animal \" is a marginally inspired comedy...          0\n",
              "1463  tri-star ; rated r ( language , sexual situati...          0\n",
              "...                                                 ...        ...\n",
              "1631  the comet-disaster flick is a disaster alright...          0\n",
              "1501  well , here's a distasteful , thoroughly amate...          0\n",
              "954   synopsis : captain picard and the crew of the ...          1\n",
              "1016  susan granger's review of \" two can play that ...          0\n",
              "898   slavery is bad . \\nafter hundreds of years , w...          1\n",
              "\n",
              "[2000 rows x 2 columns]"
            ],
            "text/html": [
              "\n",
              "  <div id=\"df-c63a8613-923b-42ae-96a4-590b982c0b66\" class=\"colab-df-container\">\n",
              "    <div>\n",
              "<style scoped>\n",
              "    .dataframe tbody tr th:only-of-type {\n",
              "        vertical-align: middle;\n",
              "    }\n",
              "\n",
              "    .dataframe tbody tr th {\n",
              "        vertical-align: top;\n",
              "    }\n",
              "\n",
              "    .dataframe thead th {\n",
              "        text-align: right;\n",
              "    }\n",
              "</style>\n",
              "<table border=\"1\" class=\"dataframe\">\n",
              "  <thead>\n",
              "    <tr style=\"text-align: right;\">\n",
              "      <th></th>\n",
              "      <th>text</th>\n",
              "      <th>sentiment</th>\n",
              "    </tr>\n",
              "  </thead>\n",
              "  <tbody>\n",
              "    <tr>\n",
              "      <th>395</th>\n",
              "      <td>disney cements their place in the forefront of...</td>\n",
              "      <td>1</td>\n",
              "    </tr>\n",
              "    <tr>\n",
              "      <th>1133</th>\n",
              "      <td>michael robbins' hardball is quite the cinemat...</td>\n",
              "      <td>0</td>\n",
              "    </tr>\n",
              "    <tr>\n",
              "      <th>98</th>\n",
              "      <td>dreamworks pictures presents a jinks/ cohen co...</td>\n",
              "      <td>1</td>\n",
              "    </tr>\n",
              "    <tr>\n",
              "      <th>1734</th>\n",
              "      <td>\" the animal \" is a marginally inspired comedy...</td>\n",
              "      <td>0</td>\n",
              "    </tr>\n",
              "    <tr>\n",
              "      <th>1463</th>\n",
              "      <td>tri-star ; rated r ( language , sexual situati...</td>\n",
              "      <td>0</td>\n",
              "    </tr>\n",
              "    <tr>\n",
              "      <th>...</th>\n",
              "      <td>...</td>\n",
              "      <td>...</td>\n",
              "    </tr>\n",
              "    <tr>\n",
              "      <th>1631</th>\n",
              "      <td>the comet-disaster flick is a disaster alright...</td>\n",
              "      <td>0</td>\n",
              "    </tr>\n",
              "    <tr>\n",
              "      <th>1501</th>\n",
              "      <td>well , here's a distasteful , thoroughly amate...</td>\n",
              "      <td>0</td>\n",
              "    </tr>\n",
              "    <tr>\n",
              "      <th>954</th>\n",
              "      <td>synopsis : captain picard and the crew of the ...</td>\n",
              "      <td>1</td>\n",
              "    </tr>\n",
              "    <tr>\n",
              "      <th>1016</th>\n",
              "      <td>susan granger's review of \" two can play that ...</td>\n",
              "      <td>0</td>\n",
              "    </tr>\n",
              "    <tr>\n",
              "      <th>898</th>\n",
              "      <td>slavery is bad . \\nafter hundreds of years , w...</td>\n",
              "      <td>1</td>\n",
              "    </tr>\n",
              "  </tbody>\n",
              "</table>\n",
              "<p>2000 rows × 2 columns</p>\n",
              "</div>\n",
              "    <div class=\"colab-df-buttons\">\n",
              "\n",
              "  <div class=\"colab-df-container\">\n",
              "    <button class=\"colab-df-convert\" onclick=\"convertToInteractive('df-c63a8613-923b-42ae-96a4-590b982c0b66')\"\n",
              "            title=\"Convert this dataframe to an interactive table.\"\n",
              "            style=\"display:none;\">\n",
              "\n",
              "  <svg xmlns=\"http://www.w3.org/2000/svg\" height=\"24px\" viewBox=\"0 -960 960 960\">\n",
              "    <path d=\"M120-120v-720h720v720H120Zm60-500h600v-160H180v160Zm220 220h160v-160H400v160Zm0 220h160v-160H400v160ZM180-400h160v-160H180v160Zm440 0h160v-160H620v160ZM180-180h160v-160H180v160Zm440 0h160v-160H620v160Z\"/>\n",
              "  </svg>\n",
              "    </button>\n",
              "\n",
              "  <style>\n",
              "    .colab-df-container {\n",
              "      display:flex;\n",
              "      gap: 12px;\n",
              "    }\n",
              "\n",
              "    .colab-df-convert {\n",
              "      background-color: #E8F0FE;\n",
              "      border: none;\n",
              "      border-radius: 50%;\n",
              "      cursor: pointer;\n",
              "      display: none;\n",
              "      fill: #1967D2;\n",
              "      height: 32px;\n",
              "      padding: 0 0 0 0;\n",
              "      width: 32px;\n",
              "    }\n",
              "\n",
              "    .colab-df-convert:hover {\n",
              "      background-color: #E2EBFA;\n",
              "      box-shadow: 0px 1px 2px rgba(60, 64, 67, 0.3), 0px 1px 3px 1px rgba(60, 64, 67, 0.15);\n",
              "      fill: #174EA6;\n",
              "    }\n",
              "\n",
              "    .colab-df-buttons div {\n",
              "      margin-bottom: 4px;\n",
              "    }\n",
              "\n",
              "    [theme=dark] .colab-df-convert {\n",
              "      background-color: #3B4455;\n",
              "      fill: #D2E3FC;\n",
              "    }\n",
              "\n",
              "    [theme=dark] .colab-df-convert:hover {\n",
              "      background-color: #434B5C;\n",
              "      box-shadow: 0px 1px 3px 1px rgba(0, 0, 0, 0.15);\n",
              "      filter: drop-shadow(0px 1px 2px rgba(0, 0, 0, 0.3));\n",
              "      fill: #FFFFFF;\n",
              "    }\n",
              "  </style>\n",
              "\n",
              "    <script>\n",
              "      const buttonEl =\n",
              "        document.querySelector('#df-c63a8613-923b-42ae-96a4-590b982c0b66 button.colab-df-convert');\n",
              "      buttonEl.style.display =\n",
              "        google.colab.kernel.accessAllowed ? 'block' : 'none';\n",
              "\n",
              "      async function convertToInteractive(key) {\n",
              "        const element = document.querySelector('#df-c63a8613-923b-42ae-96a4-590b982c0b66');\n",
              "        const dataTable =\n",
              "          await google.colab.kernel.invokeFunction('convertToInteractive',\n",
              "                                                    [key], {});\n",
              "        if (!dataTable) return;\n",
              "\n",
              "        const docLinkHtml = 'Like what you see? Visit the ' +\n",
              "          '<a target=\"_blank\" href=https://colab.research.google.com/notebooks/data_table.ipynb>data table notebook</a>'\n",
              "          + ' to learn more about interactive tables.';\n",
              "        element.innerHTML = '';\n",
              "        dataTable['output_type'] = 'display_data';\n",
              "        await google.colab.output.renderOutput(dataTable, element);\n",
              "        const docLink = document.createElement('div');\n",
              "        docLink.innerHTML = docLinkHtml;\n",
              "        element.appendChild(docLink);\n",
              "      }\n",
              "    </script>\n",
              "  </div>\n",
              "\n",
              "\n",
              "<div id=\"df-4e472ba7-8226-45ab-ac32-1282366c7947\">\n",
              "  <button class=\"colab-df-quickchart\" onclick=\"quickchart('df-4e472ba7-8226-45ab-ac32-1282366c7947')\"\n",
              "            title=\"Suggest charts\"\n",
              "            style=\"display:none;\">\n",
              "\n",
              "<svg xmlns=\"http://www.w3.org/2000/svg\" height=\"24px\"viewBox=\"0 0 24 24\"\n",
              "     width=\"24px\">\n",
              "    <g>\n",
              "        <path d=\"M19 3H5c-1.1 0-2 .9-2 2v14c0 1.1.9 2 2 2h14c1.1 0 2-.9 2-2V5c0-1.1-.9-2-2-2zM9 17H7v-7h2v7zm4 0h-2V7h2v10zm4 0h-2v-4h2v4z\"/>\n",
              "    </g>\n",
              "</svg>\n",
              "  </button>\n",
              "\n",
              "<style>\n",
              "  .colab-df-quickchart {\n",
              "      --bg-color: #E8F0FE;\n",
              "      --fill-color: #1967D2;\n",
              "      --hover-bg-color: #E2EBFA;\n",
              "      --hover-fill-color: #174EA6;\n",
              "      --disabled-fill-color: #AAA;\n",
              "      --disabled-bg-color: #DDD;\n",
              "  }\n",
              "\n",
              "  [theme=dark] .colab-df-quickchart {\n",
              "      --bg-color: #3B4455;\n",
              "      --fill-color: #D2E3FC;\n",
              "      --hover-bg-color: #434B5C;\n",
              "      --hover-fill-color: #FFFFFF;\n",
              "      --disabled-bg-color: #3B4455;\n",
              "      --disabled-fill-color: #666;\n",
              "  }\n",
              "\n",
              "  .colab-df-quickchart {\n",
              "    background-color: var(--bg-color);\n",
              "    border: none;\n",
              "    border-radius: 50%;\n",
              "    cursor: pointer;\n",
              "    display: none;\n",
              "    fill: var(--fill-color);\n",
              "    height: 32px;\n",
              "    padding: 0;\n",
              "    width: 32px;\n",
              "  }\n",
              "\n",
              "  .colab-df-quickchart:hover {\n",
              "    background-color: var(--hover-bg-color);\n",
              "    box-shadow: 0 1px 2px rgba(60, 64, 67, 0.3), 0 1px 3px 1px rgba(60, 64, 67, 0.15);\n",
              "    fill: var(--button-hover-fill-color);\n",
              "  }\n",
              "\n",
              "  .colab-df-quickchart-complete:disabled,\n",
              "  .colab-df-quickchart-complete:disabled:hover {\n",
              "    background-color: var(--disabled-bg-color);\n",
              "    fill: var(--disabled-fill-color);\n",
              "    box-shadow: none;\n",
              "  }\n",
              "\n",
              "  .colab-df-spinner {\n",
              "    border: 2px solid var(--fill-color);\n",
              "    border-color: transparent;\n",
              "    border-bottom-color: var(--fill-color);\n",
              "    animation:\n",
              "      spin 1s steps(1) infinite;\n",
              "  }\n",
              "\n",
              "  @keyframes spin {\n",
              "    0% {\n",
              "      border-color: transparent;\n",
              "      border-bottom-color: var(--fill-color);\n",
              "      border-left-color: var(--fill-color);\n",
              "    }\n",
              "    20% {\n",
              "      border-color: transparent;\n",
              "      border-left-color: var(--fill-color);\n",
              "      border-top-color: var(--fill-color);\n",
              "    }\n",
              "    30% {\n",
              "      border-color: transparent;\n",
              "      border-left-color: var(--fill-color);\n",
              "      border-top-color: var(--fill-color);\n",
              "      border-right-color: var(--fill-color);\n",
              "    }\n",
              "    40% {\n",
              "      border-color: transparent;\n",
              "      border-right-color: var(--fill-color);\n",
              "      border-top-color: var(--fill-color);\n",
              "    }\n",
              "    60% {\n",
              "      border-color: transparent;\n",
              "      border-right-color: var(--fill-color);\n",
              "    }\n",
              "    80% {\n",
              "      border-color: transparent;\n",
              "      border-right-color: var(--fill-color);\n",
              "      border-bottom-color: var(--fill-color);\n",
              "    }\n",
              "    90% {\n",
              "      border-color: transparent;\n",
              "      border-bottom-color: var(--fill-color);\n",
              "    }\n",
              "  }\n",
              "</style>\n",
              "\n",
              "  <script>\n",
              "    async function quickchart(key) {\n",
              "      const quickchartButtonEl =\n",
              "        document.querySelector('#' + key + ' button');\n",
              "      quickchartButtonEl.disabled = true;  // To prevent multiple clicks.\n",
              "      quickchartButtonEl.classList.add('colab-df-spinner');\n",
              "      try {\n",
              "        const charts = await google.colab.kernel.invokeFunction(\n",
              "            'suggestCharts', [key], {});\n",
              "      } catch (error) {\n",
              "        console.error('Error during call to suggestCharts:', error);\n",
              "      }\n",
              "      quickchartButtonEl.classList.remove('colab-df-spinner');\n",
              "      quickchartButtonEl.classList.add('colab-df-quickchart-complete');\n",
              "    }\n",
              "    (() => {\n",
              "      let quickchartButtonEl =\n",
              "        document.querySelector('#df-4e472ba7-8226-45ab-ac32-1282366c7947 button');\n",
              "      quickchartButtonEl.style.display =\n",
              "        google.colab.kernel.accessAllowed ? 'block' : 'none';\n",
              "    })();\n",
              "  </script>\n",
              "</div>\n",
              "    </div>\n",
              "  </div>\n"
            ],
            "application/vnd.google.colaboratory.intrinsic+json": {
              "type": "dataframe",
              "variable_name": "examples_df",
              "summary": "{\n  \"name\": \"examples_df\",\n  \"rows\": 2000,\n  \"fields\": [\n    {\n      \"column\": \"text\",\n      \"properties\": {\n        \"dtype\": \"string\",\n        \"num_unique_values\": 2000,\n        \"samples\": [\n          \"when i was nine , i started buying the coolest toy figures in my local department store . \\nmasters of the universe was the pinnacle of what i was after for action figures : they combined science fiction and fantasy , had cool names like mekanek and stinkor and each came with its own little comic book to read . \\nof course , the animated series produced by filmation remains one of the most wildly successful television products in world history . \\ngiven the tremendous success of the toys and the cartoon ( not to mention its moderately successful spin-off she-ra : princess of power ) , it was inevitable that a production company would put two and two together , come with the result of \\\" trillions \\\" and make a live-action masters movie . \\nlet's be blunt : masters of the universe is a very bad movie . \\nthe story is painfully dull and mind-numbingly cliched ( hands up who * wouldn't * guess he-man and skeletor take their fight into the real world ) and is acted out by either incredibly untalented actors ( dolph lundgren as he-man for one ) or good actors ( james tolkan , meg foster ) given such awful characters and dialogue that they can't help but seem terrible . \\nit is extremely clear that someone making the movie wanted it to be as good as star wars . \\nwe have the alien bounty hunters , the desert skif technology , stormtrooper lookalikes and a musical score so reminiscent of john williams that \\\" deja vu \\\" is too polite a term to use in describing it . \\n \\\" blatant uninspired ripoff \\\" would appear more appropriate . \\ntv fans might want to check out courtney cox ( monica in friends ) and robert duncan mcneill ( lt paris in star trek : voyager ) , very early in their careers and not doing to well in them either . \\nso in the face of such mindless sub-mediocrity , is there anything to make masters of the universe worth watching at all ? \\nyes , there is . \\none incredible good reason . \\nhis name is frank langella . \\nlangella has always been one of the underrated actors of hollywood , appearing in countless films over the years . \\nhere he plays skeletor , the villain of the piece . \\ndressed in opulent black velvet robes and bearing a skull for a face , he is one part darth vader , one part emperor and two parts grim reaper . \\ngiven this character , langella falls right into it with style and precision . \\nskeletor is believable , interesting and manages to tread the fine line between being a homage to the past and startlingly original in his own right . \\nmasters of the universe . \\ni remember loving it when i was eleven . \\nat twenty one it's difficult to see why . \\nbut , as i said , it is blessed with a superlative villain who makes the entire thing worth the tedium of the remainder . \\nbesides , this year marks the film's 10th anniversary . \\nwatch it with some friends for a good laugh and celebrate .\",\n          \"\\\" gordy \\\" is not a movie , it is a 90-minute-long \\\" sesame street \\\" skit , and a very bad one at that . \\nthis movie is so stupid and dumb that it's depressing to think that some hollywood executives actually gave this the green light , and even more surprising is the fact that this is a disney movie . \\ni'm sure children are the target audience of this movie , but only kids under the age of five may be able to tolerate it . \\nit is the story of a farm a piglet named gordy ( voiced by garms ) , whose family has been taken away to \\\" up north , \\\" which we know means death . \\nof course we can hear the animals talk to each other , and they actually went to the trouble of attempting to sync the voices with their mouths but it comes out terrible . \\nactually , it's almost funny in a way . \\nthe only remotely interesting and likable character soon appears , a little girl named jinnie sue macallister ( young ) who sees gordy on the back of a truck and essentially steals him . \\njinnie is a country singer and the film goes off on a huge tangent to show her little concert and the people dancing to it . \\nwhat is the point of this ? \\nmaybe she is one of the producer's relatives and they wanted to show her on camera to promote her or something . \\nwe then cut to a huge social gathering and drop in on another young kid named hank royce ( roescher ) who is sad because his divorced mother is dating . \\nhe leaves the party and meets jinnie sue , but he accidentally falls in a pool ( probably because he was sitting on the diving board with a $200 suit on - nah , didn't see that one coming ! ) , \\nstarts to drown , and is miraculously saved as gordy pushes an inflatable float over to him and saves him . \\nif this had not been insanely stupid already the story quickly changes when jinnie gives gordy to hank who then ends up becoming the ceo of a food processing corporation when hank's grandfather , the original ceo , dies and leaves his fortune to hank . . . \\nand gordy ! \\nof course there must be a villain , but even this villain ( donadio as sipes ) isn't that evil . \\nhe never raises his voice or becomes angry , and of course he has the typical idiot goons kidnap gordy but this is just so beyond stupid and cartoony we are constantly two steps ahead of the story . \\nit's hard to tell whether the overall corniness and cheesiness to the movie is intentional because it is a family film , or if the filmmaker's are just this untalented and stupid . \\nat times \\\" gordy \\\" is tolerable to watch , thus earning it one star and not the dreaded \\\" z- . \\\" \\nbut it's just so unbelievably boring , cliche , dumb , unfunny , corny , and just plain bad it may scare children , it certainly disturbed me . \\n ( 4/21/96 ) ( 1/29/97 ) ( 6/13/97 ) [see also : \\\" babe \\\" ]\",\n          \"while it was part of former yugoslavia , my country , croatia , used to be almost completely ignored by western films in general . \\nwords \\\" croatia \\\" and \\\" croatians \\\" were unheard , even in movies whose plots actually took place on croatian locations . \\nthe rare exception was the dogs of war , 1980 adaptation of frederick forsyth's bestselling novel , yet that rare occasion only added insult to the injury , by mentioning croatians in most unflattering context . \\nin a single line they are referred as a bunch of mean people , probably terrorists , who happen to remove parts of arm dealers' stomachs when they are unsatisfied with the quality of merchandise . \\nsame line also illustrates the milieu where the movie takes place - dark and violent world of shady international deals with the blurred boundaries between business , politics and crime . \\nthe movie protagonist , shannon ( christopher walken ) is a mercenary who spent the best years of his life fighting numerous little wars all over the globe . \\nhis latest job is a intelligence mission for powerful mining corporation that demands information about political climate in west african nation of zangaro . \\nshannon arrives in that country only to find oppressive regime of president kimba , bloodthirsty madman whose brutality crushed any opposition and scared almost any westerners away . \\nafter being arrested and tortured by kimba's secret police , shannon leaves country with a help of british journalist north ( colin blakely ) . \\nupon return , he is approached by mining company again , but this time they want him to plan and execute the coup d'etat against kimba . \\nshannon reluctantly agrees and assembles small group of his surviving mercenary friends who begin meticulous preparation for another small war . \\nthing that separates the dogs of war from conventional action movies , especially those made in 1980s , is its authenticity , almost close to documentary . \\nit shouldn't surprise anyone , because the author of the novel , frederick forsyth , made reputation by blending fiction with real life , thus creating interesting , exciting yet very believable plots for his books . \\nthose plots were also responsible for few very successful 1970s thrillers , and one of them , zinnemman's the day of the jackal , is now considered a classic in that genre . \\nthis one deals with soldiers of fortune , ancient tradition that was resurrected in great turmoil of 1960s and 1970s and filled the void left by vanishing colonial empires . \\nunlike wild geese , that used it as a pretext for conventional action adventure , script by george malko and gary de vore ( author whose death last year became real life mystery ) is serious , and instead of action puts emphasis on characters and prosaic details of their work . \\nthe movie doesn't try to romanticise the mercenary profession nor glorify mercenaries as some kind of superheroes ; they are simply shown as deadly yet expendable tool of powerful forces with questionable agenda . \\nchristopher walken played in many movies , yet very rarely we can see him in a leading role . \\nhis performance in this film perhaps isn't breathtaking , yet adequate . \\nhis notoriously expressionless face is perfect illustration of the disillusioned , world- weary man whose alienation from the \\\" normal \\\" way of life becomes complete and only remaining ideal is loyalty to the shrinking circle of friends . \\nalthough the movie doesn't lack capable actors , their roles are miniature compared with walken's , and only colin blakely as cynical reporter has opportunity to portray his character . \\nhowever , those who look familiar faces would find them plenty in the dogs of war - tom berenger , paul freeman , jo beth williams , victoria tennant ( in brief cameo ) , and biggest surprise is ed o'neill ( of married with children fame ) as shannon's reluctant colleague . \\nthis was the first major production for john irvin , and it shows why he earned the reputation of capable , yet second class director . \\nwith the good script he can make very good movie , with the bad script he can make real mess . \\nluckily , the dogs of war had a good script . \\nirvin's direction was very ascetic and it gave the movie almost documentary feel . \\nthe only distraction is dramatic music of geoffrey burgon , used on the wrong places . \\nin the final battle scene , where we can see mercenaries at work , irvin shows us that modern warfare means superior firepower and tactics , unlike 1980s ramboesque fantasies that rely on macho superheroes . \\nunfortunately , by making battle realistic irvin made it somewhat less attractive and his sloppy editing also didn't help . \\nbut , despite those shortcomings , this movie remains interesting and rare combination of action thriller and gritty , realistic political drama .\"\n        ],\n        \"semantic_type\": \"\",\n        \"description\": \"\"\n      }\n    },\n    {\n      \"column\": \"sentiment\",\n      \"properties\": {\n        \"dtype\": \"number\",\n        \"std\": 0,\n        \"min\": 0,\n        \"max\": 1,\n        \"num_unique_values\": 2,\n        \"samples\": [\n          0,\n          1\n        ],\n        \"semantic_type\": \"\",\n        \"description\": \"\"\n      }\n    }\n  ]\n}"
            }
          },
          "metadata": {},
          "execution_count": 53
        }
      ]
    },
    {
      "cell_type": "code",
      "source": [
        "train_df = examples_df.sample(frac=0.7)\n",
        "test_df = examples_df.drop(index=train_df.index)\n",
        "train_texts, train_labels = train_df['text'].values, train_df['sentiment'].values\n",
        "test_texts, test_labels = test_df['text'].values, test_df['sentiment'].values"
      ],
      "metadata": {
        "id": "9RhoNnYAD-ZL"
      },
      "execution_count": null,
      "outputs": []
    },
    {
      "cell_type": "code",
      "source": [
        "from typing import List, Dict, Any, Iterable\n",
        "from collections import Counter, OrderedDict\n",
        "import math\n",
        "from itertools import islice\n",
        "import torch.nn.functional as F"
      ],
      "metadata": {
        "id": "SFMyHEUiEkak"
      },
      "execution_count": 60,
      "outputs": []
    },
    {
      "cell_type": "code",
      "source": [
        "class TfIdfVectorizer:\n",
        "\n",
        "  def __init__(self, lower=True, tokenizer_pattern=r''):\n",
        "    self.lower = lower\n",
        "    self.tokenizer_pattern = re.compile(tokenizer_pattern)\n",
        "    self.vocab_df = OrderedDict()\n",
        "\n",
        "  def __tokenize(self, text: str) -> List[str]:\n",
        "    return self.tokenizer_pattern.findall(text.lower() if self.lower else text)\n",
        "\n",
        "  def fit(self, texts: Iterable[str]):\n",
        "    term_id = 0\n",
        "    for doc_idx, doc in enumerate(texts):\n",
        "      tokenized = self.__tokenize(doc)\n",
        "      for term in tokenized:\n",
        "          if term not in self.vocab_df:\n",
        "            self.vocab_df[term] = {}\n",
        "            self.vocab_df[term]['doc_ids'] = {doc_idx}\n",
        "            self.vocab_df[term]['doc_count'] = 1\n",
        "            self.vocab_df[term]['id'] = term_id\n",
        "            term_id += 1\n",
        "          elif doc_idx not in self.vocab_df[term]['doc_ids']:\n",
        "            self.vocab_df[term]['doc_ids'].add(doc_idx)\n",
        "            self.vocab_df[term]['doc_count'] += 1\n",
        "    texts_len = len(texts)\n",
        "    for term in self.vocab_df:\n",
        "      self.vocab_df[term]['idf'] = math.log(texts_len / self.vocab_df[term]['doc_count'])\n",
        "\n",
        "\n",
        "  def transform(self, texts: Iterable[str]) -> torch.sparse.LongTensor:\n",
        "    values = []\n",
        "    doc_indices = []\n",
        "    term_indices = []\n",
        "    for doc_idx, raw_doc in enumerate(texts):\n",
        "      term_counter = {}\n",
        "      for token in self.__tokenize(raw_doc):\n",
        "        if token in self.vocab_df:\n",
        "          term = self.vocab_df[token]\n",
        "          term_idx = term['id']\n",
        "          term_idf = term['idf']\n",
        "          if term_idx not in term_counter:\n",
        "            term_counter[term_idx] = term_idf\n",
        "          else:\n",
        "            term_counter[term_idx] += term_idf\n",
        "      term_indices.extend(term_counter.keys())\n",
        "      values.extend(term_counter.values())\n",
        "      doc_indices.extend([doc_idx] * len(term_counter))\n",
        "    indices = torch.LongTensor([doc_indices, term_indices], device=DEVICE)\n",
        "    values_tensor = torch.LongTensor(values, device=DEVICE)\n",
        "    tf_idf = torch.sparse_coo_tensor(indices, values_tensor, torch.Size([len(texts), len(self.vocab_df)]), device=DEVICE)\n",
        "    return tf_idf\n",
        "    lower"
      ],
      "metadata": {
        "id": "UuLZRY2dFENl"
      },
      "execution_count": 64,
      "outputs": []
    },
    {
      "cell_type": "code",
      "source": [
        "%%time\n",
        "vectorizer = TfIdfVectorizer()\n",
        "vectorizer.fit(train_texts)"
      ],
      "metadata": {
        "colab": {
          "base_uri": "https://localhost:8080/"
        },
        "id": "yT5XF5BDvm8G",
        "outputId": "5ccdb3a2-f7dd-4a06-e63c-d787986cdea6"
      },
      "execution_count": 65,
      "outputs": [
        {
          "output_type": "stream",
          "name": "stdout",
          "text": [
            "CPU times: user 2.5 s, sys: 1.47 ms, total: 2.5 s\n",
            "Wall time: 3.29 s\n"
          ]
        }
      ]
    },
    {
      "cell_type": "code",
      "source": [
        "%%time\n",
        "train_data = vectorizer.transform(train_texts)\n",
        "test_data = vectorizer.transform(test_texts)"
      ],
      "metadata": {
        "colab": {
          "base_uri": "https://localhost:8080/"
        },
        "id": "DTewQ0sTvw57",
        "outputId": "352911eb-0910-4257-c482-4def5a434dbb"
      },
      "execution_count": 66,
      "outputs": [
        {
          "output_type": "stream",
          "name": "stdout",
          "text": [
            "CPU times: user 3.47 s, sys: 663 µs, total: 3.47 s\n",
            "Wall time: 3.5 s\n"
          ]
        }
      ]
    },
    {
      "cell_type": "code",
      "source": [
        "from torch.utils.data import Dataset, DataLoader"
      ],
      "metadata": {
        "id": "Ij4_JjmK0CAD"
      },
      "execution_count": 68,
      "outputs": []
    },
    {
      "cell_type": "code",
      "source": [
        "train_data_loader = DataLoader(train_texts, batch_size=64)\n",
        "test_data_loader = DataLoader(test_texts, batch_size=64)"
      ],
      "metadata": {
        "id": "Qi8Vhx5N0Iyc"
      },
      "execution_count": 69,
      "outputs": []
    },
    {
      "cell_type": "code",
      "source": [
        "def batch(iterable, n=1):\n",
        "  l = len(iterable)\n",
        "  for ndx in range(0, l, n):\n",
        "    yield iterable[ndx:min(ndx + n, l)]"
      ],
      "metadata": {
        "id": "FBcRMy-s0W7K"
      },
      "execution_count": 81,
      "outputs": []
    },
    {
      "cell_type": "code",
      "source": [
        "from torch import nn\n",
        "\n",
        "class LogisticRegressionModel(nn.Module):\n",
        "\n",
        "  def __init__(self, input_dim, output_dim):\n",
        "    super(LogisticRegressionModel, self).__init__()\n",
        "    self.linear = nn.Linear(input_dim, output_dim)\n",
        "\n",
        "  def forward(self, x):\n",
        "    out = F.softmax(self.linear(x))\n",
        "    return out"
      ],
      "metadata": {
        "id": "Yjs28AUs0guM"
      },
      "execution_count": 71,
      "outputs": []
    },
    {
      "cell_type": "code",
      "source": [
        "model = LogisticRegressionModel(len(vectorizer.vocab_df), 2)"
      ],
      "metadata": {
        "id": "4OVTTcDb0-Ne"
      },
      "execution_count": 72,
      "outputs": []
    },
    {
      "cell_type": "code",
      "source": [
        "criterion = nn.CrossEntropyLoss()"
      ],
      "metadata": {
        "id": "FWIoQLMy1D1u"
      },
      "execution_count": 73,
      "outputs": []
    },
    {
      "cell_type": "code",
      "source": [
        "lr = 0.001\n",
        "optimizer = torch.optim.AdamW(model.parameters(), lr=lr)"
      ],
      "metadata": {
        "id": "hb_El5Ay1Gnl"
      },
      "execution_count": 74,
      "outputs": []
    },
    {
      "cell_type": "code",
      "source": [
        "print(model.parameters())\n",
        "print(len(list(model.parameters())))\n",
        "print(list(model.parameters())[0])\n",
        "print(list(model.parameters())[1])"
      ],
      "metadata": {
        "colab": {
          "base_uri": "https://localhost:8080/"
        },
        "id": "J3p8S_e71TYK",
        "outputId": "179a20fc-43a7-453a-ec5b-f540b5e12e42"
      },
      "execution_count": 78,
      "outputs": [
        {
          "output_type": "stream",
          "name": "stdout",
          "text": [
            "<generator object Module.parameters at 0x7f4f51be6b20>\n",
            "2\n",
            "Parameter containing:\n",
            "tensor([[-0.9420],\n",
            "        [-0.1962]], requires_grad=True)\n",
            "Parameter containing:\n",
            "tensor([-0.4803, -0.2667], requires_grad=True)\n"
          ]
        }
      ]
    },
    {
      "cell_type": "code",
      "source": [
        "num_epochs = 5\n",
        "\n",
        "iteration = 0\n",
        "\n",
        "for epoch in range(num_epochs):\n",
        "  print(f'Epoch: {epoch}')\n",
        "  for i, (texts, labels) in enumerate(zip(train_data_loader, batch(train_labels, 64))):\n",
        "    labels = torch.LongTensor(labels)\n",
        "    texts = F.normalize(vectorizer.transform(texts).to(torch.float).to_dense()).requires_grad_()\n",
        "\n",
        "    optimizer.zero_grad()\n",
        "    outputs = model(texts)\n",
        "    loss = criterion(outputs, labels)\n",
        "    loss.backward()\n",
        "    optimizer.step()\n",
        "    iteration += 1\n",
        "\n",
        "    if iteration % 50 == 0:\n",
        "      correct = 0\n",
        "      total = 0\n",
        "      for test_texts, test_labels_batch in zip(test_data_loader, batch(test_labels, 64)):\n",
        "        test_texts = F.normalize(vectorizer.transform(test_texts).to(torch.float).to_dense())\n",
        "        test_labels_batch = torch.Tensor(test_labels_batch).to(torch.long)\n",
        "        outputs = model(test_texts)\n",
        "        _, predicted = torch.max(outputs.data, 1)\n",
        "        total += test_labels_batch.size(0)\n",
        "        correct += (predicted == test_labels_batch).sum()\n",
        "      accuracy = 100 * correct / total\n",
        "      print(f'Iteration: {iteration}, Loss: {loss.item()}, Accuracy: {accuracy}')"
      ],
      "metadata": {
        "colab": {
          "base_uri": "https://localhost:8080/"
        },
        "id": "y0XzCwf11mo6",
        "outputId": "74c59d6a-c0e7-469b-8f98-9ba6d75d7016"
      },
      "execution_count": 86,
      "outputs": [
        {
          "output_type": "stream",
          "name": "stdout",
          "text": [
            "Epoch: 0\n"
          ]
        },
        {
          "output_type": "stream",
          "name": "stderr",
          "text": [
            "<ipython-input-71-bd3fa32e360f>:10: UserWarning: Implicit dimension choice for softmax has been deprecated. Change the call to include dim=X as an argument.\n",
            "  out = F.softmax(self.linear(x))\n"
          ]
        },
        {
          "output_type": "stream",
          "name": "stdout",
          "text": [
            "Epoch: 1\n",
            "Epoch: 2\n",
            "Iteration: 50, Loss: 0.6936836242675781, Accuracy: 47.16666793823242\n",
            "Epoch: 3\n",
            "Epoch: 4\n",
            "Iteration: 100, Loss: 0.6926589012145996, Accuracy: 47.16666793823242\n"
          ]
        }
      ]
    }
  ]
}