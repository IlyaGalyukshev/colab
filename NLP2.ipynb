{
  "nbformat": 4,
  "nbformat_minor": 0,
  "metadata": {
    "colab": {
      "provenance": [],
      "authorship_tag": "ABX9TyMqlH9moSXKuyCfYdkZxn1d",
      "include_colab_link": true
    },
    "kernelspec": {
      "name": "python3",
      "display_name": "Python 3"
    },
    "language_info": {
      "name": "python"
    }
  },
  "cells": [
    {
      "cell_type": "markdown",
      "metadata": {
        "id": "view-in-github",
        "colab_type": "text"
      },
      "source": [
        "<a href=\"https://colab.research.google.com/github/IlyaGalyukshev/colab/blob/main/NLP2.ipynb\" target=\"_parent\"><img src=\"https://colab.research.google.com/assets/colab-badge.svg\" alt=\"Open In Colab\"/></a>"
      ]
    },
    {
      "cell_type": "code",
      "execution_count": 1,
      "metadata": {
        "id": "4NKXJpU34VkR"
      },
      "outputs": [],
      "source": [
        "import torch"
      ]
    },
    {
      "cell_type": "code",
      "source": [
        "torch.empty(5, 3)"
      ],
      "metadata": {
        "colab": {
          "base_uri": "https://localhost:8080/"
        },
        "id": "pX8vFqIo4YwN",
        "outputId": "b798cc1e-f496-469a-a07b-44e17d24a697"
      },
      "execution_count": 2,
      "outputs": [
        {
          "output_type": "execute_result",
          "data": {
            "text/plain": [
              "tensor([[ 9.4797e-38,  1.5168e-36,  1.5404e-36],\n",
              "        [ 1.5169e-36,  6.4694e-39,  3.0545e-27],\n",
              "        [ 2.8422e-14,  2.5798e+21,  6.9780e+22],\n",
              "        [ 7.2251e+28,  1.7812e-37, -9.0072e+15],\n",
              "        [ 3.0881e+29,  4.5840e+30,  4.2039e-45]])"
            ]
          },
          "metadata": {},
          "execution_count": 2
        }
      ]
    },
    {
      "cell_type": "code",
      "source": [
        "torch.tensor([1, 2, 3])[0].item()"
      ],
      "metadata": {
        "colab": {
          "base_uri": "https://localhost:8080/"
        },
        "id": "eBeeGIEZ4e9p",
        "outputId": "aa1bf3f4-3860-48de-e006-a10f6e60e335"
      },
      "execution_count": 3,
      "outputs": [
        {
          "output_type": "execute_result",
          "data": {
            "text/plain": [
              "1"
            ]
          },
          "metadata": {},
          "execution_count": 3
        }
      ]
    },
    {
      "cell_type": "code",
      "source": [
        "if torch.cuda.is_available():\n",
        "  device = torch.device('cuda')\n",
        "  x = torch.randint(10, 100, (10, 10), device=device)\n",
        "  print(x)\n",
        "  print(x.to('cpu'))"
      ],
      "metadata": {
        "id": "9ECOdi6H48hz"
      },
      "execution_count": 4,
      "outputs": []
    },
    {
      "cell_type": "code",
      "source": [
        "torch.cuda.is_available()"
      ],
      "metadata": {
        "colab": {
          "base_uri": "https://localhost:8080/"
        },
        "id": "B9-YSePy6N0-",
        "outputId": "589fe6fc-c6d5-48bf-dcea-2777abf17347"
      },
      "execution_count": 5,
      "outputs": [
        {
          "output_type": "execute_result",
          "data": {
            "text/plain": [
              "False"
            ]
          },
          "metadata": {},
          "execution_count": 5
        }
      ]
    },
    {
      "cell_type": "code",
      "source": [
        "x = torch.randn(3, requires_grad=True)\n",
        "y = x * 4\n",
        "\n",
        "while y.data.norm() < 1000:\n",
        "  y *= 2\n",
        "\n",
        "y"
      ],
      "metadata": {
        "colab": {
          "base_uri": "https://localhost:8080/"
        },
        "id": "jRBwiSl1-u0W",
        "outputId": "f4e0f29a-9ebe-44e1-bb40-e230bf7cfe61"
      },
      "execution_count": 6,
      "outputs": [
        {
          "output_type": "execute_result",
          "data": {
            "text/plain": [
              "tensor([ 483.6919,  728.2634, -635.9540], grad_fn=<MulBackward0>)"
            ]
          },
          "metadata": {},
          "execution_count": 6
        }
      ]
    },
    {
      "cell_type": "code",
      "source": [
        "print(x.requires_grad)\n",
        "print((x**2).requires_grad)\n",
        "\n",
        "with torch.no_grad():\n",
        "  print((x**2).requires_grad)"
      ],
      "metadata": {
        "colab": {
          "base_uri": "https://localhost:8080/"
        },
        "id": "b0iZuEA-_GJz",
        "outputId": "732379b5-2150-49f8-ba12-0ece9b7d5d5e"
      },
      "execution_count": 7,
      "outputs": [
        {
          "output_type": "stream",
          "name": "stdout",
          "text": [
            "True\n",
            "True\n",
            "False\n"
          ]
        }
      ]
    },
    {
      "cell_type": "code",
      "source": [
        "print(x.requires_grad)\n",
        "y = x.detach()\n",
        "print(y.requires_grad)"
      ],
      "metadata": {
        "colab": {
          "base_uri": "https://localhost:8080/"
        },
        "id": "kA1nHG9CAMZT",
        "outputId": "2db719ae-c561-4fc7-eb15-ecb4b16578be"
      },
      "execution_count": 8,
      "outputs": [
        {
          "output_type": "stream",
          "name": "stdout",
          "text": [
            "True\n",
            "False\n"
          ]
        }
      ]
    },
    {
      "cell_type": "code",
      "source": [
        "!pip install torchtext"
      ],
      "metadata": {
        "colab": {
          "base_uri": "https://localhost:8080/"
        },
        "id": "WEXJkSqLAmZI",
        "outputId": "dde96743-6e32-4013-c0be-070e9fc19b59"
      },
      "execution_count": 9,
      "outputs": [
        {
          "output_type": "stream",
          "name": "stdout",
          "text": [
            "Requirement already satisfied: torchtext in /usr/local/lib/python3.10/dist-packages (0.16.0)\n",
            "Requirement already satisfied: tqdm in /usr/local/lib/python3.10/dist-packages (from torchtext) (4.66.2)\n",
            "Requirement already satisfied: requests in /usr/local/lib/python3.10/dist-packages (from torchtext) (2.31.0)\n",
            "Requirement already satisfied: torch==2.1.0 in /usr/local/lib/python3.10/dist-packages (from torchtext) (2.1.0+cu121)\n",
            "Requirement already satisfied: numpy in /usr/local/lib/python3.10/dist-packages (from torchtext) (1.25.2)\n",
            "Requirement already satisfied: torchdata==0.7.0 in /usr/local/lib/python3.10/dist-packages (from torchtext) (0.7.0)\n",
            "Requirement already satisfied: filelock in /usr/local/lib/python3.10/dist-packages (from torch==2.1.0->torchtext) (3.13.1)\n",
            "Requirement already satisfied: typing-extensions in /usr/local/lib/python3.10/dist-packages (from torch==2.1.0->torchtext) (4.9.0)\n",
            "Requirement already satisfied: sympy in /usr/local/lib/python3.10/dist-packages (from torch==2.1.0->torchtext) (1.12)\n",
            "Requirement already satisfied: networkx in /usr/local/lib/python3.10/dist-packages (from torch==2.1.0->torchtext) (3.2.1)\n",
            "Requirement already satisfied: jinja2 in /usr/local/lib/python3.10/dist-packages (from torch==2.1.0->torchtext) (3.1.3)\n",
            "Requirement already satisfied: fsspec in /usr/local/lib/python3.10/dist-packages (from torch==2.1.0->torchtext) (2023.6.0)\n",
            "Requirement already satisfied: triton==2.1.0 in /usr/local/lib/python3.10/dist-packages (from torch==2.1.0->torchtext) (2.1.0)\n",
            "Requirement already satisfied: urllib3>=1.25 in /usr/local/lib/python3.10/dist-packages (from torchdata==0.7.0->torchtext) (2.0.7)\n",
            "Requirement already satisfied: charset-normalizer<4,>=2 in /usr/local/lib/python3.10/dist-packages (from requests->torchtext) (3.3.2)\n",
            "Requirement already satisfied: idna<4,>=2.5 in /usr/local/lib/python3.10/dist-packages (from requests->torchtext) (3.6)\n",
            "Requirement already satisfied: certifi>=2017.4.17 in /usr/local/lib/python3.10/dist-packages (from requests->torchtext) (2024.2.2)\n",
            "Requirement already satisfied: MarkupSafe>=2.0 in /usr/local/lib/python3.10/dist-packages (from jinja2->torch==2.1.0->torchtext) (2.1.5)\n",
            "Requirement already satisfied: mpmath>=0.19 in /usr/local/lib/python3.10/dist-packages (from sympy->torch==2.1.0->torchtext) (1.3.0)\n"
          ]
        }
      ]
    },
    {
      "cell_type": "code",
      "source": [
        "from torchtext import data\n",
        "from torch.nn import functional as F\n",
        "import torch"
      ],
      "metadata": {
        "id": "3J9YwB-sArkQ"
      },
      "execution_count": 10,
      "outputs": []
    },
    {
      "cell_type": "code",
      "source": [
        "if torch.cuda.is_available():\n",
        "  DEVICE = torch.device('cuda')\n",
        "else:\n",
        "  DEVICE = torch.device('cpu')\n",
        "\n",
        "DEVICE"
      ],
      "metadata": {
        "colab": {
          "base_uri": "https://localhost:8080/"
        },
        "id": "-YiP503pAyCL",
        "outputId": "2219b160-be29-40e3-fcda-d7ffb2bd50f1"
      },
      "execution_count": 11,
      "outputs": [
        {
          "output_type": "execute_result",
          "data": {
            "text/plain": [
              "device(type='cpu')"
            ]
          },
          "metadata": {},
          "execution_count": 11
        }
      ]
    },
    {
      "cell_type": "code",
      "source": [
        "SEED = 1234\n",
        "\n",
        "torch.manual_seed(SEED)\n",
        "torch.backends.cudnn.deterministic = True"
      ],
      "metadata": {
        "id": "wx3HmzOdBBpR"
      },
      "execution_count": 12,
      "outputs": []
    },
    {
      "cell_type": "code",
      "source": [
        "import nltk\n",
        "\n",
        "nltk.download('movie_reviews')"
      ],
      "metadata": {
        "colab": {
          "base_uri": "https://localhost:8080/"
        },
        "id": "kfmjVFJeBdPl",
        "outputId": "d2454f64-4097-4fb8-c49a-6896db98cfbe"
      },
      "execution_count": 13,
      "outputs": [
        {
          "output_type": "stream",
          "name": "stderr",
          "text": [
            "[nltk_data] Downloading package movie_reviews to /root/nltk_data...\n",
            "[nltk_data]   Unzipping corpora/movie_reviews.zip.\n"
          ]
        },
        {
          "output_type": "execute_result",
          "data": {
            "text/plain": [
              "True"
            ]
          },
          "metadata": {},
          "execution_count": 13
        }
      ]
    },
    {
      "cell_type": "code",
      "source": [
        "import re\n",
        "import os"
      ],
      "metadata": {
        "id": "1UBR1lYuBjG1"
      },
      "execution_count": 14,
      "outputs": []
    },
    {
      "cell_type": "code",
      "source": [
        "POS = 'pos'\n",
        "NEG = 'neg'"
      ],
      "metadata": {
        "id": "9ujmTS8TBpIX"
      },
      "execution_count": 15,
      "outputs": []
    },
    {
      "cell_type": "code",
      "source": [],
      "metadata": {
        "colab": {
          "base_uri": "https://localhost:8080/",
          "height": 35
        },
        "id": "C39GJTog3hGz",
        "outputId": "16d251c4-8041-48c0-d0a0-43e5c1281f54"
      },
      "execution_count": 35,
      "outputs": [
        {
          "output_type": "execute_result",
          "data": {
            "text/plain": [
              "'/root/nltk_data/corpora/movie_reviews/neg'"
            ],
            "application/vnd.google.colaboratory.intrinsic+json": {
              "type": "string"
            }
          },
          "metadata": {},
          "execution_count": 35
        }
      ]
    },
    {
      "cell_type": "code",
      "source": [
        "text_sentiments = (POS, NEG)\n",
        "train_data_list = []\n",
        "test_data_list = []\n",
        "examples = []\n",
        "\n",
        "for sentiment in text_sentiments:\n",
        "  for filename in os.listdir(os.path.join(nltk.corpus.movie_reviews.root.path, sentiment)):\n",
        "    with open(os.path.join(nltk.corpus.movie_reviews.root.path, sentiment, filename), 'r', encoding='utf-8') as file:\n",
        "      examples.append({'text': file.read().strip(), 'sentiment': int(sentiment == POS)})\n",
        "\n",
        "examples[0]"
      ],
      "metadata": {
        "colab": {
          "base_uri": "https://localhost:8080/"
        },
        "id": "40oIYf4OBrOX",
        "outputId": "8aec9c19-d66a-4061-f2e2-120ff7a7e4f4"
      },
      "execution_count": 16,
      "outputs": [
        {
          "output_type": "execute_result",
          "data": {
            "text/plain": [
              "{'text': '\" good will hunting \" is two movies in one : an independent take on the struggle of four boston pals and a traditional hollywood , \" prodigy child \" film complete with upbeats , downfalls , sporadically moving situations and plenty , plenty of shtick . \\nunusually directed by gus van sant , \" good will hunting \" overcomes the banalities of its story by affirming the emergence of fresh , new talent . \\nthe film stars matt damon as will hunting as a mathematical , rebellious whiz kid inadvertly discovered by a college professor ( stellan skarsgard ) , who places him under psychological supervision with robin williams . \\nin a nutshell , that\\'s it . \\nthe core of the \" good will hunting \" is damon , who infuses the script ( co- written by \" chasing amy\\'s \" ben affleck ) with just the right amount of warmth , sensitivity and humanity to accentuate his position as a refreshing multi- talented performer . \\nbut it\\'s the acting that hits the mark , and damon hits all the right notes , flying over robin williams\\' deja-vu role ( \" awakenings \" was written all over this ) as a devastated shrink who has closed all contact with society due to his wife\\'s tragic death . \\ndamon effortlessly blends the carelesness of a gregarious , confused thug with the absorbing ingeniousness of someone like einstein . \\nhis rich , complex character is the pulp of \" good will hunting . \" \\neverything else pales in comparison . \\n \" good will hunting \" exposes the lack of profoundness of deliberately schmaltzy storytelling , but , unlike \" little man tate \" or \" phenomenon \" , it doesn\\'t set up its story in a black and white , point a to point b be manner , but as the saga of an extraordinary individual whose feasibility for success doesn\\'t automatically signify he must make easy , familiar choices , like the protagonists in the aforementioned .',\n",
              " 'sentiment': 1}"
            ]
          },
          "metadata": {},
          "execution_count": 16
        }
      ]
    },
    {
      "cell_type": "code",
      "source": [
        "import pandas as pd"
      ],
      "metadata": {
        "id": "ALAwJZR_DZl0"
      },
      "execution_count": 17,
      "outputs": []
    },
    {
      "cell_type": "code",
      "source": [
        "examples_df = pd.DataFrame(examples)\n",
        "examples_df"
      ],
      "metadata": {
        "colab": {
          "base_uri": "https://localhost:8080/",
          "height": 424
        },
        "id": "EEIqX-LiDfls",
        "outputId": "3d1fce17-b874-41c5-dd2c-8119041fab1a"
      },
      "execution_count": 18,
      "outputs": [
        {
          "output_type": "execute_result",
          "data": {
            "text/plain": [
              "                                                   text  sentiment\n",
              "0     \" good will hunting \" is two movies in one : a...          1\n",
              "1     \" when it's cold , molecules aren't moving . \\...          1\n",
              "2     scarface , a remake of the 1932 film of the sa...          1\n",
              "3     just in time for halloween and christmas , the...          1\n",
              "4     usually when a blockbuster comes out , it's lo...          1\n",
              "...                                                 ...        ...\n",
              "1995  there's a 1 , 000-foot tidal wave at the end o...          0\n",
              "1996  i guess that if a very wild bachelor party had...          0\n",
              "1997  woof ! too bad that leap of faith was the titl...          0\n",
              "1998  i saw this film on christmas day expecting an ...          0\n",
              "1999  hello kids . \\ntoday the movie studios want to...          0\n",
              "\n",
              "[2000 rows x 2 columns]"
            ],
            "text/html": [
              "\n",
              "  <div id=\"df-227bac22-b131-41c8-925a-1109be2f9213\" class=\"colab-df-container\">\n",
              "    <div>\n",
              "<style scoped>\n",
              "    .dataframe tbody tr th:only-of-type {\n",
              "        vertical-align: middle;\n",
              "    }\n",
              "\n",
              "    .dataframe tbody tr th {\n",
              "        vertical-align: top;\n",
              "    }\n",
              "\n",
              "    .dataframe thead th {\n",
              "        text-align: right;\n",
              "    }\n",
              "</style>\n",
              "<table border=\"1\" class=\"dataframe\">\n",
              "  <thead>\n",
              "    <tr style=\"text-align: right;\">\n",
              "      <th></th>\n",
              "      <th>text</th>\n",
              "      <th>sentiment</th>\n",
              "    </tr>\n",
              "  </thead>\n",
              "  <tbody>\n",
              "    <tr>\n",
              "      <th>0</th>\n",
              "      <td>\" good will hunting \" is two movies in one : a...</td>\n",
              "      <td>1</td>\n",
              "    </tr>\n",
              "    <tr>\n",
              "      <th>1</th>\n",
              "      <td>\" when it's cold , molecules aren't moving . \\...</td>\n",
              "      <td>1</td>\n",
              "    </tr>\n",
              "    <tr>\n",
              "      <th>2</th>\n",
              "      <td>scarface , a remake of the 1932 film of the sa...</td>\n",
              "      <td>1</td>\n",
              "    </tr>\n",
              "    <tr>\n",
              "      <th>3</th>\n",
              "      <td>just in time for halloween and christmas , the...</td>\n",
              "      <td>1</td>\n",
              "    </tr>\n",
              "    <tr>\n",
              "      <th>4</th>\n",
              "      <td>usually when a blockbuster comes out , it's lo...</td>\n",
              "      <td>1</td>\n",
              "    </tr>\n",
              "    <tr>\n",
              "      <th>...</th>\n",
              "      <td>...</td>\n",
              "      <td>...</td>\n",
              "    </tr>\n",
              "    <tr>\n",
              "      <th>1995</th>\n",
              "      <td>there's a 1 , 000-foot tidal wave at the end o...</td>\n",
              "      <td>0</td>\n",
              "    </tr>\n",
              "    <tr>\n",
              "      <th>1996</th>\n",
              "      <td>i guess that if a very wild bachelor party had...</td>\n",
              "      <td>0</td>\n",
              "    </tr>\n",
              "    <tr>\n",
              "      <th>1997</th>\n",
              "      <td>woof ! too bad that leap of faith was the titl...</td>\n",
              "      <td>0</td>\n",
              "    </tr>\n",
              "    <tr>\n",
              "      <th>1998</th>\n",
              "      <td>i saw this film on christmas day expecting an ...</td>\n",
              "      <td>0</td>\n",
              "    </tr>\n",
              "    <tr>\n",
              "      <th>1999</th>\n",
              "      <td>hello kids . \\ntoday the movie studios want to...</td>\n",
              "      <td>0</td>\n",
              "    </tr>\n",
              "  </tbody>\n",
              "</table>\n",
              "<p>2000 rows × 2 columns</p>\n",
              "</div>\n",
              "    <div class=\"colab-df-buttons\">\n",
              "\n",
              "  <div class=\"colab-df-container\">\n",
              "    <button class=\"colab-df-convert\" onclick=\"convertToInteractive('df-227bac22-b131-41c8-925a-1109be2f9213')\"\n",
              "            title=\"Convert this dataframe to an interactive table.\"\n",
              "            style=\"display:none;\">\n",
              "\n",
              "  <svg xmlns=\"http://www.w3.org/2000/svg\" height=\"24px\" viewBox=\"0 -960 960 960\">\n",
              "    <path d=\"M120-120v-720h720v720H120Zm60-500h600v-160H180v160Zm220 220h160v-160H400v160Zm0 220h160v-160H400v160ZM180-400h160v-160H180v160Zm440 0h160v-160H620v160ZM180-180h160v-160H180v160Zm440 0h160v-160H620v160Z\"/>\n",
              "  </svg>\n",
              "    </button>\n",
              "\n",
              "  <style>\n",
              "    .colab-df-container {\n",
              "      display:flex;\n",
              "      gap: 12px;\n",
              "    }\n",
              "\n",
              "    .colab-df-convert {\n",
              "      background-color: #E8F0FE;\n",
              "      border: none;\n",
              "      border-radius: 50%;\n",
              "      cursor: pointer;\n",
              "      display: none;\n",
              "      fill: #1967D2;\n",
              "      height: 32px;\n",
              "      padding: 0 0 0 0;\n",
              "      width: 32px;\n",
              "    }\n",
              "\n",
              "    .colab-df-convert:hover {\n",
              "      background-color: #E2EBFA;\n",
              "      box-shadow: 0px 1px 2px rgba(60, 64, 67, 0.3), 0px 1px 3px 1px rgba(60, 64, 67, 0.15);\n",
              "      fill: #174EA6;\n",
              "    }\n",
              "\n",
              "    .colab-df-buttons div {\n",
              "      margin-bottom: 4px;\n",
              "    }\n",
              "\n",
              "    [theme=dark] .colab-df-convert {\n",
              "      background-color: #3B4455;\n",
              "      fill: #D2E3FC;\n",
              "    }\n",
              "\n",
              "    [theme=dark] .colab-df-convert:hover {\n",
              "      background-color: #434B5C;\n",
              "      box-shadow: 0px 1px 3px 1px rgba(0, 0, 0, 0.15);\n",
              "      filter: drop-shadow(0px 1px 2px rgba(0, 0, 0, 0.3));\n",
              "      fill: #FFFFFF;\n",
              "    }\n",
              "  </style>\n",
              "\n",
              "    <script>\n",
              "      const buttonEl =\n",
              "        document.querySelector('#df-227bac22-b131-41c8-925a-1109be2f9213 button.colab-df-convert');\n",
              "      buttonEl.style.display =\n",
              "        google.colab.kernel.accessAllowed ? 'block' : 'none';\n",
              "\n",
              "      async function convertToInteractive(key) {\n",
              "        const element = document.querySelector('#df-227bac22-b131-41c8-925a-1109be2f9213');\n",
              "        const dataTable =\n",
              "          await google.colab.kernel.invokeFunction('convertToInteractive',\n",
              "                                                    [key], {});\n",
              "        if (!dataTable) return;\n",
              "\n",
              "        const docLinkHtml = 'Like what you see? Visit the ' +\n",
              "          '<a target=\"_blank\" href=https://colab.research.google.com/notebooks/data_table.ipynb>data table notebook</a>'\n",
              "          + ' to learn more about interactive tables.';\n",
              "        element.innerHTML = '';\n",
              "        dataTable['output_type'] = 'display_data';\n",
              "        await google.colab.output.renderOutput(dataTable, element);\n",
              "        const docLink = document.createElement('div');\n",
              "        docLink.innerHTML = docLinkHtml;\n",
              "        element.appendChild(docLink);\n",
              "      }\n",
              "    </script>\n",
              "  </div>\n",
              "\n",
              "\n",
              "<div id=\"df-b4e054c6-858f-4180-a8d1-225152793556\">\n",
              "  <button class=\"colab-df-quickchart\" onclick=\"quickchart('df-b4e054c6-858f-4180-a8d1-225152793556')\"\n",
              "            title=\"Suggest charts\"\n",
              "            style=\"display:none;\">\n",
              "\n",
              "<svg xmlns=\"http://www.w3.org/2000/svg\" height=\"24px\"viewBox=\"0 0 24 24\"\n",
              "     width=\"24px\">\n",
              "    <g>\n",
              "        <path d=\"M19 3H5c-1.1 0-2 .9-2 2v14c0 1.1.9 2 2 2h14c1.1 0 2-.9 2-2V5c0-1.1-.9-2-2-2zM9 17H7v-7h2v7zm4 0h-2V7h2v10zm4 0h-2v-4h2v4z\"/>\n",
              "    </g>\n",
              "</svg>\n",
              "  </button>\n",
              "\n",
              "<style>\n",
              "  .colab-df-quickchart {\n",
              "      --bg-color: #E8F0FE;\n",
              "      --fill-color: #1967D2;\n",
              "      --hover-bg-color: #E2EBFA;\n",
              "      --hover-fill-color: #174EA6;\n",
              "      --disabled-fill-color: #AAA;\n",
              "      --disabled-bg-color: #DDD;\n",
              "  }\n",
              "\n",
              "  [theme=dark] .colab-df-quickchart {\n",
              "      --bg-color: #3B4455;\n",
              "      --fill-color: #D2E3FC;\n",
              "      --hover-bg-color: #434B5C;\n",
              "      --hover-fill-color: #FFFFFF;\n",
              "      --disabled-bg-color: #3B4455;\n",
              "      --disabled-fill-color: #666;\n",
              "  }\n",
              "\n",
              "  .colab-df-quickchart {\n",
              "    background-color: var(--bg-color);\n",
              "    border: none;\n",
              "    border-radius: 50%;\n",
              "    cursor: pointer;\n",
              "    display: none;\n",
              "    fill: var(--fill-color);\n",
              "    height: 32px;\n",
              "    padding: 0;\n",
              "    width: 32px;\n",
              "  }\n",
              "\n",
              "  .colab-df-quickchart:hover {\n",
              "    background-color: var(--hover-bg-color);\n",
              "    box-shadow: 0 1px 2px rgba(60, 64, 67, 0.3), 0 1px 3px 1px rgba(60, 64, 67, 0.15);\n",
              "    fill: var(--button-hover-fill-color);\n",
              "  }\n",
              "\n",
              "  .colab-df-quickchart-complete:disabled,\n",
              "  .colab-df-quickchart-complete:disabled:hover {\n",
              "    background-color: var(--disabled-bg-color);\n",
              "    fill: var(--disabled-fill-color);\n",
              "    box-shadow: none;\n",
              "  }\n",
              "\n",
              "  .colab-df-spinner {\n",
              "    border: 2px solid var(--fill-color);\n",
              "    border-color: transparent;\n",
              "    border-bottom-color: var(--fill-color);\n",
              "    animation:\n",
              "      spin 1s steps(1) infinite;\n",
              "  }\n",
              "\n",
              "  @keyframes spin {\n",
              "    0% {\n",
              "      border-color: transparent;\n",
              "      border-bottom-color: var(--fill-color);\n",
              "      border-left-color: var(--fill-color);\n",
              "    }\n",
              "    20% {\n",
              "      border-color: transparent;\n",
              "      border-left-color: var(--fill-color);\n",
              "      border-top-color: var(--fill-color);\n",
              "    }\n",
              "    30% {\n",
              "      border-color: transparent;\n",
              "      border-left-color: var(--fill-color);\n",
              "      border-top-color: var(--fill-color);\n",
              "      border-right-color: var(--fill-color);\n",
              "    }\n",
              "    40% {\n",
              "      border-color: transparent;\n",
              "      border-right-color: var(--fill-color);\n",
              "      border-top-color: var(--fill-color);\n",
              "    }\n",
              "    60% {\n",
              "      border-color: transparent;\n",
              "      border-right-color: var(--fill-color);\n",
              "    }\n",
              "    80% {\n",
              "      border-color: transparent;\n",
              "      border-right-color: var(--fill-color);\n",
              "      border-bottom-color: var(--fill-color);\n",
              "    }\n",
              "    90% {\n",
              "      border-color: transparent;\n",
              "      border-bottom-color: var(--fill-color);\n",
              "    }\n",
              "  }\n",
              "</style>\n",
              "\n",
              "  <script>\n",
              "    async function quickchart(key) {\n",
              "      const quickchartButtonEl =\n",
              "        document.querySelector('#' + key + ' button');\n",
              "      quickchartButtonEl.disabled = true;  // To prevent multiple clicks.\n",
              "      quickchartButtonEl.classList.add('colab-df-spinner');\n",
              "      try {\n",
              "        const charts = await google.colab.kernel.invokeFunction(\n",
              "            'suggestCharts', [key], {});\n",
              "      } catch (error) {\n",
              "        console.error('Error during call to suggestCharts:', error);\n",
              "      }\n",
              "      quickchartButtonEl.classList.remove('colab-df-spinner');\n",
              "      quickchartButtonEl.classList.add('colab-df-quickchart-complete');\n",
              "    }\n",
              "    (() => {\n",
              "      let quickchartButtonEl =\n",
              "        document.querySelector('#df-b4e054c6-858f-4180-a8d1-225152793556 button');\n",
              "      quickchartButtonEl.style.display =\n",
              "        google.colab.kernel.accessAllowed ? 'block' : 'none';\n",
              "    })();\n",
              "  </script>\n",
              "</div>\n",
              "    </div>\n",
              "  </div>\n"
            ],
            "application/vnd.google.colaboratory.intrinsic+json": {
              "type": "dataframe",
              "variable_name": "examples_df",
              "summary": "{\n  \"name\": \"examples_df\",\n  \"rows\": 2000,\n  \"fields\": [\n    {\n      \"column\": \"text\",\n      \"properties\": {\n        \"dtype\": \"string\",\n        \"num_unique_values\": 2000,\n        \"samples\": [\n          \"the characters in jonathan lynn's \\\" the whole nine yards , \\\" yet another in an endless recent string of mob comedies ( 1999's \\\" analyze this \\\" and \\\" mickey blue eyes , \\\" 2000's \\\" gun shy \\\" ) , are rarely ever written as real people , but merely as one-dimensional caricatures . \\nwhen an added layer to one of their personalities is revealed , it is not to service the character development , or to naturally offer up instinctive characterizations , but to accommodate the convoluted plot . \\nin a lightweight comedy , you might say , it is not required to have perfectly realized figures , just as long as they get the job done . \\nunfortunately , for a comedy to work , it has to at least succeed at being funny , and if there was a laugh-o-meter available , i'd guess that it briefly ascended around 2 . 5% of the time for me . \\nsuffice to say , the comedy in \\\" the whole nine yards \\\" works about as well as the broken-down lawnmower in my backyard , and when a giggle surprisingly arises every twenty to thirty minutes , it is by sheer luck . \\nnicholas \\\" oz \\\" oseransky ( matthew perry ) is an amateur dentist living in the quiet suburbs of quebec . \\ntrapped in a hateful marriage with the conniving sophie ( rosanna arquette , delightfully hamming it up with a clearly artificial french-canadian accent ) , one day oz sees that someone is moving into the house next-door . \\nwalking over to greet him , he is horrified to discover it is jimmy \\\" the tulip \\\" tudeski ( bruce willis ) , a former contract killer for the mafia who has just been released from prison . \\nonce getting to know him and becoming his friend , oz is more comfortable with his identity , but for sophie , it means a possible hitman to do away with oz . \\nin her scheme , sophie sends oz to chicago to cash in by informing his old mob boss ( kevin pollak ) about jimmy's whereabouts , but in the process , he falls in love with jimmy's wife , cynthia ( natasha henstridge ) , who is being held hostage . \\nupon return to quebec , and with one contrivance after the next , oz's dental assistant , jill ( amanda peet ) , is overjoyed to discover that he lives beside \\\" the tulip , \\\" and forces him to set up a meeting , since jill's dream in life turns out being a contract killer herself . \\nhave you got all that ? \\nbecause there is more . \\nmuch , much more . \\nand this is a movie that , without credits , is little over 90 minutes and feels only like an hour . \\n \\\" the whole nine yards \\\" is an ultimately unsatisfying and empty-headed excursion into well-worn terrain already set by far superior pictures . \\nhow the cast , most of which are respectable actors , got caught up in such a cliched , deficient film remains a mystery , unless they thought it might aspire to match the congenial screwball zaniness of director lynn's 1985 comedy classic , \\\" clue : the movie . \\\" \\ngoing into the theater , preliminary comparisons between the two movies were unavoidable , but by the twenty-minute mark , when i had chuckled once and laughed nary a single time , it was clear this production was in serious trouble . \\nsince the entire running time depends on the mechanisms of the plot , and the screenplay , inauspiciously written by mitchell kapner , collapses with every failing \\\" comedy \\\" bit , the film is an inevitable dead zone in the way of substance and , frequently , entertainment value . \\n \\\" the whole nine yards \\\" is neither facetious nor , aside from the subplot about jill's shocking eagerness to become a professional hitwoman , inventive , and more often than not , just lies there , the film spinning drearily around and around in the projector , but never igniting any sort of spark . \\na few select actors do what they can with the material , while others make no impact at all . \\non the mediocre side are actually those playing the two central characters : matthew perry and bruce willis . \\nperry , innocuously enjoyable on tv's \\\" friends , \\\" plays the same exact sitcom-style character in all of his movies ( from 1997's \\\" fools rush in \\\" to 1999's \\\" three to tango \\\" ) , and it has become a crushing bore . \\nmeanwhile , willis makes next to no impression , and because of the limited guise of his jimmy \\\" the tulip \\\" tudeski , oftentimes disappears into the background . \\ntheir three female counterparts fare noticeably better . \\nbest of all is natasha henstridge , far more radiant than in the exploitative \\\" species \\\" movies , who adds unanticipated depth and emotion to cynthia . \\nhenstridge has the talent , for sure , to break out of these countless throwaway roles , but first she must fire her agent . \\namanda peet has a lot of fun as the quirkily straightforward and giddy jill , and seems to know more about the art of comedic payoff than even perry who , thus far , has strived on a career based solely on comedy . \\nit is too bad , then , that peet is unnecessarily asked to disrobe in a climactic scene , with the obvious sole purpose being to show off her breasts . \\nfinally , rosanna arquette is awful as sophie , but something tells me that was her purpose , and her clear overacting only aids in brightening up her limited screen time . \\nalso popping up is michael clarke duncan , fresh off an oscar nomination for his role in \\\" the green mile , \\\" as jimmy's largely built friend and fellow killer , frankie figs . \\nwhen \\\" the whole nine yards \\\" eventually sputters to its underwhelming conclusion , one is left pondering how such a film ever got greenlit . \\na great deal of movies of this type have been made in the past , and this one is nothing but a duplication of better films , so what was the point ? \\nwithout a passable screenplay or any notable technical accomplishments , \\\" the whole nine yards \\\" rests solely on the presumed charm of the cast , and half of the actors are not charming at all . \\nnow , what does that tell you ?\",\n          \"\\\" the fugitive \\\" is probably one of the greatest thrillers ever made . \\nit takes realistic , believable characters and tells an exciting story that's totally believable throughout . \\nthis isn't an over-the-top action flick for the sake of action , this is an intelligent adventure story with a real sense of mystery to it and it works perfectly . \\nharrison ford stars as dr . richard kimble , a man who is wrongly accused and convicted of murdering his wife . \\nthe entire premise of the story revolves around this murder , but is not told in a straightforward manner . \\nwe constantly see flashbacks to the murder from kimble's perspective . \\nhints are dropped from various times of the night kimble's wife , helen ( sela ward ) was murdered . \\nwe don't get to see who the killer is until much further into the story . \\nin fact , we might even have a little doubt about kimble's innocence ourselves . \\nthe film doesn't spend much time on the details of kimble's trial and conviction as it is not the point of the story . \\none of the greatest action scenes ensues as we get a botched escape attempt by his fellow inmates which leads to a fantastic train wreck . \\nbut it does not at all seem gratuitous or formulated , it is actually suspenseful to watch . \\nthis movie is so incredible because it's able to take elements like these and make them wholly original and believable . \\ntommy lee jones almost steals the show as deputy sam gerard , a u . s . marshall who is an expert in hunting fugitives . \\nfrom the moment he appears we know a huge game of cat and mouse is about to occur . \\nkimble and gerard are equally matched as there is no way to tell how one is going to outsmart the other . \\nmost of the film deals with richard's complex investigation as he tries to find the one-armed man who killed his wife . \\nford does not have a lot of lines here , so it is stuart and twohy's script and davis's outstanding direction that make the film as great as it is . \\njust watching richard use his keen intelligence and wits , disguising himself , and doing his own detective work is very interesting . \\nwe know just as little as he does as to why his wife was killed , so as he learns more so do we . \\nmeanwhile gerard and his staff are using all their skills to hunt him down . \\nat one point they run into each other and a great chase ensues , but richard is just too smart for them . \\nhe leaves clues for gerard to show his innocence and to help him solve the mystery . \\none of the greatest charms to the film is its sense of humor . \\nthere is a great sense of comradeship between gerard and his two closest deputies cosmo renfo ( pantoliano ) and biggs ( roebuck ) . \\nthey are trying to catch what they believe to be a dangerous murderer , yet they constantly start up small talk with each other , making funny wisecracks and one-liners , but not in any kind of distracting manner . \\nthe final act concludes with another terrific chase . \\nrichard figures out who the killer is and confronts him , and although we get a typical fight scene , the case is far from solved . \\nthe man who ordered the murder has been under our nose all along , and we don't realize this until the end when both richard and gerard put the pieces together . \\nmaybe the finally scene is a bit much , but it still has a believable atmosphere to it . \\nwe're so relieved when justice is served . \\nit's not the plot is that makes \\\" the fugitive \\\" great , it's all the motions the characters go through to make for an intriguing story . \\nwatching a seemingly average man go through as much as this is what makes the movie so adventurous . \\nif only hollywood could produce more movies like this . \\n ( 10/31/96 ) ( 1/29/97 ) ( 6/13/97 ) [see also : \\\" nick of time \\\" ]\",\n          \"14 years ago , national lampoon introduced us to a new family - the griswolds . \\nin 1983 , the griswolds embarked on a cross-country journey with the destination of wally world , a world-renowned theme park in california . \\nwe laughed our heads off as we shared the wild and crazy mishaps the family endured . \\ntwo years later , we watched again as they went to europe , and four years after that , we shared christmas with them . \\nnow , eight more years have passed , and the laughs have done more than die . \\nthey've been cremated . \\nvegas vacation brings back chevy chase as clark griswold , the good intentioned but ill-fated father of two . \\nthe premise is basically the same . \\nclark has a wonderful idea to take his family on a bonding vacation , this time to las vegas . \\nhis wife ellen ( beverly d'angelo ) and teenage kids rusty and audrey ( always played by different actors - this time around , by ethan embry and marisol nichols , respectively ) join him and they soon find themselves in sin city where casinos will make the backdrop for ninety minutes of slapstick . \\nof course a \\\" vacation \\\" movie wouldn't be complete without good ole eddie ( reprised by randy quaid ) , the misfit cousin , showing up at all the wrong times . \\nthere isn't too much of a plot here when it comes right down to it . \\nit's really just a skit movie . \\nthere are a couple of ways to define a skit movie , which is not a real term as far as i know . \\nthe first would be a movie that basically has one running gag for two hours , therefore coming off like a two hour skit . \\nthe second would be a movie that seems comprised of about twenty shorter skits , each lasting about five minutes . \\nvegas vacation comes off like the first . \\na good example of the latter would be last year's black sheep . \\nthe problem with this format is that it becomes old fast , and it doesn't really fit into a movie mold . \\nin these cases , a \\\" plot \\\" , which is generally very thin , is used either as a shameless filler between scenes or to simply add convenience to the gags ( i . e . \\nhave a good vegas joke , make a vegas movie ) . \\nsuch is the case with this movie's mini-plots . \\nclark gets gambling fever and begins spending all of the griswold's money , ellen is on the verge of an affair with wayne newton ( ! ) , rusty has a fake id and is using it to his gambling advantage , and audrey is desperate for fun and winds up joining her cousin vickie ( shae d'lyn ) as an exotic dancer . \\nthe simple fact is : this movie isn't funny . \\nat first , i did find myself chuckling heartily at a couple of little jokes , but when the movie got rolling , my interest suddenly stopped . \\nchase plays clark griswold really well . \\nhe made the character and he is the character . \\nd'angelo , to be quite honest , never was too impressive as ellen , and this movie doesn't show any signs of redemption . \\nas for the two new griswold kids , the word \\\" blah \\\" comes to mind . \\nthe \\\" vacation \\\" series seems out to prove that anybody can play these two characters , the simple reason being that there is nothing to them . \\nthey're so generic , you'll expect the credits to read \\\" girl #1 as audrey griswold \\\" . \\nvegas vacation differs from the first three in the series by more than just laugh factor . \\nyes , it's true that vegas vacation isn't even close to being close to being as funny as the others , which were actually pretty fun in their own doofy ways , but there are a couple of other things that set this one negatively apart . \\nfirst off , why did they leave off the national lampoon's heading on the title ? \\ni couldn't find any reasons why , but maybe the fact is even national lampoon didn't want to be associated with such a lame film . \\nthat's saying a lot , especially when you look at what else the company has proudly presented : loaded weapon 1 , pcu , etc . if they expected this to be another hit , you would assume they'd be proud to tack on the notorious header , but for reasons only we can guess at , like the movie sucking , they didn't . \\nthere is another difference here that makes an obvious impact . \\nthe first three films in the \\\" vacation \\\" series were written by john hughes , a talented writer who is behind several popular films of the 80's including mr . \\nmom , sixteen candles , the breakfast club , weird science , pretty in pink , ferris bueller's day off , planes , trains , and automobiles , and uncle buck . \\nwowzers ! \\nwhat a r ? sum ? ! \\nlooking at the names , you'd think this guy wrote everything that now stands as a movie icon for the 1980's . \\nwell that's not all . \\nthis guy also brought us 90's hits including the home alone series , the remake of 101 dalmatians , dennis the menace , and the current flubber . \\nvegas vacation , however , didn't have john hughes behind it , and the loss is very obvious . \\nthis time around , the script is in the hands of elisa bell , whose only credits thus far include four made-for-tv movies . \\nvegas vacation plays very much like one , and it would actually work much better as a made-for-tv sequel . \\nif this sounds like a wild idea , it's not . \\nrevenge of the nerds third and fourth installments were both television movies , and they seemed like it . \\nvegas vacation would fit in well on the fox network as a 2 : 00 a . m . \\nsunday morning movie , but as a silver screen major motion picture , it's quite out of place . \\nstephen kessler's jejune direction doesn't help things either . \\nhe only makes the film even more tv-movie-ish . \\neach consecutive \\\" vacation \\\" movie has suffered a drop in directing power . \\nwe started the series off with harold ramis , who also directed caddyshack and groundhog day as well as co-writing ghostbusters . \\nnot too bad . \\nthen we had national lampoon's european vacation being directed by amy heckerling , who would go on to direct the hits look who's talking and clueless , as well as having already directed the infamous fast times at ridgemont high . \\nlastly we had national lampoon's christmas vacation , directed by jeremiah s . chechik , who went on to direct the charming benny & joon . \\nkessler , so far , has one title under his belt , the short film birch street gym , which received an oscar nomination in 1992 . \\ngranted that this was his first attempt at a feature length film , we can allow for some amateurish quality , but instead we get a movie straight from the text book - boring , bland , and deeply unoriginal . \\nif you loved the \\\" vacation \\\" movies , and i know * some * of us did , there still isn't anything here worth seeing . \\nif you loved them , don't ruin your good impressions of the series by indulging in this tragic example of cinema ala carte . \\nif you never did like the series , why the need to confirm why ?\"\n        ],\n        \"semantic_type\": \"\",\n        \"description\": \"\"\n      }\n    },\n    {\n      \"column\": \"sentiment\",\n      \"properties\": {\n        \"dtype\": \"number\",\n        \"std\": 0,\n        \"min\": 0,\n        \"max\": 1,\n        \"num_unique_values\": 2,\n        \"samples\": [\n          0,\n          1\n        ],\n        \"semantic_type\": \"\",\n        \"description\": \"\"\n      }\n    }\n  ]\n}"
            }
          },
          "metadata": {},
          "execution_count": 18
        }
      ]
    },
    {
      "cell_type": "code",
      "source": [
        "examples_df = examples_df.sample(frac=1)\n",
        "examples_df"
      ],
      "metadata": {
        "colab": {
          "base_uri": "https://localhost:8080/",
          "height": 424
        },
        "id": "k7G55fTyDn9v",
        "outputId": "06d64fb3-fe0b-40e2-e028-525a6c7bc3fe"
      },
      "execution_count": 19,
      "outputs": [
        {
          "output_type": "execute_result",
          "data": {
            "text/plain": [
              "                                                   text  sentiment\n",
              "798   lisa cholodenko's \" high art , \" is an intelli...          1\n",
              "1608  it used to be that not just anyone could becom...          0\n",
              "461   films adapted from comic books have had plenty...          1\n",
              "481   allen , star of many a brian depalma movie in ...          1\n",
              "280   people who enjoy science fiction are often fac...          1\n",
              "...                                                 ...        ...\n",
              "268   \" a private matter \" is based on the true stor...          1\n",
              "1378  you would think that this film's dismal failur...          0\n",
              "66    ingredients : lost parrot trying to get home ,...          1\n",
              "699   there's an old saying that states something ab...          1\n",
              "786   will hunting ( matt damon ) is a natural geniu...          1\n",
              "\n",
              "[2000 rows x 2 columns]"
            ],
            "text/html": [
              "\n",
              "  <div id=\"df-2cdf817e-8948-4880-adb2-82e6a740f6fa\" class=\"colab-df-container\">\n",
              "    <div>\n",
              "<style scoped>\n",
              "    .dataframe tbody tr th:only-of-type {\n",
              "        vertical-align: middle;\n",
              "    }\n",
              "\n",
              "    .dataframe tbody tr th {\n",
              "        vertical-align: top;\n",
              "    }\n",
              "\n",
              "    .dataframe thead th {\n",
              "        text-align: right;\n",
              "    }\n",
              "</style>\n",
              "<table border=\"1\" class=\"dataframe\">\n",
              "  <thead>\n",
              "    <tr style=\"text-align: right;\">\n",
              "      <th></th>\n",
              "      <th>text</th>\n",
              "      <th>sentiment</th>\n",
              "    </tr>\n",
              "  </thead>\n",
              "  <tbody>\n",
              "    <tr>\n",
              "      <th>798</th>\n",
              "      <td>lisa cholodenko's \" high art , \" is an intelli...</td>\n",
              "      <td>1</td>\n",
              "    </tr>\n",
              "    <tr>\n",
              "      <th>1608</th>\n",
              "      <td>it used to be that not just anyone could becom...</td>\n",
              "      <td>0</td>\n",
              "    </tr>\n",
              "    <tr>\n",
              "      <th>461</th>\n",
              "      <td>films adapted from comic books have had plenty...</td>\n",
              "      <td>1</td>\n",
              "    </tr>\n",
              "    <tr>\n",
              "      <th>481</th>\n",
              "      <td>allen , star of many a brian depalma movie in ...</td>\n",
              "      <td>1</td>\n",
              "    </tr>\n",
              "    <tr>\n",
              "      <th>280</th>\n",
              "      <td>people who enjoy science fiction are often fac...</td>\n",
              "      <td>1</td>\n",
              "    </tr>\n",
              "    <tr>\n",
              "      <th>...</th>\n",
              "      <td>...</td>\n",
              "      <td>...</td>\n",
              "    </tr>\n",
              "    <tr>\n",
              "      <th>268</th>\n",
              "      <td>\" a private matter \" is based on the true stor...</td>\n",
              "      <td>1</td>\n",
              "    </tr>\n",
              "    <tr>\n",
              "      <th>1378</th>\n",
              "      <td>you would think that this film's dismal failur...</td>\n",
              "      <td>0</td>\n",
              "    </tr>\n",
              "    <tr>\n",
              "      <th>66</th>\n",
              "      <td>ingredients : lost parrot trying to get home ,...</td>\n",
              "      <td>1</td>\n",
              "    </tr>\n",
              "    <tr>\n",
              "      <th>699</th>\n",
              "      <td>there's an old saying that states something ab...</td>\n",
              "      <td>1</td>\n",
              "    </tr>\n",
              "    <tr>\n",
              "      <th>786</th>\n",
              "      <td>will hunting ( matt damon ) is a natural geniu...</td>\n",
              "      <td>1</td>\n",
              "    </tr>\n",
              "  </tbody>\n",
              "</table>\n",
              "<p>2000 rows × 2 columns</p>\n",
              "</div>\n",
              "    <div class=\"colab-df-buttons\">\n",
              "\n",
              "  <div class=\"colab-df-container\">\n",
              "    <button class=\"colab-df-convert\" onclick=\"convertToInteractive('df-2cdf817e-8948-4880-adb2-82e6a740f6fa')\"\n",
              "            title=\"Convert this dataframe to an interactive table.\"\n",
              "            style=\"display:none;\">\n",
              "\n",
              "  <svg xmlns=\"http://www.w3.org/2000/svg\" height=\"24px\" viewBox=\"0 -960 960 960\">\n",
              "    <path d=\"M120-120v-720h720v720H120Zm60-500h600v-160H180v160Zm220 220h160v-160H400v160Zm0 220h160v-160H400v160ZM180-400h160v-160H180v160Zm440 0h160v-160H620v160ZM180-180h160v-160H180v160Zm440 0h160v-160H620v160Z\"/>\n",
              "  </svg>\n",
              "    </button>\n",
              "\n",
              "  <style>\n",
              "    .colab-df-container {\n",
              "      display:flex;\n",
              "      gap: 12px;\n",
              "    }\n",
              "\n",
              "    .colab-df-convert {\n",
              "      background-color: #E8F0FE;\n",
              "      border: none;\n",
              "      border-radius: 50%;\n",
              "      cursor: pointer;\n",
              "      display: none;\n",
              "      fill: #1967D2;\n",
              "      height: 32px;\n",
              "      padding: 0 0 0 0;\n",
              "      width: 32px;\n",
              "    }\n",
              "\n",
              "    .colab-df-convert:hover {\n",
              "      background-color: #E2EBFA;\n",
              "      box-shadow: 0px 1px 2px rgba(60, 64, 67, 0.3), 0px 1px 3px 1px rgba(60, 64, 67, 0.15);\n",
              "      fill: #174EA6;\n",
              "    }\n",
              "\n",
              "    .colab-df-buttons div {\n",
              "      margin-bottom: 4px;\n",
              "    }\n",
              "\n",
              "    [theme=dark] .colab-df-convert {\n",
              "      background-color: #3B4455;\n",
              "      fill: #D2E3FC;\n",
              "    }\n",
              "\n",
              "    [theme=dark] .colab-df-convert:hover {\n",
              "      background-color: #434B5C;\n",
              "      box-shadow: 0px 1px 3px 1px rgba(0, 0, 0, 0.15);\n",
              "      filter: drop-shadow(0px 1px 2px rgba(0, 0, 0, 0.3));\n",
              "      fill: #FFFFFF;\n",
              "    }\n",
              "  </style>\n",
              "\n",
              "    <script>\n",
              "      const buttonEl =\n",
              "        document.querySelector('#df-2cdf817e-8948-4880-adb2-82e6a740f6fa button.colab-df-convert');\n",
              "      buttonEl.style.display =\n",
              "        google.colab.kernel.accessAllowed ? 'block' : 'none';\n",
              "\n",
              "      async function convertToInteractive(key) {\n",
              "        const element = document.querySelector('#df-2cdf817e-8948-4880-adb2-82e6a740f6fa');\n",
              "        const dataTable =\n",
              "          await google.colab.kernel.invokeFunction('convertToInteractive',\n",
              "                                                    [key], {});\n",
              "        if (!dataTable) return;\n",
              "\n",
              "        const docLinkHtml = 'Like what you see? Visit the ' +\n",
              "          '<a target=\"_blank\" href=https://colab.research.google.com/notebooks/data_table.ipynb>data table notebook</a>'\n",
              "          + ' to learn more about interactive tables.';\n",
              "        element.innerHTML = '';\n",
              "        dataTable['output_type'] = 'display_data';\n",
              "        await google.colab.output.renderOutput(dataTable, element);\n",
              "        const docLink = document.createElement('div');\n",
              "        docLink.innerHTML = docLinkHtml;\n",
              "        element.appendChild(docLink);\n",
              "      }\n",
              "    </script>\n",
              "  </div>\n",
              "\n",
              "\n",
              "<div id=\"df-c7a4285a-17a3-4cd9-ab35-4f3453f936a8\">\n",
              "  <button class=\"colab-df-quickchart\" onclick=\"quickchart('df-c7a4285a-17a3-4cd9-ab35-4f3453f936a8')\"\n",
              "            title=\"Suggest charts\"\n",
              "            style=\"display:none;\">\n",
              "\n",
              "<svg xmlns=\"http://www.w3.org/2000/svg\" height=\"24px\"viewBox=\"0 0 24 24\"\n",
              "     width=\"24px\">\n",
              "    <g>\n",
              "        <path d=\"M19 3H5c-1.1 0-2 .9-2 2v14c0 1.1.9 2 2 2h14c1.1 0 2-.9 2-2V5c0-1.1-.9-2-2-2zM9 17H7v-7h2v7zm4 0h-2V7h2v10zm4 0h-2v-4h2v4z\"/>\n",
              "    </g>\n",
              "</svg>\n",
              "  </button>\n",
              "\n",
              "<style>\n",
              "  .colab-df-quickchart {\n",
              "      --bg-color: #E8F0FE;\n",
              "      --fill-color: #1967D2;\n",
              "      --hover-bg-color: #E2EBFA;\n",
              "      --hover-fill-color: #174EA6;\n",
              "      --disabled-fill-color: #AAA;\n",
              "      --disabled-bg-color: #DDD;\n",
              "  }\n",
              "\n",
              "  [theme=dark] .colab-df-quickchart {\n",
              "      --bg-color: #3B4455;\n",
              "      --fill-color: #D2E3FC;\n",
              "      --hover-bg-color: #434B5C;\n",
              "      --hover-fill-color: #FFFFFF;\n",
              "      --disabled-bg-color: #3B4455;\n",
              "      --disabled-fill-color: #666;\n",
              "  }\n",
              "\n",
              "  .colab-df-quickchart {\n",
              "    background-color: var(--bg-color);\n",
              "    border: none;\n",
              "    border-radius: 50%;\n",
              "    cursor: pointer;\n",
              "    display: none;\n",
              "    fill: var(--fill-color);\n",
              "    height: 32px;\n",
              "    padding: 0;\n",
              "    width: 32px;\n",
              "  }\n",
              "\n",
              "  .colab-df-quickchart:hover {\n",
              "    background-color: var(--hover-bg-color);\n",
              "    box-shadow: 0 1px 2px rgba(60, 64, 67, 0.3), 0 1px 3px 1px rgba(60, 64, 67, 0.15);\n",
              "    fill: var(--button-hover-fill-color);\n",
              "  }\n",
              "\n",
              "  .colab-df-quickchart-complete:disabled,\n",
              "  .colab-df-quickchart-complete:disabled:hover {\n",
              "    background-color: var(--disabled-bg-color);\n",
              "    fill: var(--disabled-fill-color);\n",
              "    box-shadow: none;\n",
              "  }\n",
              "\n",
              "  .colab-df-spinner {\n",
              "    border: 2px solid var(--fill-color);\n",
              "    border-color: transparent;\n",
              "    border-bottom-color: var(--fill-color);\n",
              "    animation:\n",
              "      spin 1s steps(1) infinite;\n",
              "  }\n",
              "\n",
              "  @keyframes spin {\n",
              "    0% {\n",
              "      border-color: transparent;\n",
              "      border-bottom-color: var(--fill-color);\n",
              "      border-left-color: var(--fill-color);\n",
              "    }\n",
              "    20% {\n",
              "      border-color: transparent;\n",
              "      border-left-color: var(--fill-color);\n",
              "      border-top-color: var(--fill-color);\n",
              "    }\n",
              "    30% {\n",
              "      border-color: transparent;\n",
              "      border-left-color: var(--fill-color);\n",
              "      border-top-color: var(--fill-color);\n",
              "      border-right-color: var(--fill-color);\n",
              "    }\n",
              "    40% {\n",
              "      border-color: transparent;\n",
              "      border-right-color: var(--fill-color);\n",
              "      border-top-color: var(--fill-color);\n",
              "    }\n",
              "    60% {\n",
              "      border-color: transparent;\n",
              "      border-right-color: var(--fill-color);\n",
              "    }\n",
              "    80% {\n",
              "      border-color: transparent;\n",
              "      border-right-color: var(--fill-color);\n",
              "      border-bottom-color: var(--fill-color);\n",
              "    }\n",
              "    90% {\n",
              "      border-color: transparent;\n",
              "      border-bottom-color: var(--fill-color);\n",
              "    }\n",
              "  }\n",
              "</style>\n",
              "\n",
              "  <script>\n",
              "    async function quickchart(key) {\n",
              "      const quickchartButtonEl =\n",
              "        document.querySelector('#' + key + ' button');\n",
              "      quickchartButtonEl.disabled = true;  // To prevent multiple clicks.\n",
              "      quickchartButtonEl.classList.add('colab-df-spinner');\n",
              "      try {\n",
              "        const charts = await google.colab.kernel.invokeFunction(\n",
              "            'suggestCharts', [key], {});\n",
              "      } catch (error) {\n",
              "        console.error('Error during call to suggestCharts:', error);\n",
              "      }\n",
              "      quickchartButtonEl.classList.remove('colab-df-spinner');\n",
              "      quickchartButtonEl.classList.add('colab-df-quickchart-complete');\n",
              "    }\n",
              "    (() => {\n",
              "      let quickchartButtonEl =\n",
              "        document.querySelector('#df-c7a4285a-17a3-4cd9-ab35-4f3453f936a8 button');\n",
              "      quickchartButtonEl.style.display =\n",
              "        google.colab.kernel.accessAllowed ? 'block' : 'none';\n",
              "    })();\n",
              "  </script>\n",
              "</div>\n",
              "    </div>\n",
              "  </div>\n"
            ],
            "application/vnd.google.colaboratory.intrinsic+json": {
              "type": "dataframe",
              "variable_name": "examples_df",
              "summary": "{\n  \"name\": \"examples_df\",\n  \"rows\": 2000,\n  \"fields\": [\n    {\n      \"column\": \"text\",\n      \"properties\": {\n        \"dtype\": \"string\",\n        \"num_unique_values\": 2000,\n        \"samples\": [\n          \"in \\\" the astronaut's wife , \\\" charlize theron plays a young woman with a nervous demeanor , pixie-hairdo and demon spawn unwittingly growing in her belly . \\nif only her name wasn't jillian , the makers of this embarrassing bit of sci-fi shlock could have come up with a far more appropriate title : \\\" rosemary's species . \\\" \\nwhat a shame it is to see such a gifted actress as theron - oscar-worthy in \\\" the devil's advocate \\\" - struggle with the lamest rip-off of a screendom classic in recent memory . \\nok , maybe \\\" the astronaut's wife \\\" deviates from \\\" rosemary's baby \\\" turf for its set-up , which finds our heroine terrorized not by satan's minions but her possessed husband ( johnny depp ) , a shuttle pilot whose mission mishap leaves him , um , a changed man . \\npredictably , he and the missus get it on in a sequence best described as unpleasant , his evil seed impregnating her with twins and realizing that great \\\" bowfinger \\\" line about \\\" alien love . \\\" \\ntheron's \\\" advocate \\\" character faced a similar dilemma , the horror there resonating strongly . \\n \\\" astronaut \\\" provides only artificial anxiety . \\nlast year's equally noodle-headed \\\" species ii \\\" spun a similar premise about the breeding habits of an extraterrestrial on earth , but at least that movie more or less knew it was garbage . \\n \\\" the astronaut's wife \\\" is grave and humor-free , passing its increasingly silly story off as full-fledged serious , right down to an ambiguous finale that isn't even going to satisfy those who've stayed with it thus far . \\nhere's a hint : it involves lots of water , electrical equipment , a special effect from \\\" the abyss \\\" and the tots who doubled up as adam sandler's co-star in \\\" big daddy . \\\" \\ndraw your own conclusions . \\ndirector/writer rand ravich coats the proceedings in dynamic sights masterminded by legendary \\\" e . t . \\\" \\ncinematographer allen daviau , but too often favors the film's visual presentation over the story he's trying to tell . \\nthis bodes horribly for each dramatic development , like the surfacing of a suspicious nasa official ( \\\" speed \\\" 's joe morton ) to instigate jill's slow and stupid comprehension of the truth . \\nhis hyper-erratic behavior is probably supposed to give wife a paranoid edge . \\ninstead , he adds to the phoniness . \\ntheron and depp are certainly beyond this junk and will get other chances to prove themselves this fall - she as part of an imposing ensemble case in the john irving adaptation \\\" cider house rules , \\\" he in the lead of tim burton's eagerly-awaited \\\" sleepy hollow . \\\" \\nundeserving of such talent , \\\" the astronaut's wife \\\" manages to be derivative , dull and uninvolving despite its seemingly ripe potential for unintentional laughs . \\nin space , no one can hear you scream . \\nbut in a movie theatre , everyone can hear you snore .\",\n          \"annie wilson ( cate blanchett ) , a widow who struggles to raise her children in a small town in georgia is asked for help by local authorities in solving the case of a missing woman . \\nannie is something of a psychic , she has involuntary bouts with the supernatural where she can see the past and the future and physically feel the actions happenning to her she envisions . \\nher \\\" gift \\\" leads to the arrest of a nasty wife beater who may or may not have killed the pretty rich girl found in the swamp on his property . \\nin an ultra conservative backwoods town will her testimony based on her psychic visions hold up in court ? \\ndo they even have the right man ? \\nwhat's good about it : \\naside from keanu reeves giving one of the best performances of his career as the loathable redneck donnie barksdale , there is little else going for the film . \\nwhat's not so good about it : \\nlame , unoriginal screenplay . \\npredictable ending . \\nsuspense scenes that are just plain boring . \\nridicously trite characterization makes the entire south out to be ingnorant , hateful goobers . \\nrelentless in its emotional sensationaliztion . \\noverall critique : \\n \\\" the gift \\\" is one of those movies that makes you wonder where you've seen this story before . \\nit's a collection of every cliche and stereotype of the south ever made , and coming from a yankee like me who dislikes the south that's really saying something . \\nfor an established , talented director sam raimi is unable to provide any kind of originality to this film . \\nit's predictable from the first scene , the screenplay is written like a rip-off of a photocopied bootlegged play . \\nyou know that as nasty as the murder suspect is he didn't actually do it . \\nit's no surprise either who the real villain turns out to be and what their motive was . \\nsigh , how trite . \\nfor a supernatural thriller this is neither scary nor intense because it's so cliche . \\n \\\" the gift \\\" is basically a glorified b-movie .\",\n          \"i was fortunate enough to attend an advance screening for the upcoming thriller conspiracy theory . \\nthis was , of course , a big deal for me because reviewing movies is basically just a hobby for me and i never get a chance at something like this . \\nnot only did i get to see an advance screening , i was able to see an advance screening of a * very good * movie . \\nthe very fast-paced film stars mel gibson as jerry fletcher , a fast-talking , witty , comical taxi driver in new york city . \\ngibson's performance is terrific , and his character is similar to that of martin riggs in the lethal weapon films . \\ngibson again teams up with richard donner , as he did in the lethal weapon films and maverick , and this time around , the combination works even better . \\nthe character of jerry fletcher is indeed unique . \\ntry to imagine a toned-downed version of travis bickle who , this time around , is a jittery guy with knowledge of government conspiracy cover-ups . \\nif you can imagine that , then you've basically got jerry fletcher . \\nin many ways , i was surprised by this movie . \\nto begin with , i was surprised at how good it was . \\ndon't get me wrong , it's not going to be accepting any gold trophies next spring , but it was a very enjoyable movie . \\nsecondly , i was surprised at mel gibson's performance . \\nhe provided a fantastic performance . \\nthe previews of this film led me to believe it was an all-out action flick , which after viewing , it was almost the opposite in a certain sense . \\ngibson's character has an almost uncountable number of one-liners , hilarious situations , and his character is one that the audience tends to side with throughout the film . \\nfor instance , jerry's apartment ( and especially his security ) is memorable . \\nand last , i was surprised at how good the plot is . \\nwriter brian helgeland has created a terrific story , and when watching this film , you are left to wonder if all of jerry fletcher's far-fetched ( or so they seem at first ) conspiracy theories are helgeland's own opinions . \\nmel gibson isn't the only stand-out in the film . \\njulia roberts is very good in her performance as alice sutton , the department of justice employee who can't seem to stay away from jerry fletcher , who continually visits alice in hopes that she will do something about his theories . \\nhe also seems obsessed and in love with her . \\nbut whenever he approaches her with another one of his theories , she shrugs him and his beliefs off , continually noting that one day she is going to slap a restraining order on him . \\njerry , obviously determined to continually seek out the truth , continues to research information for his next conspiracy theory , which will be printed in his newsletter ( same title as the movie ) . \\nalthough he only has five subscribers , he puts a large amount of time and effort into his work , and publishes his next edition . \\nvery soon after he does so , he is abducted and tortured by a sinister man who refers to himself as dr . jonas ( patrick stewart ) . \\nafter barely escaping alive , jerry is forced to turn to the only person he can trust : alice sutton . \\nthe remainder of the film is almost always fast-paced and full of action and suspense , with jerry's life being constantly put into jeopardy . \\nand more along the way , the audience ( and alice ) learn more and more about jerry's life . \\nmany things are explained throughout this film , both to the characters and to the audience . \\nfor instance , the meaning of the book \\\" the catcher in the rye \\\" and its ties to assassins , the reason lone gunmen have three names ( e . g . \\nlee harvey oswald and james earl ray ) , and the real truth behind the grateful dead . \\nmake sure listen closely throughout the film , as jerry is constantly throwing out interesting tidbits such as the above . \\ndefinitely , when conspiracy theory hits theaters august 8th , make sure you are standing in line to see it . \\ni am nearly positive everyone should enjoy this film , especially if you are into an action-thriller with witty dialogue and numerous suspenseful situations . \\nand even if you aren't , you should still like this film .\"\n        ],\n        \"semantic_type\": \"\",\n        \"description\": \"\"\n      }\n    },\n    {\n      \"column\": \"sentiment\",\n      \"properties\": {\n        \"dtype\": \"number\",\n        \"std\": 0,\n        \"min\": 0,\n        \"max\": 1,\n        \"num_unique_values\": 2,\n        \"samples\": [\n          0,\n          1\n        ],\n        \"semantic_type\": \"\",\n        \"description\": \"\"\n      }\n    }\n  ]\n}"
            }
          },
          "metadata": {},
          "execution_count": 19
        }
      ]
    },
    {
      "cell_type": "code",
      "source": [
        "train_df = examples_df.sample(frac=0.7)\n",
        "test_df = examples_df.drop(index=train_df.index)\n",
        "train_texts, train_labels = train_df['text'].values, train_df['sentiment'].values\n",
        "test_texts, test_labels = test_df['text'].values, test_df['sentiment'].values"
      ],
      "metadata": {
        "id": "9RhoNnYAD-ZL"
      },
      "execution_count": 20,
      "outputs": []
    },
    {
      "cell_type": "code",
      "source": [
        "from typing import List, Dict, Any, Iterable\n",
        "from collections import Counter, OrderedDict\n",
        "import math\n",
        "from itertools import islice\n",
        "import torch.nn.functional as F"
      ],
      "metadata": {
        "id": "SFMyHEUiEkak"
      },
      "execution_count": 21,
      "outputs": []
    },
    {
      "cell_type": "code",
      "source": [
        "class TfIdfVectorizer:\n",
        "\n",
        "  def __init__(self, lower=True, tokenizer_pattern=r'(?i)\\b[a-z]{2,}\\b'):\n",
        "    self.lower = lower\n",
        "    self.tokenizer_pattern = re.compile(tokenizer_pattern)\n",
        "    self.vocab_df = OrderedDict()\n",
        "\n",
        "  def __tokenize(self, text: str) -> List[str]:\n",
        "    return self.tokenizer_pattern.findall(text.lower() if self.lower else text)\n",
        "\n",
        "  def fit(self, texts: Iterable[str]):\n",
        "    term_id = 0\n",
        "    for doc_idx, doc in enumerate(texts):\n",
        "      tokenized = self.__tokenize(doc)\n",
        "      for term in tokenized:\n",
        "          if term not in self.vocab_df:\n",
        "            self.vocab_df[term] = {}\n",
        "            self.vocab_df[term]['doc_ids'] = {doc_idx}\n",
        "            self.vocab_df[term]['doc_count'] = 1\n",
        "            self.vocab_df[term]['id'] = term_id\n",
        "            term_id += 1\n",
        "          elif doc_idx not in self.vocab_df[term]['doc_ids']:\n",
        "            self.vocab_df[term]['doc_ids'].add(doc_idx)\n",
        "            self.vocab_df[term]['doc_count'] += 1\n",
        "    texts_len = len(texts)\n",
        "    for term in self.vocab_df:\n",
        "      self.vocab_df[term]['idf'] = math.log(texts_len / self.vocab_df[term]['doc_count'])\n",
        "\n",
        "\n",
        "  def transform(self, texts: Iterable[str]) -> torch.sparse_coo_tensor:\n",
        "    values = []\n",
        "    doc_indices = []\n",
        "    term_indices = []\n",
        "    for doc_idx, raw_doc in enumerate(texts):\n",
        "      term_counter = {}\n",
        "      for token in self.__tokenize(raw_doc):\n",
        "        if token in self.vocab_df:\n",
        "          term = self.vocab_df[token]\n",
        "          term_idx = term['id']\n",
        "          term_idf = term['idf']\n",
        "          if term_idx not in term_counter:\n",
        "            term_counter[term_idx] = term_idf\n",
        "          else:\n",
        "            term_counter[term_idx] += term_idf\n",
        "      term_indices.extend(term_counter.keys())\n",
        "      values.extend(term_counter.values())\n",
        "      doc_indices.extend([doc_idx] * len(term_counter))\n",
        "    indices = torch.LongTensor([doc_indices, term_indices], device=DEVICE)\n",
        "    values_tensor = torch.LongTensor(values, device=DEVICE)\n",
        "    tf_idf = torch.sparse_coo_tensor(indices, values_tensor, torch.Size([len(texts), len(self.vocab_df)]), device=DEVICE)\n",
        "    return tf_idf"
      ],
      "metadata": {
        "id": "UuLZRY2dFENl"
      },
      "execution_count": 55,
      "outputs": []
    },
    {
      "cell_type": "code",
      "source": [
        "%%time\n",
        "vectorizer = TfIdfVectorizer()\n",
        "vectorizer.fit(train_texts)"
      ],
      "metadata": {
        "colab": {
          "base_uri": "https://localhost:8080/"
        },
        "id": "yT5XF5BDvm8G",
        "outputId": "e287b285-5149-4f48-d59b-7175b630a0d4"
      },
      "execution_count": 54,
      "outputs": [
        {
          "output_type": "stream",
          "name": "stdout",
          "text": [
            "CPU times: user 2.18 s, sys: 12.4 ms, total: 2.19 s\n",
            "Wall time: 2.27 s\n"
          ]
        }
      ]
    },
    {
      "cell_type": "code",
      "source": [
        "%%time\n",
        "train_data = vectorizer.transform(train_texts)\n",
        "test_data = vectorizer.transform(test_texts)"
      ],
      "metadata": {
        "colab": {
          "base_uri": "https://localhost:8080/"
        },
        "id": "DTewQ0sTvw57",
        "outputId": "a341bbba-95b7-42d6-86b1-41a49cb01f58"
      },
      "execution_count": 24,
      "outputs": [
        {
          "output_type": "stream",
          "name": "stdout",
          "text": [
            "CPU times: user 6.13 s, sys: 12.4 ms, total: 6.14 s\n",
            "Wall time: 9.35 s\n"
          ]
        }
      ]
    },
    {
      "cell_type": "code",
      "source": [
        "from torch.utils.data import Dataset, DataLoader"
      ],
      "metadata": {
        "id": "Ij4_JjmK0CAD"
      },
      "execution_count": 25,
      "outputs": []
    },
    {
      "cell_type": "code",
      "source": [
        "train_data_loader = DataLoader(train_texts, batch_size=64)\n",
        "test_data_loader = DataLoader(test_texts, batch_size=64)"
      ],
      "metadata": {
        "id": "Qi8Vhx5N0Iyc"
      },
      "execution_count": 26,
      "outputs": []
    },
    {
      "cell_type": "code",
      "source": [
        "def batch(iterable, n=1):\n",
        "  l = len(iterable)\n",
        "  for ndx in range(0, l, n):\n",
        "    yield iterable[ndx:min(ndx + n, l)]"
      ],
      "metadata": {
        "id": "FBcRMy-s0W7K"
      },
      "execution_count": 27,
      "outputs": []
    },
    {
      "cell_type": "code",
      "source": [
        "from torch import nn\n",
        "\n",
        "class LogisticRegressionModel(nn.Module):\n",
        "\n",
        "  def __init__(self, input_dim, output_dim):\n",
        "    super(LogisticRegressionModel, self).__init__()\n",
        "    self.linear = nn.Linear(input_dim, output_dim)\n",
        "\n",
        "  def forward(self, x):\n",
        "    out = F.softmax(self.linear(x), dim=1)\n",
        "    return out"
      ],
      "metadata": {
        "id": "Yjs28AUs0guM"
      },
      "execution_count": 28,
      "outputs": []
    },
    {
      "cell_type": "code",
      "source": [
        "model = LogisticRegressionModel(len(vectorizer.vocab_df), 2)"
      ],
      "metadata": {
        "id": "4OVTTcDb0-Ne"
      },
      "execution_count": 29,
      "outputs": []
    },
    {
      "cell_type": "code",
      "source": [
        "criterion = nn.CrossEntropyLoss()"
      ],
      "metadata": {
        "id": "FWIoQLMy1D1u"
      },
      "execution_count": 30,
      "outputs": []
    },
    {
      "cell_type": "code",
      "source": [
        "lr = 0.001\n",
        "optimizer = torch.optim.AdamW(model.parameters(), lr=lr)"
      ],
      "metadata": {
        "id": "hb_El5Ay1Gnl"
      },
      "execution_count": 31,
      "outputs": []
    },
    {
      "cell_type": "code",
      "source": [
        "print(model.parameters())\n",
        "print(len(list(model.parameters())))\n",
        "print(list(model.parameters())[0])\n",
        "print(list(model.parameters())[1])"
      ],
      "metadata": {
        "colab": {
          "base_uri": "https://localhost:8080/"
        },
        "id": "J3p8S_e71TYK",
        "outputId": "c9bfc8d2-b612-4445-d71b-07b29f67ba23"
      },
      "execution_count": 32,
      "outputs": [
        {
          "output_type": "stream",
          "name": "stdout",
          "text": [
            "<generator object Module.parameters at 0x7d78302cd7e0>\n",
            "2\n",
            "Parameter containing:\n",
            "tensor([[-0.9420],\n",
            "        [-0.1962]], requires_grad=True)\n",
            "Parameter containing:\n",
            "tensor([-0.4803, -0.2667], requires_grad=True)\n"
          ]
        }
      ]
    },
    {
      "cell_type": "code",
      "source": [
        "num_epochs = 5\n",
        "\n",
        "iteration = 0\n",
        "\n",
        "for epoch in range(num_epochs):\n",
        "  print(f'Epoch: {epoch}')\n",
        "  for i, (texts, labels) in enumerate(zip(train_data_loader, batch(train_labels, 64))):\n",
        "    labels = torch.LongTensor(labels)\n",
        "    texts = F.normalize(vectorizer.transform(texts).to(torch.float).to_dense()).requires_grad_()\n",
        "\n",
        "    optimizer.zero_grad()\n",
        "    outputs = model(texts)\n",
        "    loss = criterion(outputs, labels)\n",
        "    loss.backward()\n",
        "    optimizer.step()\n",
        "    iteration += 1\n",
        "\n",
        "    if iteration % 50 == 0:\n",
        "      correct = 0\n",
        "      total = 0\n",
        "      for test_texts, test_labels_batch in zip(test_data_loader, batch(test_labels, 64)):\n",
        "        test_texts = F.normalize(vectorizer.transform(test_texts).to(torch.float).to_dense())\n",
        "        test_labels_batch = torch.Tensor(test_labels_batch).to(torch.long)\n",
        "        outputs = model(test_texts)\n",
        "        _, predicted = torch.max(outputs.data, 1)\n",
        "        total += test_labels_batch.size(0)\n",
        "        correct += (predicted == test_labels_batch).sum()\n",
        "      accuracy = 100 * correct / total\n",
        "      print(f'Iteration: {iteration}, Loss: {loss.item()}, Accuracy: {accuracy}')"
      ],
      "metadata": {
        "colab": {
          "base_uri": "https://localhost:8080/"
        },
        "id": "y0XzCwf11mo6",
        "outputId": "ac6893f1-267e-4b7d-ffba-658daf9d6614"
      },
      "execution_count": 33,
      "outputs": [
        {
          "output_type": "stream",
          "name": "stdout",
          "text": [
            "Epoch: 0\n",
            "Epoch: 1\n",
            "Epoch: 2\n",
            "Iteration: 50, Loss: 0.6857889890670776, Accuracy: 48.83333206176758\n",
            "Epoch: 3\n",
            "Epoch: 4\n",
            "Iteration: 100, Loss: 0.6903298497200012, Accuracy: 48.83333206176758\n"
          ]
        }
      ]
    }
  ]
}